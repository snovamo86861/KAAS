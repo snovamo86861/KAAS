{
 "cells": [
  {
   "cell_type": "code",
   "execution_count": 10,
   "metadata": {},
   "outputs": [
    {
     "data": {
      "text/html": [
       "\n",
       "<style>\n",
       "    div#notebook-container    { width: 95%; }\n",
       "    div#menubar-container     { width: 65%; }\n",
       "    div#maintoolbar-container { width: 99%; }\n",
       "</style>\n"
      ],
      "text/plain": [
       "<IPython.core.display.HTML object>"
      ]
     },
     "metadata": {},
     "output_type": "display_data"
    }
   ],
   "source": [
    "from IPython.display import display, HTML\n",
    "\n",
    "display(HTML(data=\"\"\"\n",
    "<style>\n",
    "    div#notebook-container    { width: 95%; }\n",
    "    div#menubar-container     { width: 65%; }\n",
    "    div#maintoolbar-container { width: 99%; }\n",
    "</style>\n",
    "\"\"\"))"
   ]
  },
  {
   "cell_type": "code",
   "execution_count": 2,
   "metadata": {},
   "outputs": [
    {
     "data": {
      "text/html": [
       "&lt;style>.container { width:98% !important; }&lt;/style>"
      ],
      "text/plain": [
       "<IPython.core.display.HTML object>"
      ]
     },
     "metadata": {},
     "output_type": "display_data"
    }
   ],
   "source": [
    "#import libraries\n",
    "%matplotlib inline\n",
    "import scattertext as st\n",
    "import re, io\n",
    "from pprint import pprint\n",
    "import pandas as pd\n",
    "import numpy as np\n",
    "from scipy.stats import rankdata, hmean, norm\n",
    "import spacy\n",
    "import os, pkgutil, json, urllib\n",
    "from urllib.request import urlopen\n",
    "from IPython.display import IFrame\n",
    "from IPython.core.display import display, HTML\n",
    "from scattertext import CorpusFromPandas, produce_scattertext_explorer\n",
    "display(HTML(\"&lt;style>.container { width:98% !important; }&lt;/style>\"))\n",
    "nlp = spacy.load(\"en_core_web_sm\")"
   ]
  },
  {
   "cell_type": "code",
   "execution_count": 3,
   "metadata": {},
   "outputs": [],
   "source": [
    "#define function to clean text\n",
    "def textclean(Text):\n",
    "    Text = Text.str.replace('http\\S+|www.\\S+','', case=False)\n",
    "    Text = Text.str.replace(\"(<br/>)\", \"\")\n",
    "    Text = Text.str.replace('(<a).*(>).*(</a>)', '')\n",
    "    Text = Text.str.replace('(&amp)', '')\n",
    "    Text = Text.str.replace('(&gt)', '')\n",
    "    Text = Text.str.replace('(&lt)', '')\n",
    "    Text = Text.str.replace('(\\xa0)', ' ') \n",
    "    Text = Text.str.replace('[^A-Za-z ]+', ' ')\n",
    "    Text = Text.str.replace('[^A-Za-z ]+', '')\n",
    "    Text = Text.str.replace('—', '')\n",
    "    Text = Text.str.replace('twitter|com|pic', '')\n",
    "    return Text"
   ]
  },
  {
   "cell_type": "code",
   "execution_count": 4,
   "metadata": {},
   "outputs": [
    {
     "data": {
      "text/html": [
       "<div>\n",
       "<style scoped>\n",
       "    .dataframe tbody tr th:only-of-type {\n",
       "        vertical-align: middle;\n",
       "    }\n",
       "\n",
       "    .dataframe tbody tr th {\n",
       "        vertical-align: top;\n",
       "    }\n",
       "\n",
       "    .dataframe thead th {\n",
       "        text-align: right;\n",
       "    }\n",
       "</style>\n",
       "<table border=\"1\" class=\"dataframe\">\n",
       "  <thead>\n",
       "    <tr style=\"text-align: right;\">\n",
       "      <th></th>\n",
       "      <th>Text</th>\n",
       "      <th>Author</th>\n",
       "    </tr>\n",
       "  </thead>\n",
       "  <tbody>\n",
       "    <tr>\n",
       "      <td>0</td>\n",
       "      <td>LOUISIANA   Tomorrow you will head to the poll...</td>\n",
       "      <td>Trump</td>\n",
       "    </tr>\n",
       "    <tr>\n",
       "      <td>1</td>\n",
       "      <td>Louisiana REPUBLICANS thank you for a great ev...</td>\n",
       "      <td>Trump</td>\n",
       "    </tr>\n",
       "    <tr>\n",
       "      <td>2</td>\n",
       "      <td>I never saw so many subpoenas   ShannonBream ...</td>\n",
       "      <td>Trump</td>\n",
       "    </tr>\n",
       "    <tr>\n",
       "      <td>3</td>\n",
       "      <td>So funny to watch Steve Kerr grovel and pander...</td>\n",
       "      <td>Trump</td>\n",
       "    </tr>\n",
       "    <tr>\n",
       "      <td>4</td>\n",
       "      <td>WHERE S HUNTER</td>\n",
       "      <td>Trump</td>\n",
       "    </tr>\n",
       "    <tr>\n",
       "      <td>...</td>\n",
       "      <td>...</td>\n",
       "      <td>...</td>\n",
       "    </tr>\n",
       "    <tr>\n",
       "      <td>15248</td>\n",
       "      <td>Well the year has officially begun  I have man...</td>\n",
       "      <td>Trump</td>\n",
       "    </tr>\n",
       "    <tr>\n",
       "      <td>15249</td>\n",
       "      <td>sprinklermanus   CNN  realDonaldTrump they re...</td>\n",
       "      <td>Trump</td>\n",
       "    </tr>\n",
       "    <tr>\n",
       "      <td>15250</td>\n",
       "      <td>jallenaip  Hillary said she was in a Fog of W...</td>\n",
       "      <td>Trump</td>\n",
       "    </tr>\n",
       "    <tr>\n",
       "      <td>15251</td>\n",
       "      <td>Happy New Year from  MarALago  Thank you to my...</td>\n",
       "      <td>Trump</td>\n",
       "    </tr>\n",
       "    <tr>\n",
       "      <td>15252</td>\n",
       "      <td>HappyNewYearAmerica</td>\n",
       "      <td>Trump</td>\n",
       "    </tr>\n",
       "  </tbody>\n",
       "</table>\n",
       "<p>12631 rows × 2 columns</p>\n",
       "</div>"
      ],
      "text/plain": [
       "                                                    Text Author\n",
       "0      LOUISIANA   Tomorrow you will head to the poll...  Trump\n",
       "1      Louisiana REPUBLICANS thank you for a great ev...  Trump\n",
       "2       I never saw so many subpoenas   ShannonBream ...  Trump\n",
       "3      So funny to watch Steve Kerr grovel and pander...  Trump\n",
       "4                                        WHERE S HUNTER   Trump\n",
       "...                                                  ...    ...\n",
       "15248  Well the year has officially begun  I have man...  Trump\n",
       "15249   sprinklermanus   CNN  realDonaldTrump they re...  Trump\n",
       "15250   jallenaip  Hillary said she was in a Fog of W...  Trump\n",
       "15251  Happy New Year from  MarALago  Thank you to my...  Trump\n",
       "15252                              HappyNewYearAmerica    Trump\n",
       "\n",
       "[12631 rows x 2 columns]"
      ]
     },
     "execution_count": 4,
     "metadata": {},
     "output_type": "execute_result"
    }
   ],
   "source": [
    "#read in tweets and clean text\n",
    "df_tweets_djt = pd.read_csv(\"Data/trump_tweets.csv\") \n",
    "df_tweets_djt = df_tweets_djt[~df_tweets_djt['text'].str.contains(\"RT @\")]\n",
    "df_tweets_djt['text'] = textclean(df_tweets_djt['text'])\n",
    "df_tweets_djt.rename(columns={'text':'Text'}, inplace=True)\n",
    "df_tweets_djt = df_tweets_djt.drop(columns=['created_at', 'retweet_count', 'favorite_count','is_retweet','id_str','source'])\n",
    "#add column to note the author of the tweet\n",
    "df_tweets_djt['Author'] = 'Trump'\n",
    "df_tweets_djt"
   ]
  },
  {
   "cell_type": "code",
   "execution_count": 5,
   "metadata": {},
   "outputs": [
    {
     "data": {
      "text/html": [
       "<div>\n",
       "<style scoped>\n",
       "    .dataframe tbody tr th:only-of-type {\n",
       "        vertical-align: middle;\n",
       "    }\n",
       "\n",
       "    .dataframe tbody tr th {\n",
       "        vertical-align: top;\n",
       "    }\n",
       "\n",
       "    .dataframe thead th {\n",
       "        text-align: right;\n",
       "    }\n",
       "</style>\n",
       "<table border=\"1\" class=\"dataframe\">\n",
       "  <thead>\n",
       "    <tr style=\"text-align: right;\">\n",
       "      <th></th>\n",
       "      <th>Text</th>\n",
       "      <th>Author</th>\n",
       "    </tr>\n",
       "  </thead>\n",
       "  <tbody>\n",
       "    <tr>\n",
       "      <td>0</td>\n",
       "      <td>My heart goes out to the victims and their fam...</td>\n",
       "      <td>Obama</td>\n",
       "    </tr>\n",
       "    <tr>\n",
       "      <td>1</td>\n",
       "      <td>Chuck Berry rolled over everyone who came befo...</td>\n",
       "      <td>Obama</td>\n",
       "    </tr>\n",
       "    <tr>\n",
       "      <td>2</td>\n",
       "      <td>On International Women s Day   MichelleObama a...</td>\n",
       "      <td>Obama</td>\n",
       "    </tr>\n",
       "    <tr>\n",
       "      <td>3</td>\n",
       "      <td>Humbled to be recognized by a family with a le...</td>\n",
       "      <td>Obama</td>\n",
       "    </tr>\n",
       "    <tr>\n",
       "      <td>4</td>\n",
       "      <td>We asked  You answered</td>\n",
       "      <td>Obama</td>\n",
       "    </tr>\n",
       "    <tr>\n",
       "      <td>...</td>\n",
       "      <td>...</td>\n",
       "      <td>...</td>\n",
       "    </tr>\n",
       "    <tr>\n",
       "      <td>6729</td>\n",
       "      <td>reasons that   people are voting for Preside...</td>\n",
       "      <td>Obama</td>\n",
       "    </tr>\n",
       "    <tr>\n",
       "      <td>6730</td>\n",
       "      <td>At the final rally of his final campaign last ...</td>\n",
       "      <td>Obama</td>\n",
       "    </tr>\n",
       "    <tr>\n",
       "      <td>6731</td>\n",
       "      <td>It s Election Day  This is your last chance to...</td>\n",
       "      <td>Obama</td>\n",
       "    </tr>\n",
       "    <tr>\n",
       "      <td>6732</td>\n",
       "      <td>Election Day is here  Confirm your polling pla...</td>\n",
       "      <td>Obama</td>\n",
       "    </tr>\n",
       "    <tr>\n",
       "      <td>6733</td>\n",
       "      <td>President Obama tells the story of  Fired up  ...</td>\n",
       "      <td>Obama</td>\n",
       "    </tr>\n",
       "  </tbody>\n",
       "</table>\n",
       "<p>6730 rows × 2 columns</p>\n",
       "</div>"
      ],
      "text/plain": [
       "                                                   Text Author\n",
       "0     My heart goes out to the victims and their fam...  Obama\n",
       "1     Chuck Berry rolled over everyone who came befo...  Obama\n",
       "2     On International Women s Day   MichelleObama a...  Obama\n",
       "3     Humbled to be recognized by a family with a le...  Obama\n",
       "4                             We asked  You answered     Obama\n",
       "...                                                 ...    ...\n",
       "6729    reasons that   people are voting for Preside...  Obama\n",
       "6730  At the final rally of his final campaign last ...  Obama\n",
       "6731  It s Election Day  This is your last chance to...  Obama\n",
       "6732  Election Day is here  Confirm your polling pla...  Obama\n",
       "6733  President Obama tells the story of  Fired up  ...  Obama\n",
       "\n",
       "[6730 rows x 2 columns]"
      ]
     },
     "execution_count": 5,
     "metadata": {},
     "output_type": "execute_result"
    }
   ],
   "source": [
    "#read in obama tweets and clean the text\n",
    "df_tweets_dho = pd.read_csv(\"Data/obama_tweets.csv\") \n",
    "df_tweets_dho = df_tweets_dho[~df_tweets_dho['Text'].str.contains(\"RT @\")]\n",
    "df_tweets_dho['Text'] = textclean(df_tweets_dho['Text'])\n",
    "df_tweets_dho = df_tweets_dho.drop(columns=['Date', 'Retweets', 'Tweet ID','Favorites'])\n",
    "#add column to note the author of the tweet\n",
    "df_tweets_dho['Author'] = 'Obama'\n",
    "df_tweets_dho"
   ]
  },
  {
   "cell_type": "code",
   "execution_count": 6,
   "metadata": {},
   "outputs": [
    {
     "data": {
      "text/html": [
       "<div>\n",
       "<style scoped>\n",
       "    .dataframe tbody tr th:only-of-type {\n",
       "        vertical-align: middle;\n",
       "    }\n",
       "\n",
       "    .dataframe tbody tr th {\n",
       "        vertical-align: top;\n",
       "    }\n",
       "\n",
       "    .dataframe thead th {\n",
       "        text-align: right;\n",
       "    }\n",
       "</style>\n",
       "<table border=\"1\" class=\"dataframe\">\n",
       "  <thead>\n",
       "    <tr style=\"text-align: right;\">\n",
       "      <th></th>\n",
       "      <th>Text</th>\n",
       "      <th>Author</th>\n",
       "    </tr>\n",
       "  </thead>\n",
       "  <tbody>\n",
       "    <tr>\n",
       "      <td>0</td>\n",
       "      <td>LOUISIANA   Tomorrow you will head to the poll...</td>\n",
       "      <td>Trump</td>\n",
       "    </tr>\n",
       "    <tr>\n",
       "      <td>1</td>\n",
       "      <td>Louisiana REPUBLICANS thank you for a great ev...</td>\n",
       "      <td>Trump</td>\n",
       "    </tr>\n",
       "    <tr>\n",
       "      <td>2</td>\n",
       "      <td>I never saw so many subpoenas   ShannonBream ...</td>\n",
       "      <td>Trump</td>\n",
       "    </tr>\n",
       "    <tr>\n",
       "      <td>3</td>\n",
       "      <td>So funny to watch Steve Kerr grovel and pander...</td>\n",
       "      <td>Trump</td>\n",
       "    </tr>\n",
       "    <tr>\n",
       "      <td>4</td>\n",
       "      <td>WHERE S HUNTER</td>\n",
       "      <td>Trump</td>\n",
       "    </tr>\n",
       "    <tr>\n",
       "      <td>...</td>\n",
       "      <td>...</td>\n",
       "      <td>...</td>\n",
       "    </tr>\n",
       "    <tr>\n",
       "      <td>19356</td>\n",
       "      <td>reasons that   people are voting for Preside...</td>\n",
       "      <td>Obama</td>\n",
       "    </tr>\n",
       "    <tr>\n",
       "      <td>19357</td>\n",
       "      <td>At the final rally of his final campaign last ...</td>\n",
       "      <td>Obama</td>\n",
       "    </tr>\n",
       "    <tr>\n",
       "      <td>19358</td>\n",
       "      <td>It s Election Day  This is your last chance to...</td>\n",
       "      <td>Obama</td>\n",
       "    </tr>\n",
       "    <tr>\n",
       "      <td>19359</td>\n",
       "      <td>Election Day is here  Confirm your polling pla...</td>\n",
       "      <td>Obama</td>\n",
       "    </tr>\n",
       "    <tr>\n",
       "      <td>19360</td>\n",
       "      <td>President Obama tells the story of  Fired up  ...</td>\n",
       "      <td>Obama</td>\n",
       "    </tr>\n",
       "  </tbody>\n",
       "</table>\n",
       "<p>19361 rows × 2 columns</p>\n",
       "</div>"
      ],
      "text/plain": [
       "                                                    Text Author\n",
       "0      LOUISIANA   Tomorrow you will head to the poll...  Trump\n",
       "1      Louisiana REPUBLICANS thank you for a great ev...  Trump\n",
       "2       I never saw so many subpoenas   ShannonBream ...  Trump\n",
       "3      So funny to watch Steve Kerr grovel and pander...  Trump\n",
       "4                                        WHERE S HUNTER   Trump\n",
       "...                                                  ...    ...\n",
       "19356    reasons that   people are voting for Preside...  Obama\n",
       "19357  At the final rally of his final campaign last ...  Obama\n",
       "19358  It s Election Day  This is your last chance to...  Obama\n",
       "19359  Election Day is here  Confirm your polling pla...  Obama\n",
       "19360  President Obama tells the story of  Fired up  ...  Obama\n",
       "\n",
       "[19361 rows x 2 columns]"
      ]
     },
     "execution_count": 6,
     "metadata": {},
     "output_type": "execute_result"
    }
   ],
   "source": [
    "#combine tweets into 1 dataframe\n",
    "df_combine = df_tweets_djt.append(df_tweets_dho,ignore_index=True)\n",
    "df_combine"
   ]
  },
  {
   "cell_type": "code",
   "execution_count": 7,
   "metadata": {},
   "outputs": [],
   "source": [
    "#parse the next in spacy and put it into a new column\n",
    "df_combine['Parsed'] = df_combine.Text.apply(nlp)"
   ]
  },
  {
   "cell_type": "code",
   "execution_count": 8,
   "metadata": {},
   "outputs": [],
   "source": [
    "#use scatter text to build a corpus of words\n",
    "corpus = st.CorpusFromParsedDocuments(df_combine, category_col='Author', parsed_col='Parsed').build()"
   ]
  },
  {
   "cell_type": "code",
   "execution_count": 9,
   "metadata": {},
   "outputs": [
    {
     "name": "stderr",
     "output_type": "stream",
     "text": [
      "C:\\ProgramData\\Anaconda3\\lib\\site-packages\\scattertext\\TermDocMatrixWithoutCategories.py:154: FutureWarning: \n",
      ".ix is deprecated. Please use\n",
      ".loc for label based indexing or\n",
      ".iloc for positional indexing\n",
      "\n",
      "See the documentation here:\n",
      "http://pandas.pydata.org/pandas-docs/stable/user_guide/indexing.html#ix-indexer-is-deprecated\n",
      "  corpus_unigram_freq = corpus_freq_df.ix[[term for term\n"
     ]
    },
    {
     "data": {
      "text/html": [
       "\n",
       "        <iframe\n",
       "            width=\"1200\"\n",
       "            height=\"700\"\n",
       "            src=\"Data/Obama_Trump.html\"\n",
       "            frameborder=\"0\"\n",
       "            allowfullscreen\n",
       "        ></iframe>\n",
       "        "
      ],
      "text/plain": [
       "<IPython.lib.display.IFrame at 0x200d6baab70>"
      ]
     },
     "execution_count": 9,
     "metadata": {},
     "output_type": "execute_result"
    }
   ],
   "source": [
    "#plot scatter text. Note this can take up to 5 minutes. \n",
    "html = produce_scattertext_explorer(corpus,\n",
    "                                    category='Obama',\n",
    "                                    category_name='Obama',\n",
    "                                    not_category_name='Trump',\n",
    "                                    width_in_pixels=1000,\n",
    "                                    minimum_term_frequency=5,\n",
    "                                    show_characteristic=False,\n",
    "                                    term_significance = st.LogOddsRatioUninformativeDirichletPrior())\n",
    "                                    #metadata=df_combine['Text'])\n",
    "file_name = 'Data/Obama_Trump.html'\n",
    "open(file_name, 'wb').write(html.encode('utf-8'))\n",
    "IFrame(src=file_name, width = 1200, height=700)\n"
   ]
  },
  {
   "cell_type": "code",
   "execution_count": null,
   "metadata": {},
   "outputs": [],
   "source": []
  }
 ],
 "metadata": {
  "kernelspec": {
   "display_name": "Python 3",
   "language": "python",
   "name": "python3"
  },
  "language_info": {
   "codemirror_mode": {
    "name": "ipython",
    "version": 3
   },
   "file_extension": ".py",
   "mimetype": "text/x-python",
   "name": "python",
   "nbconvert_exporter": "python",
   "pygments_lexer": "ipython3",
   "version": "3.7.3"
  }
 },
 "nbformat": 4,
 "nbformat_minor": 4
}
