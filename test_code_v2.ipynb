{
 "cells": [
  {
   "cell_type": "code",
   "execution_count": 1,
   "metadata": {},
   "outputs": [
    {
     "data": {
      "text/html": [
       "<div>\n",
       "<style scoped>\n",
       "    .dataframe tbody tr th:only-of-type {\n",
       "        vertical-align: middle;\n",
       "    }\n",
       "\n",
       "    .dataframe tbody tr th {\n",
       "        vertical-align: top;\n",
       "    }\n",
       "\n",
       "    .dataframe thead th {\n",
       "        text-align: right;\n",
       "    }\n",
       "</style>\n",
       "<table border=\"1\" class=\"dataframe\">\n",
       "  <thead>\n",
       "    <tr style=\"text-align: right;\">\n",
       "      <th></th>\n",
       "      <th>source</th>\n",
       "      <th>text</th>\n",
       "      <th>created_at</th>\n",
       "      <th>retweet_count</th>\n",
       "      <th>favorite_count</th>\n",
       "      <th>is_retweet</th>\n",
       "      <th>id_str</th>\n",
       "    </tr>\n",
       "  </thead>\n",
       "  <tbody>\n",
       "    <tr>\n",
       "      <td>0</td>\n",
       "      <td>Twitter for iPhone</td>\n",
       "      <td>LOUISIANA — Tomorrow you will head to the poll...</td>\n",
       "      <td>10/12/2019 3:49</td>\n",
       "      <td>9706</td>\n",
       "      <td>35425</td>\n",
       "      <td>False</td>\n",
       "      <td>1.182870e+18</td>\n",
       "    </tr>\n",
       "    <tr>\n",
       "      <td>1</td>\n",
       "      <td>Twitter for iPhone</td>\n",
       "      <td>Louisiana REPUBLICANS thank you for a great ev...</td>\n",
       "      <td>10/12/2019 3:48</td>\n",
       "      <td>10626</td>\n",
       "      <td>40844</td>\n",
       "      <td>False</td>\n",
       "      <td>1.182870e+18</td>\n",
       "    </tr>\n",
       "    <tr>\n",
       "      <td>2</td>\n",
       "      <td>Twitter for iPhone</td>\n",
       "      <td>“I never saw so many subpoenas!” @ShannonBream...</td>\n",
       "      <td>10/12/2019 3:25</td>\n",
       "      <td>15523</td>\n",
       "      <td>56841</td>\n",
       "      <td>False</td>\n",
       "      <td>1.182860e+18</td>\n",
       "    </tr>\n",
       "    <tr>\n",
       "      <td>3</td>\n",
       "      <td>Twitter for iPhone</td>\n",
       "      <td>So funny to watch Steve Kerr grovel and pander...</td>\n",
       "      <td>10/12/2019 3:25</td>\n",
       "      <td>20293</td>\n",
       "      <td>99524</td>\n",
       "      <td>False</td>\n",
       "      <td>1.182860e+18</td>\n",
       "    </tr>\n",
       "    <tr>\n",
       "      <td>4</td>\n",
       "      <td>Twitter for iPhone</td>\n",
       "      <td>WHERE’S HUNTER?</td>\n",
       "      <td>10/12/2019 2:58</td>\n",
       "      <td>26280</td>\n",
       "      <td>110222</td>\n",
       "      <td>False</td>\n",
       "      <td>1.182850e+18</td>\n",
       "    </tr>\n",
       "  </tbody>\n",
       "</table>\n",
       "</div>"
      ],
      "text/plain": [
       "               source                                               text  \\\n",
       "0  Twitter for iPhone  LOUISIANA — Tomorrow you will head to the poll...   \n",
       "1  Twitter for iPhone  Louisiana REPUBLICANS thank you for a great ev...   \n",
       "2  Twitter for iPhone  “I never saw so many subpoenas!” @ShannonBream...   \n",
       "3  Twitter for iPhone  So funny to watch Steve Kerr grovel and pander...   \n",
       "4  Twitter for iPhone                                    WHERE’S HUNTER?   \n",
       "\n",
       "        created_at  retweet_count  favorite_count is_retweet        id_str  \n",
       "0  10/12/2019 3:49           9706           35425      False  1.182870e+18  \n",
       "1  10/12/2019 3:48          10626           40844      False  1.182870e+18  \n",
       "2  10/12/2019 3:25          15523           56841      False  1.182860e+18  \n",
       "3  10/12/2019 3:25          20293           99524      False  1.182860e+18  \n",
       "4  10/12/2019 2:58          26280          110222      False  1.182850e+18  "
      ]
     },
     "execution_count": 1,
     "metadata": {},
     "output_type": "execute_result"
    }
   ],
   "source": [
    "import pandas as pd\n",
    "import numpy as np\n",
    "from datetime import datetime, timedelta\n",
    "import matplotlib.pyplot as plt\n",
    "from tabulate import tabulate\n",
    "import iexfinance as iex\n",
    "%matplotlib inline\n",
    "\n",
    "from vaderSentiment.vaderSentiment import SentimentIntensityAnalyzer\n",
    "analyzer = SentimentIntensityAnalyzer()\n",
    "df = pd.read_csv(\"trump_tweets.csv\") \n",
    "df.head()"
   ]
  },
  {
   "cell_type": "code",
   "execution_count": 2,
   "metadata": {},
   "outputs": [
    {
     "data": {
      "text/html": [
       "<div>\n",
       "<style scoped>\n",
       "    .dataframe tbody tr th:only-of-type {\n",
       "        vertical-align: middle;\n",
       "    }\n",
       "\n",
       "    .dataframe tbody tr th {\n",
       "        vertical-align: top;\n",
       "    }\n",
       "\n",
       "    .dataframe thead th {\n",
       "        text-align: right;\n",
       "    }\n",
       "</style>\n",
       "<table border=\"1\" class=\"dataframe\">\n",
       "  <thead>\n",
       "    <tr style=\"text-align: right;\">\n",
       "      <th></th>\n",
       "      <th>text</th>\n",
       "      <th>date</th>\n",
       "      <th>retweet_count</th>\n",
       "      <th>favorite_count</th>\n",
       "      <th>is_retweet</th>\n",
       "      <th>Negative</th>\n",
       "      <th>Neutral</th>\n",
       "      <th>Postive</th>\n",
       "      <th>Compound</th>\n",
       "    </tr>\n",
       "  </thead>\n",
       "  <tbody>\n",
       "    <tr>\n",
       "      <td>0</td>\n",
       "      <td>LOUISIANA — Tomorrow you will head to the poll...</td>\n",
       "      <td>2019-10-12 03:49:00</td>\n",
       "      <td>9706</td>\n",
       "      <td>35425</td>\n",
       "      <td>False</td>\n",
       "      <td>0.000</td>\n",
       "      <td>0.876</td>\n",
       "      <td>0.124</td>\n",
       "      <td>0.6892</td>\n",
       "    </tr>\n",
       "    <tr>\n",
       "      <td>1</td>\n",
       "      <td>Louisiana REPUBLICANS thank you for a great ev...</td>\n",
       "      <td>2019-10-12 03:48:00</td>\n",
       "      <td>10626</td>\n",
       "      <td>40844</td>\n",
       "      <td>False</td>\n",
       "      <td>0.057</td>\n",
       "      <td>0.691</td>\n",
       "      <td>0.252</td>\n",
       "      <td>0.8945</td>\n",
       "    </tr>\n",
       "    <tr>\n",
       "      <td>2</td>\n",
       "      <td>“I never saw so many subpoenas!” @ShannonBream...</td>\n",
       "      <td>2019-10-12 03:25:00</td>\n",
       "      <td>15523</td>\n",
       "      <td>56841</td>\n",
       "      <td>False</td>\n",
       "      <td>0.299</td>\n",
       "      <td>0.701</td>\n",
       "      <td>0.000</td>\n",
       "      <td>-0.9284</td>\n",
       "    </tr>\n",
       "    <tr>\n",
       "      <td>3</td>\n",
       "      <td>So funny to watch Steve Kerr grovel and pander...</td>\n",
       "      <td>2019-10-12 03:25:00</td>\n",
       "      <td>20293</td>\n",
       "      <td>99524</td>\n",
       "      <td>False</td>\n",
       "      <td>0.189</td>\n",
       "      <td>0.687</td>\n",
       "      <td>0.123</td>\n",
       "      <td>-0.5266</td>\n",
       "    </tr>\n",
       "    <tr>\n",
       "      <td>4</td>\n",
       "      <td>WHERE’S HUNTER?</td>\n",
       "      <td>2019-10-12 02:58:00</td>\n",
       "      <td>26280</td>\n",
       "      <td>110222</td>\n",
       "      <td>False</td>\n",
       "      <td>0.000</td>\n",
       "      <td>1.000</td>\n",
       "      <td>0.000</td>\n",
       "      <td>0.0000</td>\n",
       "    </tr>\n",
       "    <tr>\n",
       "      <td>...</td>\n",
       "      <td>...</td>\n",
       "      <td>...</td>\n",
       "      <td>...</td>\n",
       "      <td>...</td>\n",
       "      <td>...</td>\n",
       "      <td>...</td>\n",
       "      <td>...</td>\n",
       "      <td>...</td>\n",
       "      <td>...</td>\n",
       "    </tr>\n",
       "    <tr>\n",
       "      <td>15248</td>\n",
       "      <td>Well the year has officially begun. I have man...</td>\n",
       "      <td>2016-01-01 23:00:00</td>\n",
       "      <td>2642</td>\n",
       "      <td>8495</td>\n",
       "      <td>False</td>\n",
       "      <td>0.104</td>\n",
       "      <td>0.693</td>\n",
       "      <td>0.203</td>\n",
       "      <td>0.6325</td>\n",
       "    </tr>\n",
       "    <tr>\n",
       "      <td>15249</td>\n",
       "      <td>@sprinklermanus: @CNN @realDonaldTrump they're...</td>\n",
       "      <td>2016-01-01 21:29:00</td>\n",
       "      <td>933</td>\n",
       "      <td>3330</td>\n",
       "      <td>False</td>\n",
       "      <td>0.000</td>\n",
       "      <td>0.729</td>\n",
       "      <td>0.271</td>\n",
       "      <td>0.7351</td>\n",
       "    </tr>\n",
       "    <tr>\n",
       "      <td>15250</td>\n",
       "      <td>@jallenaip: Hillary said she was in a Fog of W...</td>\n",
       "      <td>2016-01-01 06:08:00</td>\n",
       "      <td>2721</td>\n",
       "      <td>7490</td>\n",
       "      <td>False</td>\n",
       "      <td>0.304</td>\n",
       "      <td>0.696</td>\n",
       "      <td>0.000</td>\n",
       "      <td>-0.8478</td>\n",
       "    </tr>\n",
       "    <tr>\n",
       "      <td>15251</td>\n",
       "      <td>Happy New Year from #MarALago! Thank you to my...</td>\n",
       "      <td>2016-01-01 06:07:00</td>\n",
       "      <td>1948</td>\n",
       "      <td>8258</td>\n",
       "      <td>False</td>\n",
       "      <td>0.000</td>\n",
       "      <td>0.494</td>\n",
       "      <td>0.506</td>\n",
       "      <td>0.9230</td>\n",
       "    </tr>\n",
       "    <tr>\n",
       "      <td>15252</td>\n",
       "      <td>#HappyNewYearAmerica! https://t.co/EeQb8PDrUe</td>\n",
       "      <td>2016-01-01 05:18:00</td>\n",
       "      <td>3434</td>\n",
       "      <td>9143</td>\n",
       "      <td>False</td>\n",
       "      <td>0.000</td>\n",
       "      <td>1.000</td>\n",
       "      <td>0.000</td>\n",
       "      <td>0.0000</td>\n",
       "    </tr>\n",
       "  </tbody>\n",
       "</table>\n",
       "<p>15253 rows × 9 columns</p>\n",
       "</div>"
      ],
      "text/plain": [
       "                                                    text                date  \\\n",
       "0      LOUISIANA — Tomorrow you will head to the poll... 2019-10-12 03:49:00   \n",
       "1      Louisiana REPUBLICANS thank you for a great ev... 2019-10-12 03:48:00   \n",
       "2      “I never saw so many subpoenas!” @ShannonBream... 2019-10-12 03:25:00   \n",
       "3      So funny to watch Steve Kerr grovel and pander... 2019-10-12 03:25:00   \n",
       "4                                        WHERE’S HUNTER? 2019-10-12 02:58:00   \n",
       "...                                                  ...                 ...   \n",
       "15248  Well the year has officially begun. I have man... 2016-01-01 23:00:00   \n",
       "15249  @sprinklermanus: @CNN @realDonaldTrump they're... 2016-01-01 21:29:00   \n",
       "15250  @jallenaip: Hillary said she was in a Fog of W... 2016-01-01 06:08:00   \n",
       "15251  Happy New Year from #MarALago! Thank you to my... 2016-01-01 06:07:00   \n",
       "15252      #HappyNewYearAmerica! https://t.co/EeQb8PDrUe 2016-01-01 05:18:00   \n",
       "\n",
       "       retweet_count  favorite_count is_retweet  Negative  Neutral  Postive  \\\n",
       "0               9706           35425      False     0.000    0.876    0.124   \n",
       "1              10626           40844      False     0.057    0.691    0.252   \n",
       "2              15523           56841      False     0.299    0.701    0.000   \n",
       "3              20293           99524      False     0.189    0.687    0.123   \n",
       "4              26280          110222      False     0.000    1.000    0.000   \n",
       "...              ...             ...        ...       ...      ...      ...   \n",
       "15248           2642            8495      False     0.104    0.693    0.203   \n",
       "15249            933            3330      False     0.000    0.729    0.271   \n",
       "15250           2721            7490      False     0.304    0.696    0.000   \n",
       "15251           1948            8258      False     0.000    0.494    0.506   \n",
       "15252           3434            9143      False     0.000    1.000    0.000   \n",
       "\n",
       "       Compound  \n",
       "0        0.6892  \n",
       "1        0.8945  \n",
       "2       -0.9284  \n",
       "3       -0.5266  \n",
       "4        0.0000  \n",
       "...         ...  \n",
       "15248    0.6325  \n",
       "15249    0.7351  \n",
       "15250   -0.8478  \n",
       "15251    0.9230  \n",
       "15252    0.0000  \n",
       "\n",
       "[15253 rows x 9 columns]"
      ]
     },
     "execution_count": 2,
     "metadata": {},
     "output_type": "execute_result"
    }
   ],
   "source": [
    "df[\"Sentiment\"] = df.apply(lambda x : analyzer.polarity_scores(x['text']), axis=1)\n",
    "df['Negative'] =df['Sentiment'].apply(lambda x : x.get('neg') )\n",
    "df['Neutral'] =df['Sentiment'].apply(lambda x : x.get('neu') )\n",
    "df['Postive'] =df['Sentiment'].apply(lambda x : x.get('pos') )\n",
    "df['Compound'] =df['Sentiment'].apply(lambda x : x.get('compound') )\n",
    "df = df.drop(columns=[\"Sentiment\",\"source\",\"id_str\"],axis=1)\n",
    "df['created_at'] = pd.to_datetime(df['created_at'])\n",
    "df = df.rename(columns={'created_at': 'date'})\n",
    "df\n"
   ]
  },
  {
   "cell_type": "code",
   "execution_count": 3,
   "metadata": {},
   "outputs": [],
   "source": [
    "#df.to_csv('trump_tweeets_with_sentiment.csv')"
   ]
  },
  {
   "cell_type": "code",
   "execution_count": 10,
   "metadata": {},
   "outputs": [
    {
     "data": {
      "text/html": [
       "<div>\n",
       "<style scoped>\n",
       "    .dataframe tbody tr th:only-of-type {\n",
       "        vertical-align: middle;\n",
       "    }\n",
       "\n",
       "    .dataframe tbody tr th {\n",
       "        vertical-align: top;\n",
       "    }\n",
       "\n",
       "    .dataframe thead th {\n",
       "        text-align: right;\n",
       "    }\n",
       "</style>\n",
       "<table border=\"1\" class=\"dataframe\">\n",
       "  <thead>\n",
       "    <tr style=\"text-align: right;\">\n",
       "      <th></th>\n",
       "      <th>text</th>\n",
       "      <th>date</th>\n",
       "      <th>retweet_count</th>\n",
       "      <th>favorite_count</th>\n",
       "      <th>is_retweet</th>\n",
       "      <th>Negative</th>\n",
       "      <th>Neutral</th>\n",
       "      <th>Postive</th>\n",
       "      <th>Compound</th>\n",
       "    </tr>\n",
       "  </thead>\n",
       "  <tbody>\n",
       "    <tr>\n",
       "      <td>3</td>\n",
       "      <td>So funny to watch Steve Kerr grovel and pander...</td>\n",
       "      <td>2019-10-12 03:25:00</td>\n",
       "      <td>20293</td>\n",
       "      <td>99524</td>\n",
       "      <td>False</td>\n",
       "      <td>0.189</td>\n",
       "      <td>0.687</td>\n",
       "      <td>0.123</td>\n",
       "      <td>-0.5266</td>\n",
       "    </tr>\n",
       "    <tr>\n",
       "      <td>56</td>\n",
       "      <td>One of the great things about the China Deal i...</td>\n",
       "      <td>2019-10-11 14:15:00</td>\n",
       "      <td>16229</td>\n",
       "      <td>74923</td>\n",
       "      <td>False</td>\n",
       "      <td>0.000</td>\n",
       "      <td>0.819</td>\n",
       "      <td>0.181</td>\n",
       "      <td>0.8805</td>\n",
       "    </tr>\n",
       "    <tr>\n",
       "      <td>58</td>\n",
       "      <td>Good things are happening at China Trade Talk ...</td>\n",
       "      <td>2019-10-11 13:49:00</td>\n",
       "      <td>17162</td>\n",
       "      <td>85617</td>\n",
       "      <td>False</td>\n",
       "      <td>0.000</td>\n",
       "      <td>0.708</td>\n",
       "      <td>0.292</td>\n",
       "      <td>0.8952</td>\n",
       "    </tr>\n",
       "    <tr>\n",
       "      <td>199</td>\n",
       "      <td>I was elected on getting out of these ridiculo...</td>\n",
       "      <td>2019-10-07 15:20:00</td>\n",
       "      <td>21267</td>\n",
       "      <td>87908</td>\n",
       "      <td>False</td>\n",
       "      <td>0.146</td>\n",
       "      <td>0.635</td>\n",
       "      <td>0.219</td>\n",
       "      <td>0.6815</td>\n",
       "    </tr>\n",
       "    <tr>\n",
       "      <td>213</td>\n",
       "      <td>.@60Minutes “forgot” to report that we are hel...</td>\n",
       "      <td>2019-10-06 23:54:00</td>\n",
       "      <td>20112</td>\n",
       "      <td>71366</td>\n",
       "      <td>False</td>\n",
       "      <td>0.000</td>\n",
       "      <td>0.833</td>\n",
       "      <td>0.167</td>\n",
       "      <td>0.8553</td>\n",
       "    </tr>\n",
       "    <tr>\n",
       "      <td>...</td>\n",
       "      <td>...</td>\n",
       "      <td>...</td>\n",
       "      <td>...</td>\n",
       "      <td>...</td>\n",
       "      <td>...</td>\n",
       "      <td>...</td>\n",
       "      <td>...</td>\n",
       "      <td>...</td>\n",
       "      <td>...</td>\n",
       "    </tr>\n",
       "    <tr>\n",
       "      <td>13110</td>\n",
       "      <td>The @USCHAMBER must fight harder for the Ameri...</td>\n",
       "      <td>2016-06-29 13:09:00</td>\n",
       "      <td>4326</td>\n",
       "      <td>13405</td>\n",
       "      <td>False</td>\n",
       "      <td>0.206</td>\n",
       "      <td>0.722</td>\n",
       "      <td>0.072</td>\n",
       "      <td>-0.5719</td>\n",
       "    </tr>\n",
       "    <tr>\n",
       "      <td>13464</td>\n",
       "      <td>Crooked Hillary has zero imagination and even ...</td>\n",
       "      <td>2016-05-20 09:47:00</td>\n",
       "      <td>4779</td>\n",
       "      <td>14610</td>\n",
       "      <td>False</td>\n",
       "      <td>0.000</td>\n",
       "      <td>0.766</td>\n",
       "      <td>0.234</td>\n",
       "      <td>0.7506</td>\n",
       "    </tr>\n",
       "    <tr>\n",
       "      <td>13522</td>\n",
       "      <td>The pathetic new hit ad against me misrepresen...</td>\n",
       "      <td>2016-05-17 11:37:00</td>\n",
       "      <td>4945</td>\n",
       "      <td>14003</td>\n",
       "      <td>False</td>\n",
       "      <td>0.148</td>\n",
       "      <td>0.852</td>\n",
       "      <td>0.000</td>\n",
       "      <td>-0.6114</td>\n",
       "    </tr>\n",
       "    <tr>\n",
       "      <td>13610</td>\n",
       "      <td>@mathewjmari: On @FaceTheNation #MattSchlapp w...</td>\n",
       "      <td>2016-05-08 05:57:00</td>\n",
       "      <td>3832</td>\n",
       "      <td>12733</td>\n",
       "      <td>False</td>\n",
       "      <td>0.025</td>\n",
       "      <td>0.841</td>\n",
       "      <td>0.134</td>\n",
       "      <td>0.9696</td>\n",
       "    </tr>\n",
       "    <tr>\n",
       "      <td>15207</td>\n",
       "      <td>@iLoveiDevices: @EdwinRo47796972 @happyjack225...</td>\n",
       "      <td>2016-01-05 03:36:00</td>\n",
       "      <td>746</td>\n",
       "      <td>2628</td>\n",
       "      <td>False</td>\n",
       "      <td>0.000</td>\n",
       "      <td>0.869</td>\n",
       "      <td>0.131</td>\n",
       "      <td>0.7034</td>\n",
       "    </tr>\n",
       "  </tbody>\n",
       "</table>\n",
       "<p>174 rows × 9 columns</p>\n",
       "</div>"
      ],
      "text/plain": [
       "                                                    text                date  \\\n",
       "3      So funny to watch Steve Kerr grovel and pander... 2019-10-12 03:25:00   \n",
       "56     One of the great things about the China Deal i... 2019-10-11 14:15:00   \n",
       "58     Good things are happening at China Trade Talk ... 2019-10-11 13:49:00   \n",
       "199    I was elected on getting out of these ridiculo... 2019-10-07 15:20:00   \n",
       "213    .@60Minutes “forgot” to report that we are hel... 2019-10-06 23:54:00   \n",
       "...                                                  ...                 ...   \n",
       "13110  The @USCHAMBER must fight harder for the Ameri... 2016-06-29 13:09:00   \n",
       "13464  Crooked Hillary has zero imagination and even ... 2016-05-20 09:47:00   \n",
       "13522  The pathetic new hit ad against me misrepresen... 2016-05-17 11:37:00   \n",
       "13610  @mathewjmari: On @FaceTheNation #MattSchlapp w... 2016-05-08 05:57:00   \n",
       "15207  @iLoveiDevices: @EdwinRo47796972 @happyjack225... 2016-01-05 03:36:00   \n",
       "\n",
       "       retweet_count  favorite_count is_retweet  Negative  Neutral  Postive  \\\n",
       "3              20293           99524      False     0.189    0.687    0.123   \n",
       "56             16229           74923      False     0.000    0.819    0.181   \n",
       "58             17162           85617      False     0.000    0.708    0.292   \n",
       "199            21267           87908      False     0.146    0.635    0.219   \n",
       "213            20112           71366      False     0.000    0.833    0.167   \n",
       "...              ...             ...        ...       ...      ...      ...   \n",
       "13110           4326           13405      False     0.206    0.722    0.072   \n",
       "13464           4779           14610      False     0.000    0.766    0.234   \n",
       "13522           4945           14003      False     0.148    0.852    0.000   \n",
       "13610           3832           12733      False     0.025    0.841    0.134   \n",
       "15207            746            2628      False     0.000    0.869    0.131   \n",
       "\n",
       "       Compound  \n",
       "3       -0.5266  \n",
       "56       0.8805  \n",
       "58       0.8952  \n",
       "199      0.6815  \n",
       "213      0.8553  \n",
       "...         ...  \n",
       "13110   -0.5719  \n",
       "13464    0.7506  \n",
       "13522   -0.6114  \n",
       "13610    0.9696  \n",
       "15207    0.7034  \n",
       "\n",
       "[174 rows x 9 columns]"
      ]
     },
     "execution_count": 10,
     "metadata": {},
     "output_type": "execute_result"
    }
   ],
   "source": [
    "df_nort = df[~df['text'].str.contains(\"RT @\")]\n",
    "df_china = df_nort[df_nort['text'].str.contains(\"China\")]\n",
    "#df_china = df[~df['text'].str.contains(\"RT@\")]\n",
    "df_china = df_china[(df_china['Compound'] < -0.5) | (df_china['Compound'] > 0.5)]\n",
    "df_china\n",
    "#df['two'].between(-0.5, 0.5, inclusive=False)\n",
    "#df = df[(df['closing_price'] >= 99) & (df['closing_price'] <= 101)]"
   ]
  },
  {
   "cell_type": "code",
   "execution_count": 11,
   "metadata": {},
   "outputs": [],
   "source": [
    "import plotly.express as px\n",
    "import plotly.graph_objects as go\n"
   ]
  },
  {
   "cell_type": "code",
   "execution_count": 12,
   "metadata": {},
   "outputs": [
    {
     "data": {
      "application/vnd.plotly.v1+json": {
       "config": {
        "plotlyServerURL": "https://plot.ly"
       },
       "data": [
        {
         "customdata": [
          [
           "So funny to watch Steve Kerr grovel and pander when asked a simple question about China. He chocked and looks weak and pathetic. Don’t want him at the White House!"
          ],
          [
           "One of the great things about the China Deal is the fact that for various reasons we do not have to go through the very long and politically complex Congressional Approval Process. When the deal is fully negotiated I sign it myself on behalf of our Country. Fast and Clean!"
          ],
          [
           "Good things are happening at China Trade Talk Meeting. Warmer feelings than in recent past more like the Old Days. I will be meeting with the Vice Premier today. All would like to see something significant happen!"
          ],
          [
           "I was elected on getting out of these ridiculous endless wars where our great Military functions as a policing operation to the benefit of people who don’t even like the USA. The two most unhappy countries at this move are Russia &amp; China because they love seeing us bogged....."
          ],
          [
           ".@60Minutes “forgot” to report that we are helping the great farmers of the USA to the tune of 28 Billion Dollars for the last two years paid for out of Tariffs paid to the United States by China for targeting the farmer. They devalued their currency therefore paying the cost!"
          ],
          [
           "....And by the way I would LOVE running against 1% Joe Biden - I just don’t think it’s going to happen. Sleepy Joe won’t get to the starting gate &amp; based on all of the money he &amp; his family probably “extorted” Joe should hang it up. I wouldn’t want him dealing with China &amp; U!"
          ],
          [
           "Congratulations to President Xi and the Chinese people on the 70th Anniversary of the People’s Republic of China!"
          ],
          [
           "The Fake News Media wants to stay as far away as possible from the Ukraine and China deals made by the Bidens. A Corrupt Media is so bad for our Country! In actuality the Media may be even more Corrupt than the Bidens which is hard to do!"
          ],
          [
           "....place in TRADE it’s taking shape in Military Competition.” Johnathan Ward author and China expert. We are winning and we will win. They should not have broken the deal we had with them. Happy Birthday China!"
          ],
          [
           "“China Trade Turmoil: China Urging a CALM AND RATIONAL Solution.” @MariaBartiromo @FoxBusiness China is doing very poorly while the USA under your favorite President’s leadership continues to soar to new heights - and despite the Do Nothing Democrats we have just begun!"
          ],
          [
           "The President of Ukraine said that he was NOT pressured by me to do anything wrong. Can’t have better testimony than that! As V.P. Biden had his son on the other hand take out millions of dollars by strong arming the Ukrainian President. Also looted millions from China. Bad!"
          ],
          [
           "....taken out of Ukraine and China. Additionally I demand transparency from Democrats that went to Ukraine and attempted to force the new President to do things that they wanted under the form of political threat."
          ],
          [
           "At the request of the Vice Premier of China Liu He and due to the fact that the People's Republic of China will be celebrating their 70th Anniversary...."
          ],
          [
           "“The Chinese are very adept at not accepting anything. You’ve got to be very tough and that’s what Trump is doing. It’s in China’s interest to correct and I think we’ll end up with a solution that’s dramatically better than we have today. Frankly I think the impact of what..."
          ],
          [
           "“The Chinese are very adept at not accepting anything. You’ve got to be very tough and that’s what Trump is doing. It’s in China’s interest to correct and I think we’ll end up with a solution that’s dramatically better than we have today. Frankly I think the impact of what...."
          ],
          [
           "For all of the “geniuses” out there many who have been in other administrations and “taken to the cleaners” by China that want me to get together with the EU and others to go after China Trade practices remember the EU &amp; all treat us VERY unfairly on Trade also. Will change!"
          ],
          [
           "We are doing very well in our negotiations with China. While I am sure they would love to be dealing with a new administration so they could continue their practice of “ripoff USA”($600 B/year)16 months PLUS is a long time to be hemorrhaging jobs and companies on a long-shot...."
          ],
          [
           "....And then think what happens to China when I win. Deal would get MUCH TOUGHER! In the meantime China’s Supply Chain will crumble and businesses jobs and money will be gone!"
          ],
          [
           "....is about American Freedom. Redirect the supply chain. There is no reason to buy everything from China!"
          ],
          [
           "So interesting to read and see all of the free and interesting advice I am getting on China from people who have tried to handle it before and failed miserably - In fact they got taken to the cleaners. We are doing very well with China. This has never happened to them before!"
          ],
          [
           "In France we are all laughing at how knowingly inaccurate the U.S. reporting of events and conversations at the G-7 is. These Leaders and many others are getting a major case study of Fake News at it’s finest! They’ve got it all wrong from Iran to China Tariffs to Boris!"
          ],
          [
           "For all of the Fake News Reporters that don’t have a clue as to what the law is relative to Presidential powers China etc. try looking at the Emergency Economic Powers Act of 1977. Case closed!"
          ],
          [
           "For many years China (and many other countries) has been taking advantage of the United States on Trade Intellectual Property Theft and much more. Our Country has been losing HUNDREDS OF BILLIONS OF DOLLARS a year to China with no end in sight...."
          ],
          [
           "....Sadly past Administrations have allowed China to get so far ahead of Fair and Balanced Trade that it has become a great burden to the American Taxpayer. As President I can no longer allow this to happen! In the spirit of achieving Fair Trade we must Balance this very...."
          ],
          [
           "....all deliveries of Fentanyl from China (or anywhere else!). Fentanyl kills 100000 Americans a year. President Xi said this would stop - it didn’t. Our Economy because of our gains in the last 2 1/2 years is MUCH larger than that of China. We will keep it that way!"
          ],
          [
           "....your companies HOME and making your products in the USA. I will be responding to China’s Tariffs this afternoon. This is a GREAT opportunity for the United States. Also I am ordering all carriers including Fed Ex Amazon UPS and the Post Office to SEARCH FOR &amp; REFUSE...."
          ],
          [
           "Our Country has lost stupidly Trillions of Dollars with China over many years. They have stolen our Intellectual Property at a rate of Hundreds of Billions of Dollars a year &amp; they want to continue. I won’t let that happen! We don’t need China and frankly would be far...."
          ],
          [
           "Doing great with China and other Trade Deals. The only problem we have is Jay Powell and the Fed. He’s like a golfer who can’t putt has no touch. Big U.S. growth if he does the right thing BIG CUT - but don’t count on him! So far he has called it wrong and only let us down...."
          ],
          [
           "Our economy is the best in the world by far. Lowest unemployment ever within almost all categories. Poised for big growth after trade deals are completed. Import prices down China eating Tariffs. Helping targeted Farmers from big Tariff money coming in. Great future for USA!"
          ],
          [
           "The Fake News Media is doing everything they can to crash the economy because they think that will be bad for me and my re-election. The problem they have is that the economy is way too strong and we will soon be winning big on Trade and everyone knows that including China!"
          ],
          [
           "I know President Xi of China very well. He is a great leader who very much has the respect of his people. He is also a good man in a “tough business.” I have ZERO doubt that if President Xi wants to quickly and humanely solve the Hong Kong problem he can do it. Personal meeting?"
          ],
          [
           "Good things were stated on the call with China the other day. They are eating the Tariffs with the devaluation of their currency and “pouring” money into their system. The American consumer is fine with or without the September date but much good will come from the short....."
          ],
          [
           "We are winning big time against China. Companies &amp; jobs are fleeing. Prices to us have not gone up and in some cases have come down. China is not our problem though Hong Kong is not helping. Our problem is with the Fed. Raised too much &amp; too fast. Now too slow to cut...."
          ],
          [
           "As usual China said they were going to be buying “big” from our great American Farmers. So far they have not done what they said. Maybe this will be different!"
          ],
          [
           "China wants to make a deal so badly. Thousands of companies are leaving because of the Tariffs they must stem the flow. At the same time China may be hoping for a Democrat to win so they could continue the great ripoff of America &amp; the theft of hundreds of Billions of $’s!"
          ],
          [
           "“Three more Central Banks cut rates.” Our problem is not China - We are stronger than ever money is pouring into the U.S. while China is losing companies by the thousands to other countries and their currency is under siege - Our problem is a Federal Reserve that is too....."
          ],
          [
           ".@sundarpichai of Google was in the Oval Office working very hard to explain how much he liked me what a great job the Administration is doing that Google was not involved with China’s military that they didn’t help Crooked Hillary over me in the 2016 Election &amp; that they..."
          ],
          [
           "Massive amounts of money from China and other parts of the world is pouring into the United States for reasons of safety investment and interest rates! We are in a very strong position. Companies are also coming to the U.S. in big numbers. A beautiful thing to watch!"
          ],
          [
           "@sundarpichai of Google was in the Oval Office working very hard to explain how much he liked me what a great job the Administration is doing that Google was not involved with China’s military that they didn’t help Crooked Hillary over me in the 2016 Election and that they..."
          ],
          [
           "China is intent on continuing to receive the hundreds of Billions of Dollars they have been taking from the U.S. with unfair trade practices and currency manipulation. So one-sided it should have been stopped many years ago!"
          ],
          [
           "China dropped the price of their currency to an almost a historic low. It’s called “currency manipulation.” Are you listening Federal Reserve? This is a major violation which will greatly weaken China over time!"
          ],
          [
           "Things are going along very well with China. They are paying us Tens of Billions of Dollars made possible by their monetary devaluations and pumping in massive amounts of cash to keep their system going. So far our consumer is paying nothing - and no inflation. No help from Fed!"
          ],
          [
           "...We look forward to continuing our positive dialogue with China on a comprehensive Trade Deal and feel that the future between our two countries will be a very bright one!"
          ],
          [
           "China Iran &amp; other foreign countries are looking at the Democrat Candidates and “drooling” over the small prospect that they could be dealing with them in the not too distant future. They would be able to rip off our beloved USA like never before. With President Trump NO WAY!"
          ],
          [
           "China has lost 5 million jobs and two million manufacturing jobs due to the Trump Tariffs. Trumps got China back on its heels and the United States is doing great. @AndyPuzder @MariaBartiromo"
          ],
          [
           "China is doing very badly worst year in 27 - was supposed to start buying our agricultural product now - no signs that they are doing so. That is the problem with China they just don’t come through. Our Economy has become MUCH larger than the Chinese Economy is last 3 years...."
          ],
          [
           "....countries that know how to play the game against the U.S. That’s actually why the E.U. was formed....and for China until now the U.S. has been “easy pickens.” The Fed has made all of the wrong moves. A small rate cut is not enough but we will win anyway!"
          ],
          [
           "China’s 2nd Quarter growth is the slowest it has been in more than 27 years. The United States Tariffs are having a major effect on companies wanting to leave China for non-tariffed countries. Thousands of companies are leaving. This is why China wants to make a deal...."
          ],
          [
           "Mexico is doing great at the Border but China is letting us down in that they have not been buying the agricultural products from our great Farmers that they said they would. Hopefully they will start soon!"
          ],
          [
           "I had a great meeting with President Xi of China yesterday far better than expected. I agreed not to increase the already existing Tariffs that we charge China while we continue to negotiate. China has agreed that during the negotiation they will begin purchasing large....."
          ],
          [
           "I had a great meeting with President Xi of China yesterday far better than expected. I agreed not to increase the already existing Tariffs that we charge China while we continue to negotiate. China has agreed that during the negotiation they will begin purchasing large......"
          ],
          [
           "After some very important meetings including my meeting with President Xi of China I will be leaving Japan for South Korea (with President Moon). While there if Chairman Kim of North Korea sees this I would meet him at the Border/DMZ just to shake his hand and say Hello(?)!"
          ],
          [
           "Had a very good telephone conversation with President Xi of China. We will be having an extended meeting next week at the G-20 in Japan. Our respective teams will begin talks prior to our meeting."
          ],
          [
           "“Biden would be China’s Dream Candidate because there would be no more Tariffs no more demands that China stop stealing our IP things would go back to the old days with America’s manufacturers &amp; workers getting shafted. He has Zero Credibility!” @IngrahamAngle  So true!"
          ],
          [
           "“Biden would be America’s Dream Candidate because there would be no more Tariffs no more demands that China stop stealing our IP things would go back to the old days with America’s manufacturers &amp; workers getting shafted. He has Zero Credibility!” @IngrahamAngle  So true!"
          ],
          [
           "China will be pumping money into their system and probably reducing interest rates as always in order to make up for the business they are and will be losing. If the Federal Reserve ever did a “match” it would be game over we win! In any event China wants a deal!"
          ],
          [
           "Our great Patriot Farmers will be one of the biggest beneficiaries of what is happening now. Hopefully China will do us the honor of continuing to buy our great farm product the best but if not your Country will be making up the difference based on a very high China buy......"
          ],
          [
           "When the time is right we will make a deal with China. My respect and friendship with President Xi is unlimited but as I have told him many times before this must be a great deal for the United States or it just doesn’t make any sense. We have to be allowed to make up some....."
          ],
          [
           "....of the tremendous ground we have lost to China on Trade since the ridiculous one sided formation of the WTO. It will all happen and much faster than people think!"
          ],
          [
           "....so that they will be more competitive for USA buyers. We are now a much bigger economy than China and have substantially increased in size since the great 2016 Election. We are the “piggy bank” that everyone wants to raid and take advantage of. NO MORE!"
          ],
          [
           "In one year Tariffs have rebuilt our Steel Industry - it is booming! We placed a 25% Tariff on “dumped” steel from China &amp; other countries and we now have a big and growing industry. We had to save Steel for our defense and auto industries both of which are coming back strong!"
          ],
          [
           "China is DREAMING that Sleepy Joe Biden or any of the others gets elected in 2020. They LOVE ripping off America!"
          ],
          [
           "....We will then spend (match or better) the money that China may no longer be spending with our Great Patriot Farmers (Agriculture) which is a small percentage of total Tariffs received and distribute the food to starving people in nations around the world! GREAT! #MAGA"
          ],
          [
           "Over the course of the past two days the United States and China have held candid and constructive conversations on the status of the trade relationship between both countries. The relationship between President Xi and myself remains a very strong one and conversations...."
          ],
          [
           "....into the future will continue. In the meantime the United States has imposed Tariffs on China which may or may not be removed depending on what happens with respect to future negotiations!"
          ],
          [
           "“We have been engaged in an unfair relationship with China for a long time. They have reneged on the commitments they made to the WTO particularly around intellectual property.” Carly Fiorina @MariaBartiromo"
          ],
          [
           "Your all time favorite President got tired of waiting for China to help out and start buying from our FARMERS the greatest anywhere in the World!"
          ],
          [
           "Tariffs will make our Country MUCH STRONGER not weaker. Just sit back and watch! In the meantime China should not renegotiate deals with the U.S. at the last minute. This is not the Obama Administration or the Administration of Sleepy Joe who let China get away with “murder!”"
          ],
          [
           "We have lost 500 Billion Dollars a year for many years on Crazy Trade with China. NO MORE!"
          ],
          [
           "....Guess what that’s not going to happen! China has just informed us that they (Vice-Premier) are now coming to the U.S. to make a deal. We’ll see but I am very happy with over $100 Billion a year in Tariffs filling U.S. coffers...great for U.S. not good for China!"
          ],
          [
           "The reason for the China pullback &amp; attempted renegotiation of the Trade Deal is the sincere HOPE that they will be able to “negotiate” with Joe Biden or one of the very weak Democrats and thereby continue to ripoff the United States (($500 Billion a year)) for years to come...."
          ],
          [
           "For 10 months China has been paying Tariffs to the USA of 25% on 50 Billion Dollars of High Tech and 10% on 200 Billion Dollars of other goods. These payments are partially responsible for our great economic results. The 10% will go up to 25% on Friday. 325 Billions Dollars...."
          ],
          [
           "Had a long and very good conversation with President Putin of Russia. As I have always said long before the Witch Hunt started getting along with Russia China and everyone is a good thing not a bad thing...."
          ],
          [
           "China is adding great stimulus to its economy while at the same time keeping interest rates low. Our Federal Reserve has incessantly lifted interest rates even though inflation is very low and instituted a very big dose of quantitative tightening. We have the potential to go..."
          ],
          [
           "Despite the unnecessary and destructive actions taken by the Fed the Economy is looking very strong the China and USMCA deals are moving along nicely there is little or no Inflation and USA optimism is very high!"
          ],
          [
           "....are all coming back to the U.S. So is everyone else. We now have the best Economy in the World the envy of all. Get that big beautiful plant in Ohio open now. Close a plant in China or Mexico where you invested so heavily pre-Trump but not in the U.S.A. Bring jobs home!"
          ],
          [
           "Google is helping China and their military but not the U.S. Terrible! The good news is that they helped Crooked Hillary Clinton and not Trump....and how did that turn out?"
          ],
          [
           "All false reporting (guessing) on my intentions with respect to North Korea. Kim Jong Un and I will try very hard to work something out on Denuclearization &amp; then making North Korea an Economic Powerhouse. I believe that China Russia Japan &amp; South Korea will be very helpful!"
          ],
          [
           "If a deal is made with China our great American Farmers will be treated better than they have ever been treated before!"
          ],
          [
           "China Trade Deal (and more) in advanced stages. Relationship between our two Countries is very strong. I have therefore agreed to delay U.S. tariff hikes. Let’s see what happens?"
          ],
          [
           "....productive talks I will be delaying the U.S. increase in tariffs now scheduled for March 1. Assuming both sides make additional progress we will be planning a Summit for President Xi and myself at Mar-a-Lago to conclude an agreement. A very good weekend for U.S. &amp; China!"
          ],
          [
           "I am pleased to report that the U.S. has made substantial progress in our trade talks with China on important structural issues including intellectual property protection technology transfer agriculture services currency and many other issues. As a result of these very......"
          ],
          [
           "President Xi of China has been very helpful in his support of my meeting with Kim Jong Un. The last thing China wants are large scale nuclear weapons right next door. Sanctions placed on the border by China and Russia have been very helpful. Great relationship with Chairman Kim!"
          ],
          [
           "Important meetings and calls on China Trade Deal and more today with my staff. Big progress being made on soooo many different fronts! Our Country has such fantastic potential for future growth and greatness on an even higher level!"
          ],
          [
           "Trade negotiators have just returned from China where the meetings on Trade were very productive. Now at meetings with me at Mar-a-Lago giving the details. In the meantime Billions of Dollars are being paid to the United States by China in the form of Trade Tariffs!"
          ],
          [
           "Looking for China to open their Markets not only to Financial Services which they are now doing but also to our Manufacturing Farmers and other U.S. businesses and industries. Without this a deal would be unacceptable!"
          ],
          [
           "China’s top trade negotiators are in the U.S. meeting with our representatives. Meetings are going well with good intent and spirit on both sides. China does not want an increase in Tariffs and feels they will do much better if they make a deal. They are correct. I will be......"
          ],
          [
           "China posts slowest economic numbers since 1990 due to U.S. trade tensions and new policies. Makes so much sense for China to finally do a Real Deal and stop playing around!"
          ],
          [
           "For decades politicians promised to secure the border fix our trade deals bring back our factories get tough on China move the Embassy to Jerusalem make NATO pay their fair share and so much else - only to do NOTHING (or worse)...."
          ],
          [
           "The United States Treasury has taken in MANY billions of dollars from the Tariffs we are charging China and other countries that have not treated us fairly. In the meantime we are doing well in various Trade Negotiations currently going on. At some point this had to be done!"
          ],
          [
           "Just had a long and very good call with President Xi of China. Deal is moving along very well. If made it will be very comprehensive covering all subjects areas and points of dispute. Big progress being made!"
          ],
          [
           "There has never been a president who has been tougher (but fair) on China or Russia - Never just look at the facts. The Fake News tries so hard to paint the opposite picture."
          ],
          [
           "It is incredible that with a very strong dollar and virtually no inflation the outside world blowing up around us Paris is burning and China way down the Fed is even considering yet another interest rate hike. Take the Victory!"
          ],
          [
           "Statement from China: “The teams of both sides are now having smooth communications and good cooperation with each other. We are full of confidence that an agreement can be reached within the next 90 days.” I agree!"
          ],
          [
           ".....considered to be the worst and most dangerous addictive and deadly substance of them all. Last year over 77000 people died from Fentanyl. If China cracks down on this “horror drug” using the Death Penalty for distributors and pushers the results will be incredible!"
          ],
          [
           "One of the very exciting things to come out of my meeting with President Xi of China is his promise to me to criminalize the sale of deadly Fentanyl coming into the United States. It will now be considered a “controlled substance.” This could be a game changer on what is......."
          ],
          [
           "Very strong signals being sent by China once they returned home from their long trip including stops from Argentina. Not to sound naive or anything but I believe President Xi meant every word of what he said at our long and hopefully historic meeting. ALL subjects discussed!"
          ],
          [
           "“China officially echoed President Donald Trump’s optimism over bilateral trade talks. Chinese officials have begun preparing to restart imports of U.S. Soybeans &amp; Liquified Natural Gas the first sign confirming the claims of President Donald Trump and the White House that......"
          ],
          [
           ".....But if a fair deal is able to be made with China one that does all of the many things we know must be finally done I will happily sign. Let the negotiations begin. MAKE AMERICA GREAT AGAIN!"
          ],
          [
           "The negotiations with China have already started. Unless extended they will end 90 days from the date of our wonderful and very warm dinner with President Xi in Argentina. Bob Lighthizer will be working closely with Steve Mnuchin Larry Kudlow Wilbur Ross and Peter Navarro....."
          ],
          [
           "President Xi and I have a very strong and personal relationship. He and I are the only two people that can bring about massive and very positive change on trade and far beyond between our two great Nations. A solution for North Korea is a great thing for China and ALL!"
          ],
          [
           "Farmers will be a a very BIG and FAST beneficiary of our deal with China. They intend to start purchasing agricultural product immediately. We make the finest and cleanest product in the World and that is what China wants. Farmers I LOVE YOU!"
          ],
          [
           "My meeting in Argentina with President Xi of China was an extraordinary one. Relations with China have taken a BIG leap forward! Very good things will happen. We are dealing from great strength but China likewise has much to gain if and when a deal is completed. Level the field!"
          ],
          [
           "Emmanuel Macron suggests building its own army to protect Europe against the U.S. China and Russia. But it was Germany in World Wars One &amp; Two - How did that work out for France? They were starting to learn German in Paris before the U.S. came along. Pay for NATO or not!"
          ],
          [
           "President Macron of France has just suggested that Europe build its own military in order to protect itself from the U.S. China and Russia. Very insulting but perhaps Europe should first pay its fair share of NATO which the U.S. subsidizes greatly!"
          ],
          [
           "Just had a long and very good conversation with President Xi Jinping of China. We talked about many subjects with a heavy emphasis on Trade. Those discussions are moving along nicely with meetings being scheduled at the G-20 in Argentina. Also had good discussion on North Korea!"
          ],
          [
           "The New York Times has a new Fake Story that now the Russians and Chinese (glad they finally added China) are listening to all of my calls on cellphones. Except that I rarely use a cellphone &amp; when I do it’s government authorized. I like Hard Lines. Just more made up Fake News!"
          ],
          [
           ".....China has been taking advantage of the United States on Trade for many years. They also know that I am the one that knows how to stop it. There will be great and fast economic retaliation against China if our farmers ranchers and/or industrial workers are targeted!"
          ],
          [
           "China has openly stated that they are actively trying to impact and change our election by attacking our farmers ranchers and industrial workers because of their loyalty to me. What China does not understand is that these people are great patriots and fully understand that....."
          ],
          [
           "The Wall Street Journal has it wrong we are under no pressure to make a deal with China they are under pressure to make a deal with us. Our markets are surging theirs are collapsing. We will soon be taking in Billions in Tariffs &amp; making products at home. If we meet we meet?"
          ],
          [
           "If the U.S. sells a car into China there is a tax of 25%. If China sells a car into the U.S. there is a tax of 2%. Does anybody think that is FAIR? The days of the U.S. being ripped-off by other nations is OVER!"
          ],
          [
           "Apple prices may increase because of the massive Tariffs we may be imposing on China - but there is an easy solution where there would be ZERO tax and indeed a tax incentive. Make your products in the United States instead of China. Start building new plants now. Exciting! #MAGA"
          ],
          [
           "...of money on joint U.S.-South Korea war games. Besides the President can instantly start the joint exercises again with South Korea and Japan if he so chooses. If he does they will be far bigger than ever before. As for the U.S.–China trade disputes and other..."
          ],
          [
           "...differences they will be resolved in time by President Trump and China’s great President Xi Jinping. Their relationship and bond remain very strong."
          ],
          [
           "...Secretary Pompeo looks forward to going to North Korea in the near future most likely after our Trading relationship with China is resolved. In the meantime I would like to send my warmest regards and respect to Chairman Kim. I look forward to seeing him soon!"
          ],
          [
           "It is outrageous that Poisonous Synthetic Heroin Fentanyl comes pouring into the U.S. Postal System from China. We can and must END THIS NOW! The Senate should pass the STOP ACT – and firmly STOP this poison from killing our children and destroying our country. No more delay!"
          ],
          [
           "All of the fools that are so focused on looking only at Russia should start also looking in another direction China. But in the end if we are smart tough and well prepared we will get along with everyone!"
          ],
          [
           "As long as I campaign and/or support Senate and House candidates (within reason) they will win! I LOVE the people &amp; they certainly seem to like the job I’m doing. If I find the time in between China Iran the Economy and much more which I must we will have a giant Red Wave!"
          ],
          [
           "....China which is for the first time doing poorly against us is spending a fortune on ads and P.R. trying to convince and scare our politicians to fight me on Tariffs- because they are really hurting their economy. Likewise other countries. We are Winning but must be strong!"
          ],
          [
           "Tariffs are working far better than anyone ever anticipated. China market has dropped 27% in last 4months and they are talking to us. Our market is stronger than ever and will go up dramatically when these horrible Trade Deals are successfully renegotiated. America First......."
          ],
          [
           "China is targeting our farmers who they know I love &amp; respect as a way of getting me to continue allowing them to take advantage of the U.S. They are being vicious in what will be their failed attempt. We were being nice - until now! China made $517 Billion on us last year."
          ],
          [
           "China the European Union and others have been manipulating their currencies and interest rates lower while the U.S. is raising rates while the dollars gets stronger and stronger with each passing day - taking away our big competitive edge. As usual not a level playing field..."
          ],
          [
           "I have confidence that Kim Jong Un will honor the contract we signed &amp; even more importantly our handshake. We agreed to the denuclearization of North Korea. China on the other hand may be exerting negative pressure on a deal because of our posture on Chinese Trade-Hope Not!"
          ],
          [
           "Farmers have not been doing well for 15 years. Mexico Canada China and others have treated them unfairly. By the time I finish trade talks that will change. Big trade barriers against U.S. farmers and other businesses will finally be broken. Massive trade deficits no longer!"
          ],
          [
           "China already charges a tax of 16% on soybeans. Canada has all sorts of trade barriers on our Agricultural products. Not acceptable!"
          ],
          [
           "Under our potential deal with China they will purchase from our Great American Farmers practically as much as our Farmers can produce."
          ],
          [
           "China must continue to be strong &amp; tight on the Border of North Korea until a deal is made. The word is that recently the Border has become much more porous and more has been filtering in. I want this to happen and North Korea to be VERY successful but only after signing!"
          ],
          [
           "China has agreed to buy massive amounts of ADDITIONAL Farm/Agricultural Products - would be one of the best things to happen to our farmers in many years!"
          ],
          [
           "I ask Senator Chuck Schumer why didn’t President Obama &amp; the Democrats do something about Trade with China including Theft of Intellectual Property etc.? They did NOTHING! With that being said Chuck &amp; I have long agreed on this issue! Fair Trade plus with China will happen!"
          ],
          [
           "China and the United States are working well together on trade but past negotiations have been so one sided in favor of China for so many years that it is hard for them to make a deal that benefits both countries. But be cool it will all work out!"
          ],
          [
           "I will be speaking to my friend President Xi of China this morning at 8:30. The primary topics will be Trade where good things will happen and North Korea where relationships and trust are building."
          ],
          [
           "Our high level delegation is on the way back from China where they had long meetings with Chinese leaders and business representatives. We will be meeting tomorrow to determine the results but it is hard for China in that they have become very spoiled with U.S. trade wins!"
          ],
          [
           "Our great financial team is in China trying to negotiate a level playing field on trade! I look forward to being with President Xi in the not too distant future. We will always have a good (great) relationship!"
          ],
          [
           "There was no Collusion (it is a Hoax) and there is no Obstruction of Justice (that is a setup &amp; trap). What there is is Negotiations going on with North Korea over Nuclear War Negotiations going on with China over Trade Deficits Negotiations on NAFTA and much more. Witch Hunt!"
          ],
          [
           "Delegation heading to China to begin talks on the Massive Trade Deficit that has been created with our Country. Very much like North Korea this should have been fixed years ago not now. Same with other countries and NAFTA...but it will all get done. Great Potential for USA!"
          ],
          [
           "Please do not forget the great help that my good friend President Xi of China has given to the United States particularly at the Border of North Korea. Without him it would have been a much longer tougher process!"
          ],
          [
           "Very thankful for President Xi of China’s kind words on tariffs and automobile barriers...also his enlightenment on intellectual property and technology transfers. We will make great progress together!"
          ],
          [
           "Very thankful for President Xi of China’s kind words on tarrifs and automobile barriers...also his enlightenment on intellectual property and technology transfers. We will make great progress together!"
          ],
          [
           "When a car is sent to the United States from China there is a Tariff to be paid of 2 1/2%. When a car is sent to China from the United States there is a Tariff to be paid of 25%. Does that sound like free or fair trade.  No it sounds like STUPID TRADE -  going on for years!"
          ],
          [
           "President Xi and I will always be friends no matter what happens with our dispute on trade. China will take down its Trade Barriers because it is the right thing to do. Taxes will become Reciprocal &amp; a deal will be made on Intellectual Property. Great future for both countries!"
          ],
          [
           "The United States hasn’t had a Trade Surplus with China in 40 years. They must end unfair trade take down barriers and charge only Reciprocal Tariffs. The U.S. is losing $500 Billion a year and has been losing Billions of Dollars for decades. Cannot continue!"
          ],
          [
           "The Fake News Washington Post Amazon’s “chief lobbyist” has another (of many) phony headlines “Trump Defiant As China Adds Trade Penalties.” WRONG! Should read “Trump Defiant as U.S. Adds Trade Penalties Will End Barriers And Massive  I.P. Theft.” Typically bad reporting!"
          ],
          [
           "China has been asked to develop a plan for the year of a One Billion Dollar reduction in their massive Trade Deficit with the United States. Our relationship with China has been a very good one and we look forward to seeing what ideas they come back with. We must act soon!"
          ],
          [
           "Caught RED HANDED - very disappointed that China is allowing oil to go into North Korea. There will never be a friendly solution to the North Korea problem if this continues to happen!"
          ],
          [
           "The Chinese Envoy who just returned from North Korea seems to have had no impact on Little Rocket Man. Hard to believe his people and the military put up with living in such horrible conditions. Russia and China condemned the launch."
          ],
          [
           "...LaVar you could have spent the next 5 to 10 years during Thanksgiving with your son in China but no NBA contract to support you. But remember LaVar shoplifting is NOT a little thing. It’s a really big deal especially in China. Ungrateful fool!"
          ],
          [
           "It wasn’t the White House it wasn’t the State Department it wasn’t father LaVar’s so-called people on the ground in China that got his son out of a long term prison sentence - IT WAS ME. Too bad! LaVar is just a poor man’s version of Don King but without the hair. Just think.."
          ],
          [
           "Shoplifting is a very big deal in China as it should be (5-10 years in jail) but not to father LaVar. Should have gotten his son out during my next trip to China instead. China told them why they were released. Very ungrateful!"
          ],
          [
           "To the three UCLA basketball players I say:  You're welcome go out and give a big Thank You to President Xi Jinping of China who made....."
          ],
          [
           "Met with President Putin of Russia who was at #APEC meetings. Good discussions on Syria. Hope for his help to solve along with China the dangerous North Korea crisis. Progress being made."
          ],
          [
           "I am leaving China for #APEC2017 in Vietnam. @FLOTUS Melania is staying behind to see the zoo and of course the Great WALL of China before going to Alaska to greet our AMAZING troops."
          ],
          [
           "I don’t blame China I blame the incompetence of past Admins for allowing China to take advantage of the U.S. on trade leading up to a point where the U.S. is losing $100's of billions. How can you blame China for taking advantage of people that had no clue? I would've done same!"
          ],
          [
           "In the coming months and years ahead I look forward to building an even STRONGER relationship between the United States and China. 🇺🇸🇨🇳 https://t.co/mK3SB7t3EV"
          ],
          [
           "Looking forward to a full day of meetings with President Xi and our delegations tomorrow. THANK YOU for the beautiful welcome China! @FLOTUS Melania and I will never forget it! https://t.co/sQoUWIGAiQ"
          ],
          [
           "Getting ready to make a major speech to the National Assembly here in South Korea then will be headed to China where I very much look forward to meeting with President Xi who is just off his great political victory."
          ],
          [
           "Spoke to President Xi of China to congratulate him on his extraordinary elevation. Also discussed NoKo &amp; trade two very important subjects!"
          ],
          [
           "China has a business tax rate of 15%. We should do everything possible to match them in order to win with our economy. Jobs and wages!"
          ],
          [
           "..North Korea is a rogue nation which has become a great threat and embarrassment to China which is trying to help but with little success."
          ],
          [
           "The United Nations Security Council just voted 15-0 to sanction North Korea. China and Russia voted with us. Very big financial impact!"
          ],
          [
           "I am very disappointed in China. Our foolish past leaders have allowed them to make hundreds of billions of dollars a year in trade yet..."
          ],
          [
           "Leaving Hamburg for Washington D.C. and the WH. Just left China’s President Xi where we had an excellent meeting on trade &amp; North Korea."
          ],
          [
           "....and Japan will put up with this much longer. Perhaps China will put a heavy move on North Korea and end this nonsense once and for all!"
          ],
          [
           "While I greatly appreciate the efforts of President Xi &amp; China to help with North Korea it has not worked out. At least I know China tried!"
          ],
          [
           "North Korea disrespected the wishes of China &amp; its highly respected President when it launched though unsuccessfully a missile today. Bad!"
          ],
          [
           "I have great confidence that China will properly deal with North Korea. If they are unable to do so the U.S. with its allies will! U.S.A."
          ],
          [
           "It was a great honor to have President Xi Jinping and Madame Peng Liyuan of China as our guests in the United States. Tremendous..."
          ],
          [
           "The meeting next week with China will be a very difficult one in that we can no longer have massive trade deficits..."
          ],
          [
           "The failing @nytimes does major FAKE NEWS China story saying \"Mr.Xi has not spoken to Mr. Trump since Nov.14.\" We spoke at length yesterday!"
          ],
          [
           "China wouldn't provide a red carpet stairway from Air Force One and then Philippines President calls Obama \"the son of a whore.\" Terrible!"
          ],
          [
           "The @USCHAMBER must fight harder for the American worker. China and many others are taking advantage of U.S. with our terrible trade pacts"
          ],
          [
           "Crooked Hillary has zero imagination and even less stamina. ISIS China Russia and all would love for her to be president. 4 more years!"
          ],
          [
           "The pathetic new hit ad against me misrepresents the final line. \"You can tell them to go BLANK themselves\" - was about China NOT WOMEN!"
          ],
          [
           "@mathewjmari: On @FaceTheNation #MattSchlapp was on the ball &amp; #jenniferrubin is in a time warped stupor. @realDonaldTrump will EXPAND #GOP,05-09-2016 09:49:25,1408,5144,false,729609208853897216\r\nTwitter for Android,I will be interviewed on @NewDay @CNN at 7:00 A.M.,05-09-2016 09:34:48,1144,5217,false,729605529417465856\r\nTwitter for Android,I will win the election against Crooked Hillary despite the people in the Republican Party that are currently and selfishly opposed to me!,05-09-2016 09:32:05,7915,22483,false,729604845716516864\r\nTwitter for Android,On @seanhannity show @FoxNews now. ENJOY!,05-09-2016 02:04:03,1639,7406,false,729492093522067456\r\nTwitter for iPhone,Crooked Hillary just can't close the deal with Bernie. It will be the same way with ISIS and China on trade and Mexico at the border. Bad!,05-08-2016 20:15:20,8967,25501,false,729404337164783617\r\nTwitter for Android,.@KellyannePolls  Kellyanne you were fantastic on @meetthepress today. Keep going - I will win for the people. MAKE AMERICA GREAT AGAIN!,05-08-2016 15:30:47,3219,11291,false,729332727665790976\r\nTwitter for Android,I will be interviewed on @meetthepress this morning. Enjoy!,05-08-2016 13:28:04,1669,7974,false,729301847031349250\r\nTwitter for Android,I will be interviewed on This Week with George S this morning. Enjoy!,05-08-2016 13:25:28,1660,7643,false,729301192325668864\r\nTwitter for iPhone,#HappyMothersDay! https://t.co/T35f2y5YxR https://t.co/BVSHiG2iPA,05-08-2016 12:46:07,5146,16657,false,729291290848956416\r\nTwitter for Android,@matandsher: I want a leader that will shoot straight with us. The politicians can't. @realDonaldTrump will give his all for us!"
          ],
          [
           "@iLoveiDevices: @EdwinRo47796972 @happyjack225 @FoxNews @krauthammer  Minimizing dependency on China is crucial.Only Trump talks about that,01-05-2016 03:39:11,1049,3225,false,684217554861199360\r\nTwitter for Android,@SalRiccobono: @realDonaldTrump @troyconway Donald get big business back and# MAKE AMERICA GREAT AGAIN FOR 2016\""
          ]
         ],
         "hoverlabel": {
          "namelength": 0
         },
         "hovertemplate": "date=%{x}<br>Compound=%{y}<br>text=%{customdata[0]}<br>favorite_count=%{marker.color}",
         "legendgroup": "",
         "marker": {
          "color": [
           99524,
           74923,
           85617,
           87908,
           71366,
           73450,
           81387,
           83048,
           63054,
           52200,
           100632,
           89654,
           51657,
           78370,
           12935,
           69610,
           80037,
           61736,
           56690,
           111589,
           86619,
           91740,
           87990,
           29719,
           94844,
           84028,
           135787,
           66563,
           77659,
           80707,
           105814,
           88976,
           85916,
           54036,
           82161,
           85878,
           80057,
           83395,
           44443,
           71530,
           87494,
           81940,
           69995,
           84535,
           60853,
           95009,
           67617,
           109074,
           50408,
           105031,
           22759,
           169271,
           83109,
           66179,
           12873,
           72628,
           78617,
           107048,
           85117,
           71829,
           80684,
           80908,
           73758,
           85559,
           71964,
           56359,
           116035,
           62384,
           82066,
           78953,
           85311,
           103580,
           137067,
           54031,
           76260,
           87396,
           102500,
           101720,
           111613,
           79728,
           106320,
           110528,
           83517,
           80179,
           107768,
           73305,
           67216,
           100978,
           140767,
           106376,
           142064,
           78064,
           106546,
           78942,
           79452,
           66465,
           86340,
           65166,
           59933,
           64692,
           65427,
           116728,
           73335,
           124632,
           148502,
           93732,
           101687,
           67518,
           86435,
           87737,
           133067,
           112546,
           45102,
           47994,
           58199,
           104181,
           87374,
           95310,
           69589,
           86527,
           82825,
           70562,
           92956,
           81839,
           64831,
           93452,
           64527,
           80202,
           78313,
           101153,
           86673,
           81030,
           78483,
           108877,
           83668,
           112500,
           106429,
           24427,
           176652,
           107756,
           90487,
           93542,
           86274,
           124997,
           76452,
           160972,
           126400,
           135939,
           89067,
           75165,
           72409,
           135908,
           94769,
           64298,
           62652,
           56132,
           76499,
           93269,
           110129,
           101591,
           98393,
           116328,
           83117,
           85241,
           113289,
           67145,
           58102,
           106953,
           30760,
           13405,
           14610,
           14003,
           12733,
           2628
          ],
          "coloraxis": "coloraxis",
          "symbol": "circle"
         },
         "mode": "markers",
         "name": "",
         "showlegend": false,
         "type": "scatter",
         "x": [
          "2019-10-12T03:25:00",
          "2019-10-11T14:15:00",
          "2019-10-11T13:49:00",
          "2019-10-07T15:20:00",
          "2019-10-06T23:54:00",
          "2019-10-06T16:42:00",
          "2019-10-01T10:54:00",
          "2019-09-30T14:03:00",
          "2019-09-30T12:31:00",
          "2019-09-30T11:48:00",
          "2019-09-26T23:02:00",
          "2019-09-25T20:17:00",
          "2019-09-11T23:17:00",
          "2019-09-04T14:18:00",
          "2019-09-04T13:44:00",
          "2019-09-03T13:33:00",
          "2019-09-03T13:12:00",
          "2019-09-03T13:12:00",
          "2019-09-01T12:25:00",
          "2019-08-28T12:06:00",
          "2019-08-25T23:10:00",
          "2019-08-24T03:58:00",
          "2019-08-23T21:00:00",
          "2019-08-23T21:00:00",
          "2019-08-23T14:59:00",
          "2019-08-23T14:59:00",
          "2019-08-23T14:59:00",
          "2019-08-21T12:52:00",
          "2019-08-18T19:24:00",
          "2019-08-15T16:52:00",
          "2019-08-14T22:59:00",
          "2019-08-14T22:32:00",
          "2019-08-14T19:21:00",
          "2019-08-13T14:10:00",
          "2019-08-10T21:58:00",
          "2019-08-07T12:46:00",
          "2019-08-06T17:51:00",
          "2019-08-06T12:00:00",
          "2019-08-06T11:47:00",
          "2019-08-05T16:00:00",
          "2019-08-05T12:12:00",
          "2019-08-03T12:46:00",
          "2019-08-01T17:26:00",
          "2019-08-01T14:24:00",
          "2019-07-30T12:40:00",
          "2019-07-30T11:09:00",
          "2019-07-29T13:18:00",
          "2019-07-15T10:43:00",
          "2019-07-11T14:04:00",
          "2019-06-29T22:32:00",
          "2019-06-29T21:22:00",
          "2019-06-28T22:51:00",
          "2019-06-18T13:39:00",
          "2019-06-13T03:50:00",
          "2019-06-13T03:07:00",
          "2019-05-14T12:35:00",
          "2019-05-14T11:29:00",
          "2019-05-14T11:16:00",
          "2019-05-14T11:16:00",
          "2019-05-14T10:31:00",
          "2019-05-14T10:15:00",
          "2019-05-12T23:22:00",
          "2019-05-12T21:06:00",
          "2019-05-10T19:14:00",
          "2019-05-10T19:14:00",
          "2019-05-10T13:39:00",
          "2019-05-10T12:55:00",
          "2019-05-10T11:48:00",
          "2019-05-10T11:24:00",
          "2019-05-08T12:48:00",
          "2019-05-08T12:48:00",
          "2019-05-05T16:08:00",
          "2019-05-03T17:06:00",
          "2019-04-30T17:56:00",
          "2019-04-04T12:01:00",
          "2019-03-18T11:45:00",
          "2019-03-16T21:07:00",
          "2019-02-27T09:45:00",
          "2019-02-26T00:04:00",
          "2019-02-25T20:12:00",
          "2019-02-24T22:50:00",
          "2019-02-24T22:39:00",
          "2019-02-24T13:05:00",
          "2019-02-17T12:00:00",
          "2019-02-17T00:17:00",
          "2019-01-31T14:56:00",
          "2019-01-31T12:41:00",
          "2019-01-21T21:57:00",
          "2019-01-14T22:19:00",
          "2019-01-03T14:52:00",
          "2018-12-29T16:03:00",
          "2018-12-21T14:41:00",
          "2018-12-17T13:27:00",
          "2018-12-07T00:56:00",
          "2018-12-05T13:51:00",
          "2018-12-05T13:44:00",
          "2018-12-05T13:19:00",
          "2018-12-05T12:46:00",
          "2018-12-04T15:10:00",
          "2018-12-04T14:30:00",
          "2018-12-03T13:18:00",
          "2018-12-03T13:01:00",
          "2018-12-03T12:54:00",
          "2018-11-13T11:50:00",
          "2018-11-09T21:10:00",
          "2018-11-01T14:09:00",
          "2018-10-25T13:57:00",
          "2018-09-18T12:55:00",
          "2018-09-18T12:50:00",
          "2018-09-13T14:15:00",
          "2018-09-09T14:01:00",
          "2018-09-08T15:45:00",
          "2018-08-29T21:23:00",
          "2018-08-29T21:23:00",
          "2018-08-24T17:36:00",
          "2018-08-20T17:14:00",
          "2018-08-18T11:46:00",
          "2018-08-08T15:25:00",
          "2018-08-04T20:03:00",
          "2018-08-04T19:47:00",
          "2018-07-25T11:20:00",
          "2018-07-20T12:43:00",
          "2018-07-09T14:25:00",
          "2018-06-04T13:47:00",
          "2018-06-04T12:41:00",
          "2018-05-21T13:16:00",
          "2018-05-21T11:40:00",
          "2018-05-21T11:27:00",
          "2018-05-21T11:21:00",
          "2018-05-13T19:22:00",
          "2018-05-08T11:22:00",
          "2018-05-05T00:31:00",
          "2018-05-03T03:45:00",
          "2018-05-02T11:45:00",
          "2018-05-01T11:00:00",
          "2018-04-27T11:50:00",
          "2018-04-10T18:30:00",
          "2018-04-10T17:51:00",
          "2018-04-09T10:03:00",
          "2018-04-08T12:12:00",
          "2018-04-07T18:03:00",
          "2018-04-05T13:10:00",
          "2018-03-07T15:10:00",
          "2017-12-28T16:24:00",
          "2017-11-30T12:25:00",
          "2017-11-22T10:33:00",
          "2017-11-22T10:25:00",
          "2017-11-19T23:36:00",
          "2017-11-16T11:30:00",
          "2017-11-12T00:16:00",
          "2017-11-10T01:17:00",
          "2017-11-09T23:39:00",
          "2017-11-09T13:58:00",
          "2017-11-08T15:40:00",
          "2017-11-08T01:00:00",
          "2017-10-25T19:24:00",
          "2017-09-14T02:22:00",
          "2017-09-03T11:39:00",
          "2017-08-05T22:44:00",
          "2017-07-29T23:29:00",
          "2017-07-08T18:55:00",
          "2017-07-04T02:24:00",
          "2017-06-20T18:38:00",
          "2017-04-28T23:26:00",
          "2017-04-13T13:08:00",
          "2017-04-08T14:50:00",
          "2017-03-30T22:16:00",
          "2017-02-10T13:35:00",
          "2016-09-06T11:12:00",
          "2016-06-29T13:09:00",
          "2016-05-20T09:47:00",
          "2016-05-17T11:37:00",
          "2016-05-08T05:57:00",
          "2016-01-05T03:36:00"
         ],
         "xaxis": "x",
         "y": [
          -0.5266,
          0.8805,
          0.8952,
          0.6815,
          0.8553,
          0.7597,
          0.636,
          -0.8616,
          0.9293,
          0.5893,
          0.6187,
          -0.5994,
          0.5719,
          0.6397,
          0.6397,
          0.5093,
          0.8357,
          0.7793,
          0.5093,
          0.6779,
          -0.555,
          -0.7177,
          0.5106,
          0.7574,
          -0.5972,
          0.9029,
          -0.636,
          -0.5731,
          0.8634,
          -0.68,
          0.8439,
          0.7351,
          0.7208,
          0.6588,
          0.7906,
          -0.7759,
          0.8363,
          0.9492,
          0.8363,
          -0.7574,
          -0.8129,
          0.6216,
          0.8436,
          0.6552,
          0.6808,
          -0.9131,
          0.68,
          0.6369,
          0.9192,
          0.8496,
          0.8496,
          0.5974,
          0.7178,
          -0.6449,
          -0.6449,
          0.6988,
          0.8898,
          0.9239,
          -0.6239,
          0.7811,
          0.8513,
          0.7371,
          0.7592,
          0.7501,
          0.7088,
          0.5688,
          0.807,
          0.7448,
          -0.7861,
          0.6078,
          0.7131,
          0.7506,
          0.7741,
          0.7845,
          0.6557,
          0.5848,
          0.8431,
          0.6996,
          0.807,
          0.659,
          0.8953,
          0.891,
          0.8923,
          0.8856,
          0.6696,
          -0.6476,
          0.8029,
          -0.5255,
          0.7579,
          0.7177,
          0.8059,
          -0.505,
          0.6893,
          0.9117,
          -0.96,
          0.8221,
          0.7388,
          0.7184,
          0.9006,
          0.7089,
          0.96,
          0.8528,
          0.8986,
          -0.7177,
          0.6118,
          0.8617,
          -0.6588,
          0.7901,
          0.7845,
          -0.872,
          0.5147,
          0.9628,
          -0.7184,
          0.8553,
          0.8516,
          -0.9864,
          0.8006,
          0.951,
          0.5492,
          0.6369,
          0.7644,
          0.5586,
          0.831,
          -0.7511,
          -0.5194,
          0.6249,
          0.671,
          0.7644,
          0.8213,
          0.901,
          0.8555,
          0.6948,
          0.855,
          -0.7897,
          0.7558,
          0.9055,
          0.9577,
          0.9577,
          0.8465,
          0.7901,
          -0.6996,
          -0.9302,
          0.5551,
          -0.8743,
          -0.8288,
          -0.8311,
          -0.68,
          -0.6938,
          0.6705,
          0.5994,
          0.8986,
          -0.8908,
          0.7297,
          0.9078,
          0.765,
          0.6793,
          0.6239,
          0.706,
          0.6696,
          -0.6697,
          0.5719,
          -0.5294,
          0.7171,
          -0.6122,
          0.8268,
          0.8779,
          -0.6115,
          -0.8139,
          -0.5255,
          -0.5719,
          0.7506,
          -0.6114,
          0.9696,
          0.7034
         ],
         "yaxis": "y"
        }
       ],
       "layout": {
        "autosize": true,
        "coloraxis": {
         "colorbar": {
          "title": {
           "text": "favorite_count"
          }
         },
         "colorscale": [
          [
           0,
           "#000004"
          ],
          [
           0.1111111111111111,
           "#180f3d"
          ],
          [
           0.2222222222222222,
           "#440f76"
          ],
          [
           0.3333333333333333,
           "#721f81"
          ],
          [
           0.4444444444444444,
           "#9e2f7f"
          ],
          [
           0.5555555555555556,
           "#cd4071"
          ],
          [
           0.6666666666666666,
           "#f1605d"
          ],
          [
           0.7777777777777778,
           "#fd9668"
          ],
          [
           0.8888888888888888,
           "#feca8d"
          ],
          [
           1,
           "#fcfdbf"
          ]
         ]
        },
        "legend": {
         "tracegroupgap": 0
        },
        "margin": {
         "t": 60
        },
        "template": {
         "data": {
          "bar": [
           {
            "error_x": {
             "color": "#2a3f5f"
            },
            "error_y": {
             "color": "#2a3f5f"
            },
            "marker": {
             "line": {
              "color": "#E5ECF6",
              "width": 0.5
             }
            },
            "type": "bar"
           }
          ],
          "barpolar": [
           {
            "marker": {
             "line": {
              "color": "#E5ECF6",
              "width": 0.5
             }
            },
            "type": "barpolar"
           }
          ],
          "carpet": [
           {
            "aaxis": {
             "endlinecolor": "#2a3f5f",
             "gridcolor": "white",
             "linecolor": "white",
             "minorgridcolor": "white",
             "startlinecolor": "#2a3f5f"
            },
            "baxis": {
             "endlinecolor": "#2a3f5f",
             "gridcolor": "white",
             "linecolor": "white",
             "minorgridcolor": "white",
             "startlinecolor": "#2a3f5f"
            },
            "type": "carpet"
           }
          ],
          "choropleth": [
           {
            "colorbar": {
             "outlinewidth": 0,
             "ticks": ""
            },
            "type": "choropleth"
           }
          ],
          "contour": [
           {
            "colorbar": {
             "outlinewidth": 0,
             "ticks": ""
            },
            "colorscale": [
             [
              0,
              "#0d0887"
             ],
             [
              0.1111111111111111,
              "#46039f"
             ],
             [
              0.2222222222222222,
              "#7201a8"
             ],
             [
              0.3333333333333333,
              "#9c179e"
             ],
             [
              0.4444444444444444,
              "#bd3786"
             ],
             [
              0.5555555555555556,
              "#d8576b"
             ],
             [
              0.6666666666666666,
              "#ed7953"
             ],
             [
              0.7777777777777778,
              "#fb9f3a"
             ],
             [
              0.8888888888888888,
              "#fdca26"
             ],
             [
              1,
              "#f0f921"
             ]
            ],
            "type": "contour"
           }
          ],
          "contourcarpet": [
           {
            "colorbar": {
             "outlinewidth": 0,
             "ticks": ""
            },
            "type": "contourcarpet"
           }
          ],
          "heatmap": [
           {
            "colorbar": {
             "outlinewidth": 0,
             "ticks": ""
            },
            "colorscale": [
             [
              0,
              "#0d0887"
             ],
             [
              0.1111111111111111,
              "#46039f"
             ],
             [
              0.2222222222222222,
              "#7201a8"
             ],
             [
              0.3333333333333333,
              "#9c179e"
             ],
             [
              0.4444444444444444,
              "#bd3786"
             ],
             [
              0.5555555555555556,
              "#d8576b"
             ],
             [
              0.6666666666666666,
              "#ed7953"
             ],
             [
              0.7777777777777778,
              "#fb9f3a"
             ],
             [
              0.8888888888888888,
              "#fdca26"
             ],
             [
              1,
              "#f0f921"
             ]
            ],
            "type": "heatmap"
           }
          ],
          "heatmapgl": [
           {
            "colorbar": {
             "outlinewidth": 0,
             "ticks": ""
            },
            "colorscale": [
             [
              0,
              "#0d0887"
             ],
             [
              0.1111111111111111,
              "#46039f"
             ],
             [
              0.2222222222222222,
              "#7201a8"
             ],
             [
              0.3333333333333333,
              "#9c179e"
             ],
             [
              0.4444444444444444,
              "#bd3786"
             ],
             [
              0.5555555555555556,
              "#d8576b"
             ],
             [
              0.6666666666666666,
              "#ed7953"
             ],
             [
              0.7777777777777778,
              "#fb9f3a"
             ],
             [
              0.8888888888888888,
              "#fdca26"
             ],
             [
              1,
              "#f0f921"
             ]
            ],
            "type": "heatmapgl"
           }
          ],
          "histogram": [
           {
            "marker": {
             "colorbar": {
              "outlinewidth": 0,
              "ticks": ""
             }
            },
            "type": "histogram"
           }
          ],
          "histogram2d": [
           {
            "colorbar": {
             "outlinewidth": 0,
             "ticks": ""
            },
            "colorscale": [
             [
              0,
              "#0d0887"
             ],
             [
              0.1111111111111111,
              "#46039f"
             ],
             [
              0.2222222222222222,
              "#7201a8"
             ],
             [
              0.3333333333333333,
              "#9c179e"
             ],
             [
              0.4444444444444444,
              "#bd3786"
             ],
             [
              0.5555555555555556,
              "#d8576b"
             ],
             [
              0.6666666666666666,
              "#ed7953"
             ],
             [
              0.7777777777777778,
              "#fb9f3a"
             ],
             [
              0.8888888888888888,
              "#fdca26"
             ],
             [
              1,
              "#f0f921"
             ]
            ],
            "type": "histogram2d"
           }
          ],
          "histogram2dcontour": [
           {
            "colorbar": {
             "outlinewidth": 0,
             "ticks": ""
            },
            "colorscale": [
             [
              0,
              "#0d0887"
             ],
             [
              0.1111111111111111,
              "#46039f"
             ],
             [
              0.2222222222222222,
              "#7201a8"
             ],
             [
              0.3333333333333333,
              "#9c179e"
             ],
             [
              0.4444444444444444,
              "#bd3786"
             ],
             [
              0.5555555555555556,
              "#d8576b"
             ],
             [
              0.6666666666666666,
              "#ed7953"
             ],
             [
              0.7777777777777778,
              "#fb9f3a"
             ],
             [
              0.8888888888888888,
              "#fdca26"
             ],
             [
              1,
              "#f0f921"
             ]
            ],
            "type": "histogram2dcontour"
           }
          ],
          "mesh3d": [
           {
            "colorbar": {
             "outlinewidth": 0,
             "ticks": ""
            },
            "type": "mesh3d"
           }
          ],
          "parcoords": [
           {
            "line": {
             "colorbar": {
              "outlinewidth": 0,
              "ticks": ""
             }
            },
            "type": "parcoords"
           }
          ],
          "scatter": [
           {
            "marker": {
             "colorbar": {
              "outlinewidth": 0,
              "ticks": ""
             }
            },
            "type": "scatter"
           }
          ],
          "scatter3d": [
           {
            "line": {
             "colorbar": {
              "outlinewidth": 0,
              "ticks": ""
             }
            },
            "marker": {
             "colorbar": {
              "outlinewidth": 0,
              "ticks": ""
             }
            },
            "type": "scatter3d"
           }
          ],
          "scattercarpet": [
           {
            "marker": {
             "colorbar": {
              "outlinewidth": 0,
              "ticks": ""
             }
            },
            "type": "scattercarpet"
           }
          ],
          "scattergeo": [
           {
            "marker": {
             "colorbar": {
              "outlinewidth": 0,
              "ticks": ""
             }
            },
            "type": "scattergeo"
           }
          ],
          "scattergl": [
           {
            "marker": {
             "colorbar": {
              "outlinewidth": 0,
              "ticks": ""
             }
            },
            "type": "scattergl"
           }
          ],
          "scattermapbox": [
           {
            "marker": {
             "colorbar": {
              "outlinewidth": 0,
              "ticks": ""
             }
            },
            "type": "scattermapbox"
           }
          ],
          "scatterpolar": [
           {
            "marker": {
             "colorbar": {
              "outlinewidth": 0,
              "ticks": ""
             }
            },
            "type": "scatterpolar"
           }
          ],
          "scatterpolargl": [
           {
            "marker": {
             "colorbar": {
              "outlinewidth": 0,
              "ticks": ""
             }
            },
            "type": "scatterpolargl"
           }
          ],
          "scatterternary": [
           {
            "marker": {
             "colorbar": {
              "outlinewidth": 0,
              "ticks": ""
             }
            },
            "type": "scatterternary"
           }
          ],
          "surface": [
           {
            "colorbar": {
             "outlinewidth": 0,
             "ticks": ""
            },
            "colorscale": [
             [
              0,
              "#0d0887"
             ],
             [
              0.1111111111111111,
              "#46039f"
             ],
             [
              0.2222222222222222,
              "#7201a8"
             ],
             [
              0.3333333333333333,
              "#9c179e"
             ],
             [
              0.4444444444444444,
              "#bd3786"
             ],
             [
              0.5555555555555556,
              "#d8576b"
             ],
             [
              0.6666666666666666,
              "#ed7953"
             ],
             [
              0.7777777777777778,
              "#fb9f3a"
             ],
             [
              0.8888888888888888,
              "#fdca26"
             ],
             [
              1,
              "#f0f921"
             ]
            ],
            "type": "surface"
           }
          ],
          "table": [
           {
            "cells": {
             "fill": {
              "color": "#EBF0F8"
             },
             "line": {
              "color": "white"
             }
            },
            "header": {
             "fill": {
              "color": "#C8D4E3"
             },
             "line": {
              "color": "white"
             }
            },
            "type": "table"
           }
          ]
         },
         "layout": {
          "annotationdefaults": {
           "arrowcolor": "#2a3f5f",
           "arrowhead": 0,
           "arrowwidth": 1
          },
          "colorscale": {
           "diverging": [
            [
             0,
             "#8e0152"
            ],
            [
             0.1,
             "#c51b7d"
            ],
            [
             0.2,
             "#de77ae"
            ],
            [
             0.3,
             "#f1b6da"
            ],
            [
             0.4,
             "#fde0ef"
            ],
            [
             0.5,
             "#f7f7f7"
            ],
            [
             0.6,
             "#e6f5d0"
            ],
            [
             0.7,
             "#b8e186"
            ],
            [
             0.8,
             "#7fbc41"
            ],
            [
             0.9,
             "#4d9221"
            ],
            [
             1,
             "#276419"
            ]
           ],
           "sequential": [
            [
             0,
             "#0d0887"
            ],
            [
             0.1111111111111111,
             "#46039f"
            ],
            [
             0.2222222222222222,
             "#7201a8"
            ],
            [
             0.3333333333333333,
             "#9c179e"
            ],
            [
             0.4444444444444444,
             "#bd3786"
            ],
            [
             0.5555555555555556,
             "#d8576b"
            ],
            [
             0.6666666666666666,
             "#ed7953"
            ],
            [
             0.7777777777777778,
             "#fb9f3a"
            ],
            [
             0.8888888888888888,
             "#fdca26"
            ],
            [
             1,
             "#f0f921"
            ]
           ],
           "sequentialminus": [
            [
             0,
             "#0d0887"
            ],
            [
             0.1111111111111111,
             "#46039f"
            ],
            [
             0.2222222222222222,
             "#7201a8"
            ],
            [
             0.3333333333333333,
             "#9c179e"
            ],
            [
             0.4444444444444444,
             "#bd3786"
            ],
            [
             0.5555555555555556,
             "#d8576b"
            ],
            [
             0.6666666666666666,
             "#ed7953"
            ],
            [
             0.7777777777777778,
             "#fb9f3a"
            ],
            [
             0.8888888888888888,
             "#fdca26"
            ],
            [
             1,
             "#f0f921"
            ]
           ]
          },
          "colorway": [
           "#636efa",
           "#EF553B",
           "#00cc96",
           "#ab63fa",
           "#FFA15A",
           "#19d3f3",
           "#FF6692",
           "#B6E880",
           "#FF97FF",
           "#FECB52"
          ],
          "font": {
           "color": "#2a3f5f"
          },
          "geo": {
           "bgcolor": "white",
           "lakecolor": "white",
           "landcolor": "#E5ECF6",
           "showlakes": true,
           "showland": true,
           "subunitcolor": "white"
          },
          "hoverlabel": {
           "align": "left"
          },
          "hovermode": "closest",
          "mapbox": {
           "style": "light"
          },
          "paper_bgcolor": "white",
          "plot_bgcolor": "#E5ECF6",
          "polar": {
           "angularaxis": {
            "gridcolor": "white",
            "linecolor": "white",
            "ticks": ""
           },
           "bgcolor": "#E5ECF6",
           "radialaxis": {
            "gridcolor": "white",
            "linecolor": "white",
            "ticks": ""
           }
          },
          "scene": {
           "xaxis": {
            "backgroundcolor": "#E5ECF6",
            "gridcolor": "white",
            "gridwidth": 2,
            "linecolor": "white",
            "showbackground": true,
            "ticks": "",
            "zerolinecolor": "white"
           },
           "yaxis": {
            "backgroundcolor": "#E5ECF6",
            "gridcolor": "white",
            "gridwidth": 2,
            "linecolor": "white",
            "showbackground": true,
            "ticks": "",
            "zerolinecolor": "white"
           },
           "zaxis": {
            "backgroundcolor": "#E5ECF6",
            "gridcolor": "white",
            "gridwidth": 2,
            "linecolor": "white",
            "showbackground": true,
            "ticks": "",
            "zerolinecolor": "white"
           }
          },
          "shapedefaults": {
           "line": {
            "color": "#2a3f5f"
           }
          },
          "ternary": {
           "aaxis": {
            "gridcolor": "white",
            "linecolor": "white",
            "ticks": ""
           },
           "baxis": {
            "gridcolor": "white",
            "linecolor": "white",
            "ticks": ""
           },
           "bgcolor": "#E5ECF6",
           "caxis": {
            "gridcolor": "white",
            "linecolor": "white",
            "ticks": ""
           }
          },
          "title": {
           "x": 0.05
          },
          "xaxis": {
           "automargin": true,
           "gridcolor": "white",
           "linecolor": "white",
           "ticks": "",
           "zerolinecolor": "white",
           "zerolinewidth": 2
          },
          "yaxis": {
           "automargin": true,
           "gridcolor": "white",
           "linecolor": "white",
           "ticks": "",
           "zerolinecolor": "white",
           "zerolinewidth": 2
          }
         }
        },
        "xaxis": {
         "anchor": "y",
         "autorange": true,
         "domain": [
          0,
          0.98
         ],
         "range": [
          "2015-10-12 17:24:14.763",
          "2020-01-04 13:36:45.237"
         ],
         "title": {
          "text": "date"
         },
         "type": "date"
        },
        "yaxis": {
         "anchor": "x",
         "autorange": true,
         "domain": [
          0,
          1
         ],
         "range": [
          -1.1151158671586716,
          1.0983158671586717
         ],
         "title": {
          "text": "Compound"
         },
         "type": "linear"
        }
       }
      },
      "image/png": "[encoded data removed]",
      "text/html": [
       "<div>\n",
       "        \n",
       "        \n",
       "            <div id=\"e8cd95a0-7ede-4217-aec2-90c91de037e0\" class=\"plotly-graph-div\" style=\"height:600px; width:100%;\"></div>\n",
       "            <script type=\"text/javascript\">\n",
       "                require([\"plotly\"], function(Plotly) {\n",
       "                    window.PLOTLYENV=window.PLOTLYENV || {};\n",
       "                    \n",
       "                if (document.getElementById(\"e8cd95a0-7ede-4217-aec2-90c91de037e0\")) {\n",
       "                    Plotly.newPlot(\n",
       "                        'e8cd95a0-7ede-4217-aec2-90c91de037e0',\n",
       "                        [{\"customdata\": [[\"So funny to watch Steve Kerr grovel and pander when asked a simple question about China. He chocked and looks weak and pathetic. Don\\u2019t want him at the White House!\"], [\"One of the great things about the China Deal is the fact that for various reasons we do not have to go through the very long and politically complex Congressional Approval Process. When the deal is fully negotiated I sign it myself on behalf of our Country. Fast and Clean!\"], [\"Good things are happening at China Trade Talk Meeting. Warmer feelings than in recent past more like the Old Days. I will be meeting with the Vice Premier today. All would like to see something significant happen!\"], [\"I was elected on getting out of these ridiculous endless wars where our great Military functions as a policing operation to the benefit of people who don\\u2019t even like the USA. The two most unhappy countries at this move are Russia &amp; China because they love seeing us bogged.....\"], [\".@60Minutes \\u201cforgot\\u201d to report that we are helping the great farmers of the USA to the tune of 28 Billion Dollars for the last two years paid for out of Tariffs paid to the United States by China for targeting the farmer. They devalued their currency therefore paying the cost!\"], [\"....And by the way I would LOVE running against 1% Joe Biden - I just don\\u2019t think it\\u2019s going to happen. Sleepy Joe won\\u2019t get to the starting gate &amp; based on all of the money he &amp; his family probably \\u201cextorted\\u201d Joe should hang it up. I wouldn\\u2019t want him dealing with China &amp; U!\"], [\"Congratulations to President Xi and the Chinese people on the 70th Anniversary of the People\\u2019s Republic of China!\"], [\"The Fake News Media wants to stay as far away as possible from the Ukraine and China deals made by the Bidens. A Corrupt Media is so bad for our Country! In actuality the Media may be even more Corrupt than the Bidens which is hard to do!\"], [\"....place in TRADE it\\u2019s taking shape in Military Competition.\\u201d Johnathan Ward author and China expert. We are winning and we will win. They should not have broken the deal we had with them. Happy Birthday China!\"], [\"\\u201cChina Trade Turmoil: China Urging a CALM AND RATIONAL Solution.\\u201d @MariaBartiromo @FoxBusiness China is doing very poorly while the USA under your favorite President\\u2019s leadership continues to soar to new heights - and despite the Do Nothing Democrats we have just begun!\"], [\"The President of Ukraine said that he was NOT pressured by me to do anything wrong. Can\\u2019t have better testimony than that! As V.P. Biden had his son on the other hand take out millions of dollars by strong arming the Ukrainian President. Also looted millions from China. Bad!\"], [\"....taken out of Ukraine and China. Additionally I demand transparency from Democrats that went to Ukraine and attempted to force the new President to do things that they wanted under the form of political threat.\"], [\"At the request of the Vice Premier of China Liu He and due to the fact that the People's Republic of China will be celebrating their 70th Anniversary....\"], [\"\\u201cThe Chinese are very adept at not accepting anything. You\\u2019ve got to be very tough and that\\u2019s what Trump is doing. It\\u2019s in China\\u2019s interest to correct and I think we\\u2019ll end up with a solution that\\u2019s dramatically better than we have today. Frankly I think the impact of what...\"], [\"\\u201cThe Chinese are very adept at not accepting anything. You\\u2019ve got to be very tough and that\\u2019s what Trump is doing. It\\u2019s in China\\u2019s interest to correct and I think we\\u2019ll end up with a solution that\\u2019s dramatically better than we have today. Frankly I think the impact of what....\"], [\"For all of the \\u201cgeniuses\\u201d out there many who have been in other administrations and \\u201ctaken to the cleaners\\u201d by China that want me to get together with the EU and others to go after China Trade practices remember the EU &amp; all treat us VERY unfairly on Trade also. Will change!\"], [\"We are doing very well in our negotiations with China. While I am sure they would love to be dealing with a new administration so they could continue their practice of \\u201cripoff USA\\u201d($600 B/year)16 months PLUS is a long time to be hemorrhaging jobs and companies on a long-shot....\"], [\"....And then think what happens to China when I win. Deal would get MUCH TOUGHER! In the meantime China\\u2019s Supply Chain will crumble and businesses jobs and money will be gone!\"], [\"....is about American Freedom. Redirect the supply chain. There is no reason to buy everything from China!\"], [\"So interesting to read and see all of the free and interesting advice I am getting on China from people who have tried to handle it before and failed miserably - In fact they got taken to the cleaners. We are doing very well with China. This has never happened to them before!\"], [\"In France we are all laughing at how knowingly inaccurate the U.S. reporting of events and conversations at the G-7 is. These Leaders and many others are getting a major case study of Fake News at it\\u2019s finest! They\\u2019ve got it all wrong from Iran to China Tariffs to Boris!\"], [\"For all of the Fake News Reporters that don\\u2019t have a clue as to what the law is relative to Presidential powers China etc. try looking at the Emergency Economic Powers Act of 1977. Case closed!\"], [\"For many years China (and many other countries) has been taking advantage of the United States on Trade Intellectual Property Theft and much more. Our Country has been losing HUNDREDS OF BILLIONS OF DOLLARS a year to China with no end in sight....\"], [\"....Sadly past Administrations have allowed China to get so far ahead of Fair and Balanced Trade that it has become a great burden to the American Taxpayer. As President I can no longer allow this to happen! In the spirit of achieving Fair Trade we must Balance this very....\"], [\"....all deliveries of Fentanyl from China (or anywhere else!). Fentanyl kills 100000 Americans a year. President Xi said this would stop - it didn\\u2019t. Our Economy because of our gains in the last 2 1/2 years is MUCH larger than that of China. We will keep it that way!\"], [\"....your companies HOME and making your products in the USA. I will be responding to China\\u2019s Tariffs this afternoon. This is a GREAT opportunity for the United States. Also I am ordering all carriers including Fed Ex Amazon UPS and the Post Office to SEARCH FOR &amp; REFUSE....\"], [\"Our Country has lost stupidly Trillions of Dollars with China over many years. They have stolen our Intellectual Property at a rate of Hundreds of Billions of Dollars a year &amp; they want to continue. I won\\u2019t let that happen! We don\\u2019t need China and frankly would be far....\"], [\"Doing great with China and other Trade Deals. The only problem we have is Jay Powell and the Fed. He\\u2019s like a golfer who can\\u2019t putt has no touch. Big U.S. growth if he does the right thing BIG CUT - but don\\u2019t count on him! So far he has called it wrong and only let us down....\"], [\"Our economy is the best in the world by far. Lowest unemployment ever within almost all categories. Poised for big growth after trade deals are completed. Import prices down China eating Tariffs. Helping targeted Farmers from big Tariff money coming in. Great future for USA!\"], [\"The Fake News Media is doing everything they can to crash the economy because they think that will be bad for me and my re-election. The problem they have is that the economy is way too strong and we will soon be winning big on Trade and everyone knows that including China!\"], [\"I know President Xi of China very well. He is a great leader who very much has the respect of his people. He is also a good man in a \\u201ctough business.\\u201d I have ZERO doubt that if President Xi wants to quickly and humanely solve the Hong Kong problem he can do it. Personal meeting?\"], [\"Good things were stated on the call with China the other day. They are eating the Tariffs with the devaluation of their currency and \\u201cpouring\\u201d money into their system. The American consumer is fine with or without the September date but much good will come from the short.....\"], [\"We are winning big time against China. Companies &amp; jobs are fleeing. Prices to us have not gone up and in some cases have come down. China is not our problem though Hong Kong is not helping. Our problem is with the Fed. Raised too much &amp; too fast. Now too slow to cut....\"], [\"As usual China said they were going to be buying \\u201cbig\\u201d from our great American Farmers. So far they have not done what they said. Maybe this will be different!\"], [\"China wants to make a deal so badly. Thousands of companies are leaving because of the Tariffs they must stem the flow. At the same time China may be hoping for a Democrat to win so they could continue the great ripoff of America &amp; the theft of hundreds of Billions of $\\u2019s!\"], [\"\\u201cThree more Central Banks cut rates.\\u201d Our problem is not China - We are stronger than ever money is pouring into the U.S. while China is losing companies by the thousands to other countries and their currency is under siege - Our problem is a Federal Reserve that is too.....\"], [\".@sundarpichai of Google was in the Oval Office working very hard to explain how much he liked me what a great job the Administration is doing that Google was not involved with China\\u2019s military that they didn\\u2019t help Crooked Hillary over me in the 2016 Election &amp; that they...\"], [\"Massive amounts of money from China and other parts of the world is pouring into the United States for reasons of safety investment and interest rates! We are in a very strong position. Companies are also coming to the U.S. in big numbers. A beautiful thing to watch!\"], [\"@sundarpichai of Google was in the Oval Office working very hard to explain how much he liked me what a great job the Administration is doing that Google was not involved with China\\u2019s military that they didn\\u2019t help Crooked Hillary over me in the 2016 Election and that they...\"], [\"China is intent on continuing to receive the hundreds of Billions of Dollars they have been taking from the U.S. with unfair trade practices and currency manipulation. So one-sided it should have been stopped many years ago!\"], [\"China dropped the price of their currency to an almost a historic low. It\\u2019s called \\u201ccurrency manipulation.\\u201d Are you listening Federal Reserve? This is a major violation which will greatly weaken China over time!\"], [\"Things are going along very well with China. They are paying us Tens of Billions of Dollars made possible by their monetary devaluations and pumping in massive amounts of cash to keep their system going. So far our consumer is paying nothing - and no inflation. No help from Fed!\"], [\"...We look forward to continuing our positive dialogue with China on a comprehensive Trade Deal and feel that the future between our two countries will be a very bright one!\"], [\"China Iran &amp; other foreign countries are looking at the Democrat Candidates and \\u201cdrooling\\u201d over the small prospect that they could be dealing with them in the not too distant future. They would be able to rip off our beloved USA like never before. With President Trump NO WAY!\"], [\"China has lost 5 million jobs and two million manufacturing jobs due to the Trump Tariffs. Trumps got China back on its heels and the United States is doing great. @AndyPuzder @MariaBartiromo\"], [\"China is doing very badly worst year in 27 - was supposed to start buying our agricultural product now - no signs that they are doing so. That is the problem with China they just don\\u2019t come through. Our Economy has become MUCH larger than the Chinese Economy is last 3 years....\"], [\"....countries that know how to play the game against the U.S. That\\u2019s actually why the E.U. was formed....and for China until now the U.S. has been \\u201ceasy pickens.\\u201d The Fed has made all of the wrong moves. A small rate cut is not enough but we will win anyway!\"], [\"China\\u2019s 2nd Quarter growth is the slowest it has been in more than 27 years. The United States Tariffs are having a major effect on companies wanting to leave China for non-tariffed countries. Thousands of companies are leaving. This is why China wants to make a deal....\"], [\"Mexico is doing great at the Border but China is letting us down in that they have not been buying the agricultural products from our great Farmers that they said they would. Hopefully they will start soon!\"], [\"I had a great meeting with President Xi of China yesterday far better than expected. I agreed not to increase the already existing Tariffs that we charge China while we continue to negotiate. China has agreed that during the negotiation they will begin purchasing large.....\"], [\"I had a great meeting with President Xi of China yesterday far better than expected. I agreed not to increase the already existing Tariffs that we charge China while we continue to negotiate. China has agreed that during the negotiation they will begin purchasing large......\"], [\"After some very important meetings including my meeting with President Xi of China I will be leaving Japan for South Korea (with President Moon). While there if Chairman Kim of North Korea sees this I would meet him at the Border/DMZ just to shake his hand and say Hello(?)!\"], [\"Had a very good telephone conversation with President Xi of China. We will be having an extended meeting next week at the G-20 in Japan. Our respective teams will begin talks prior to our meeting.\"], [\"\\u201cBiden would be China\\u2019s Dream Candidate because there would be no more Tariffs no more demands that China stop stealing our IP things would go back to the old days with America\\u2019s manufacturers &amp; workers getting shafted. He has Zero Credibility!\\u201d @IngrahamAngle  So true!\"], [\"\\u201cBiden would be America\\u2019s Dream Candidate because there would be no more Tariffs no more demands that China stop stealing our IP things would go back to the old days with America\\u2019s manufacturers &amp; workers getting shafted. He has Zero Credibility!\\u201d @IngrahamAngle  So true!\"], [\"China will be pumping money into their system and probably reducing interest rates as always in order to make up for the business they are and will be losing. If the Federal Reserve ever did a \\u201cmatch\\u201d it would be game over we win! In any event China wants a deal!\"], [\"Our great Patriot Farmers will be one of the biggest beneficiaries of what is happening now. Hopefully China will do us the honor of continuing to buy our great farm product the best but if not your Country will be making up the difference based on a very high China buy......\"], [\"When the time is right we will make a deal with China. My respect and friendship with President Xi is unlimited but as I have told him many times before this must be a great deal for the United States or it just doesn\\u2019t make any sense. We have to be allowed to make up some.....\"], [\"....of the tremendous ground we have lost to China on Trade since the ridiculous one sided formation of the WTO. It will all happen and much faster than people think!\"], [\"....so that they will be more competitive for USA buyers. We are now a much bigger economy than China and have substantially increased in size since the great 2016 Election. We are the \\u201cpiggy bank\\u201d that everyone wants to raid and take advantage of. NO MORE!\"], [\"In one year Tariffs have rebuilt our Steel Industry - it is booming! We placed a 25% Tariff on \\u201cdumped\\u201d steel from China &amp; other countries and we now have a big and growing industry. We had to save Steel for our defense and auto industries both of which are coming back strong!\"], [\"China is DREAMING that Sleepy Joe Biden or any of the others gets elected in 2020. They LOVE ripping off America!\"], [\"....We will then spend (match or better) the money that China may no longer be spending with our Great Patriot Farmers (Agriculture) which is a small percentage of total Tariffs received and distribute the food to starving people in nations around the world! GREAT! #MAGA\"], [\"Over the course of the past two days the United States and China have held candid and constructive conversations on the status of the trade relationship between both countries. The relationship between President Xi and myself remains a very strong one and conversations....\"], [\"....into the future will continue. In the meantime the United States has imposed Tariffs on China which may or may not be removed depending on what happens with respect to future negotiations!\"], [\"\\u201cWe have been engaged in an unfair relationship with China for a long time. They have reneged on the commitments they made to the WTO particularly around intellectual property.\\u201d Carly Fiorina @MariaBartiromo\"], [\"Your all time favorite President got tired of waiting for China to help out and start buying from our FARMERS the greatest anywhere in the World!\"], [\"Tariffs will make our Country MUCH STRONGER not weaker. Just sit back and watch! In the meantime China should not renegotiate deals with the U.S. at the last minute. This is not the Obama Administration or the Administration of Sleepy Joe who let China get away with \\u201cmurder!\\u201d\"], [\"We have lost 500 Billion Dollars a year for many years on Crazy Trade with China. NO MORE!\"], [\"....Guess what that\\u2019s not going to happen! China has just informed us that they (Vice-Premier) are now coming to the U.S. to make a deal. We\\u2019ll see but I am very happy with over $100 Billion a year in Tariffs filling U.S. coffers...great for U.S. not good for China!\"], [\"The reason for the China pullback &amp; attempted renegotiation of the Trade Deal is the sincere HOPE that they will be able to \\u201cnegotiate\\u201d with Joe Biden or one of the very weak Democrats and thereby continue to ripoff the United States (($500 Billion a year)) for years to come....\"], [\"For 10 months China has been paying Tariffs to the USA of 25% on 50 Billion Dollars of High Tech and 10% on 200 Billion Dollars of other goods. These payments are partially responsible for our great economic results. The 10% will go up to 25% on Friday. 325 Billions Dollars....\"], [\"Had a long and very good conversation with President Putin of Russia. As I have always said long before the Witch Hunt started getting along with Russia China and everyone is a good thing not a bad thing....\"], [\"China is adding great stimulus to its economy while at the same time keeping interest rates low. Our Federal Reserve has incessantly lifted interest rates even though inflation is very low and instituted a very big dose of quantitative tightening. We have the potential to go...\"], [\"Despite the unnecessary and destructive actions taken by the Fed the Economy is looking very strong the China and USMCA deals are moving along nicely there is little or no Inflation and USA optimism is very high!\"], [\"....are all coming back to the U.S. So is everyone else. We now have the best Economy in the World the envy of all. Get that big beautiful plant in Ohio open now. Close a plant in China or Mexico where you invested so heavily pre-Trump but not in the U.S.A. Bring jobs home!\"], [\"Google is helping China and their military but not the U.S. Terrible! The good news is that they helped Crooked Hillary Clinton and not Trump....and how did that turn out?\"], [\"All false reporting (guessing) on my intentions with respect to North Korea. Kim Jong Un and I will try very hard to work something out on Denuclearization &amp; then making North Korea an Economic Powerhouse. I believe that China Russia Japan &amp; South Korea will be very helpful!\"], [\"If a deal is made with China our great American Farmers will be treated better than they have ever been treated before!\"], [\"China Trade Deal (and more) in advanced stages. Relationship between our two Countries is very strong. I have therefore agreed to delay U.S. tariff hikes. Let\\u2019s see what happens?\"], [\"....productive talks I will be delaying the U.S. increase in tariffs now scheduled for March 1. Assuming both sides make additional progress we will be planning a Summit for President Xi and myself at Mar-a-Lago to conclude an agreement. A very good weekend for U.S. &amp; China!\"], [\"I am pleased to report that the U.S. has made substantial progress in our trade talks with China on important structural issues including intellectual property protection technology transfer agriculture services currency and many other issues. As a result of these very......\"], [\"President Xi of China has been very helpful in his support of my meeting with Kim Jong Un. The last thing China wants are large scale nuclear weapons right next door. Sanctions placed on the border by China and Russia have been very helpful. Great relationship with Chairman Kim!\"], [\"Important meetings and calls on China Trade Deal and more today with my staff. Big progress being made on soooo many different fronts! Our Country has such fantastic potential for future growth and greatness on an even higher level!\"], [\"Trade negotiators have just returned from China where the meetings on Trade were very productive. Now at meetings with me at Mar-a-Lago giving the details. In the meantime Billions of Dollars are being paid to the United States by China in the form of Trade Tariffs!\"], [\"Looking for China to open their Markets not only to Financial Services which they are now doing but also to our Manufacturing Farmers and other U.S. businesses and industries. Without this a deal would be unacceptable!\"], [\"China\\u2019s top trade negotiators are in the U.S. meeting with our representatives. Meetings are going well with good intent and spirit on both sides. China does not want an increase in Tariffs and feels they will do much better if they make a deal. They are correct. I will be......\"], [\"China posts slowest economic numbers since 1990 due to U.S. trade tensions and new policies. Makes so much sense for China to finally do a Real Deal and stop playing around!\"], [\"For decades politicians promised to secure the border fix our trade deals bring back our factories get tough on China move the Embassy to Jerusalem make NATO pay their fair share and so much else - only to do NOTHING (or worse)....\"], [\"The United States Treasury has taken in MANY billions of dollars from the Tariffs we are charging China and other countries that have not treated us fairly. In the meantime we are doing well in various Trade Negotiations currently going on. At some point this had to be done!\"], [\"Just had a long and very good call with President Xi of China. Deal is moving along very well. If made it will be very comprehensive covering all subjects areas and points of dispute. Big progress being made!\"], [\"There has never been a president who has been tougher (but fair) on China or Russia - Never just look at the facts. The Fake News tries so hard to paint the opposite picture.\"], [\"It is incredible that with a very strong dollar and virtually no inflation the outside world blowing up around us Paris is burning and China way down the Fed is even considering yet another interest rate hike. Take the Victory!\"], [\"Statement from China: \\u201cThe teams of both sides are now having smooth communications and good cooperation with each other. We are full of confidence that an agreement can be reached within the next 90 days.\\u201d I agree!\"], [\".....considered to be the worst and most dangerous addictive and deadly substance of them all. Last year over 77000 people died from Fentanyl. If China cracks down on this \\u201chorror drug\\u201d using the Death Penalty for distributors and pushers the results will be incredible!\"], [\"One of the very exciting things to come out of my meeting with President Xi of China is his promise to me to criminalize the sale of deadly Fentanyl coming into the United States. It will now be considered a \\u201ccontrolled substance.\\u201d This could be a game changer on what is.......\"], [\"Very strong signals being sent by China once they returned home from their long trip including stops from Argentina. Not to sound naive or anything but I believe President Xi meant every word of what he said at our long and hopefully historic meeting. ALL subjects discussed!\"], [\"\\u201cChina officially echoed President Donald Trump\\u2019s optimism over bilateral trade talks. Chinese officials have begun preparing to restart imports of U.S. Soybeans &amp; Liquified Natural Gas the first sign confirming the claims of President Donald Trump and the White House that......\"], [\".....But if a fair deal is able to be made with China one that does all of the many things we know must be finally done I will happily sign. Let the negotiations begin. MAKE AMERICA GREAT AGAIN!\"], [\"The negotiations with China have already started. Unless extended they will end 90 days from the date of our wonderful and very warm dinner with President Xi in Argentina. Bob Lighthizer will be working closely with Steve Mnuchin Larry Kudlow Wilbur Ross and Peter Navarro.....\"], [\"President Xi and I have a very strong and personal relationship. He and I are the only two people that can bring about massive and very positive change on trade and far beyond between our two great Nations. A solution for North Korea is a great thing for China and ALL!\"], [\"Farmers will be a a very BIG and FAST beneficiary of our deal with China. They intend to start purchasing agricultural product immediately. We make the finest and cleanest product in the World and that is what China wants. Farmers I LOVE YOU!\"], [\"My meeting in Argentina with President Xi of China was an extraordinary one. Relations with China have taken a BIG leap forward! Very good things will happen. We are dealing from great strength but China likewise has much to gain if and when a deal is completed. Level the field!\"], [\"Emmanuel Macron suggests building its own army to protect Europe against the U.S. China and Russia. But it was Germany in World Wars One &amp; Two - How did that work out for France? They were starting to learn German in Paris before the U.S. came along. Pay for NATO or not!\"], [\"President Macron of France has just suggested that Europe build its own military in order to protect itself from the U.S. China and Russia. Very insulting but perhaps Europe should first pay its fair share of NATO which the U.S. subsidizes greatly!\"], [\"Just had a long and very good conversation with President Xi Jinping of China. We talked about many subjects with a heavy emphasis on Trade. Those discussions are moving along nicely with meetings being scheduled at the G-20 in Argentina. Also had good discussion on North Korea!\"], [\"The New York Times has a new Fake Story that now the Russians and Chinese (glad they finally added China) are listening to all of my calls on cellphones. Except that I rarely use a cellphone &amp; when I do it\\u2019s government authorized. I like Hard Lines. Just more made up Fake News!\"], [\".....China has been taking advantage of the United States on Trade for many years. They also know that I am the one that knows how to stop it. There will be great and fast economic retaliation against China if our farmers ranchers and/or industrial workers are targeted!\"], [\"China has openly stated that they are actively trying to impact and change our election by attacking our farmers ranchers and industrial workers because of their loyalty to me. What China does not understand is that these people are great patriots and fully understand that.....\"], [\"The Wall Street Journal has it wrong we are under no pressure to make a deal with China they are under pressure to make a deal with us. Our markets are surging theirs are collapsing. We will soon be taking in Billions in Tariffs &amp; making products at home. If we meet we meet?\"], [\"If the U.S. sells a car into China there is a tax of 25%. If China sells a car into the U.S. there is a tax of 2%. Does anybody think that is FAIR? The days of the U.S. being ripped-off by other nations is OVER!\"], [\"Apple prices may increase because of the massive Tariffs we may be imposing on China - but there is an easy solution where there would be ZERO tax and indeed a tax incentive. Make your products in the United States instead of China. Start building new plants now. Exciting! #MAGA\"], [\"...of money on joint U.S.-South Korea war games. Besides the President can instantly start the joint exercises again with South Korea and Japan if he so chooses. If he does they will be far bigger than ever before. As for the U.S.\\u2013China trade disputes and other...\"], [\"...differences they will be resolved in time by President Trump and China\\u2019s great President Xi Jinping. Their relationship and bond remain very strong.\"], [\"...Secretary Pompeo looks forward to going to North Korea in the near future most likely after our Trading relationship with China is resolved. In the meantime I would like to send my warmest regards and respect to Chairman Kim. I look forward to seeing him soon!\"], [\"It is outrageous that Poisonous Synthetic Heroin Fentanyl comes pouring into the U.S. Postal System from China. We can and must END THIS NOW! The Senate should pass the STOP ACT \\u2013 and firmly STOP this poison from killing our children and destroying our country. No more delay!\"], [\"All of the fools that are so focused on looking only at Russia should start also looking in another direction China. But in the end if we are smart tough and well prepared we will get along with everyone!\"], [\"As long as I campaign and/or support Senate and House candidates (within reason) they will win! I LOVE the people &amp; they certainly seem to like the job I\\u2019m doing. If I find the time in between China Iran the Economy and much more which I must we will have a giant Red Wave!\"], [\"....China which is for the first time doing poorly against us is spending a fortune on ads and P.R. trying to convince and scare our politicians to fight me on Tariffs- because they are really hurting their economy. Likewise other countries. We are Winning but must be strong!\"], [\"Tariffs are working far better than anyone ever anticipated. China market has dropped 27% in last 4months and they are talking to us. Our market is stronger than ever and will go up dramatically when these horrible Trade Deals are successfully renegotiated. America First.......\"], [\"China is targeting our farmers who they know I love &amp; respect as a way of getting me to continue allowing them to take advantage of the U.S. They are being vicious in what will be their failed attempt. We were being nice - until now! China made $517 Billion on us last year.\"], [\"China the European Union and others have been manipulating their currencies and interest rates lower while the U.S. is raising rates while the dollars gets stronger and stronger with each passing day - taking away our big competitive edge. As usual not a level playing field...\"], [\"I have confidence that Kim Jong Un will honor the contract we signed &amp; even more importantly our handshake. We agreed to the denuclearization of North Korea. China on the other hand may be exerting negative pressure on a deal because of our posture on Chinese Trade-Hope Not!\"], [\"Farmers have not been doing well for 15 years. Mexico Canada China and others have treated them unfairly. By the time I finish trade talks that will change. Big trade barriers against U.S. farmers and other businesses will finally be broken. Massive trade deficits no longer!\"], [\"China already charges a tax of 16% on soybeans. Canada has all sorts of trade barriers on our Agricultural products. Not acceptable!\"], [\"Under our potential deal with China they will purchase from our Great American Farmers practically as much as our Farmers can produce.\"], [\"China must continue to be strong &amp; tight on the Border of North Korea until a deal is made. The word is that recently the Border has become much more porous and more has been filtering in. I want this to happen and North Korea to be VERY successful but only after signing!\"], [\"China has agreed to buy massive amounts of ADDITIONAL Farm/Agricultural Products - would be one of the best things to happen to our farmers in many years!\"], [\"I ask Senator Chuck Schumer why didn\\u2019t President Obama &amp; the Democrats do something about Trade with China including Theft of Intellectual Property etc.? They did NOTHING! With that being said Chuck &amp; I have long agreed on this issue! Fair Trade plus with China will happen!\"], [\"China and the United States are working well together on trade but past negotiations have been so one sided in favor of China for so many years that it is hard for them to make a deal that benefits both countries. But be cool it will all work out!\"], [\"I will be speaking to my friend President Xi of China this morning at 8:30. The primary topics will be Trade where good things will happen and North Korea where relationships and trust are building.\"], [\"Our high level delegation is on the way back from China where they had long meetings with Chinese leaders and business representatives. We will be meeting tomorrow to determine the results but it is hard for China in that they have become very spoiled with U.S. trade wins!\"], [\"Our great financial team is in China trying to negotiate a level playing field on trade! I look forward to being with President Xi in the not too distant future. We will always have a good (great) relationship!\"], [\"There was no Collusion (it is a Hoax) and there is no Obstruction of Justice (that is a setup &amp; trap). What there is is Negotiations going on with North Korea over Nuclear War Negotiations going on with China over Trade Deficits Negotiations on NAFTA and much more. Witch Hunt!\"], [\"Delegation heading to China to begin talks on the Massive Trade Deficit that has been created with our Country. Very much like North Korea this should have been fixed years ago not now. Same with other countries and NAFTA...but it will all get done. Great Potential for USA!\"], [\"Please do not forget the great help that my good friend President Xi of China has given to the United States particularly at the Border of North Korea. Without him it would have been a much longer tougher process!\"], [\"Very thankful for President Xi of China\\u2019s kind words on tariffs and automobile barriers...also his enlightenment on intellectual property and technology transfers. We will make great progress together!\"], [\"Very thankful for President Xi of China\\u2019s kind words on tarrifs and automobile barriers...also his enlightenment on intellectual property and technology transfers. We will make great progress together!\"], [\"When a car is sent to the United States from China there is a Tariff to be paid of 2 1/2%. When a car is sent to China from the United States there is a Tariff to be paid of 25%. Does that sound like free or fair trade.  No it sounds like STUPID TRADE -  going on for years!\"], [\"President Xi and I will always be friends no matter what happens with our dispute on trade. China will take down its Trade Barriers because it is the right thing to do. Taxes will become Reciprocal &amp; a deal will be made on Intellectual Property. Great future for both countries!\"], [\"The United States hasn\\u2019t had a Trade Surplus with China in 40 years. They must end unfair trade take down barriers and charge only Reciprocal Tariffs. The U.S. is losing $500 Billion a year and has been losing Billions of Dollars for decades. Cannot continue!\"], [\"The Fake News Washington Post Amazon\\u2019s \\u201cchief lobbyist\\u201d has another (of many) phony headlines \\u201cTrump Defiant As China Adds Trade Penalties.\\u201d WRONG! Should read \\u201cTrump Defiant as U.S. Adds Trade Penalties Will End Barriers And Massive  I.P. Theft.\\u201d Typically bad reporting!\"], [\"China has been asked to develop a plan for the year of a One Billion Dollar reduction in their massive Trade Deficit with the United States. Our relationship with China has been a very good one and we look forward to seeing what ideas they come back with. We must act soon!\"], [\"Caught RED HANDED - very disappointed that China is allowing oil to go into North Korea. There will never be a friendly solution to the North Korea problem if this continues to happen!\"], [\"The Chinese Envoy who just returned from North Korea seems to have had no impact on Little Rocket Man. Hard to believe his people and the military put up with living in such horrible conditions. Russia and China condemned the launch.\"], [\"...LaVar you could have spent the next 5 to 10 years during Thanksgiving with your son in China but no NBA contract to support you. But remember LaVar shoplifting is NOT a little thing. It\\u2019s a really big deal especially in China. Ungrateful fool!\"], [\"It wasn\\u2019t the White House it wasn\\u2019t the State Department it wasn\\u2019t father LaVar\\u2019s so-called people on the ground in China that got his son out of a long term prison sentence - IT WAS ME. Too bad! LaVar is just a poor man\\u2019s version of Don King but without the hair. Just think..\"], [\"Shoplifting is a very big deal in China as it should be (5-10 years in jail) but not to father LaVar. Should have gotten his son out during my next trip to China instead. China told them why they were released. Very ungrateful!\"], [\"To the three UCLA basketball players I say:  You're welcome go out and give a big Thank You to President Xi Jinping of China who made.....\"], [\"Met with President Putin of Russia who was at #APEC meetings. Good discussions on Syria. Hope for his help to solve along with China the dangerous North Korea crisis. Progress being made.\"], [\"I am leaving China for #APEC2017 in Vietnam. @FLOTUS Melania is staying behind to see the zoo and of course the Great WALL of China before going to Alaska to greet our AMAZING troops.\"], [\"I don\\u2019t blame China I blame the incompetence of past Admins for allowing China to take advantage of the U.S. on trade leading up to a point where the U.S. is losing $100's of billions. How can you blame China for taking advantage of people that had no clue? I would've done same!\"], [\"In the coming months and years ahead I look forward to building an even STRONGER relationship between the United States and China. \\ud83c\\uddfa\\ud83c\\uddf8\\ud83c\\udde8\\ud83c\\uddf3 https://t.co/mK3SB7t3EV\"], [\"Looking forward to a full day of meetings with President Xi and our delegations tomorrow. THANK YOU for the beautiful welcome China! @FLOTUS Melania and I will never forget it! https://t.co/sQoUWIGAiQ\"], [\"Getting ready to make a major speech to the National Assembly here in South Korea then will be headed to China where I very much look forward to meeting with President Xi who is just off his great political victory.\"], [\"Spoke to President Xi of China to congratulate him on his extraordinary elevation. Also discussed NoKo &amp; trade two very important subjects!\"], [\"China has a business tax rate of 15%. We should do everything possible to match them in order to win with our economy. Jobs and wages!\"], [\"..North Korea is a rogue nation which has become a great threat and embarrassment to China which is trying to help but with little success.\"], [\"The United Nations Security Council just voted 15-0 to sanction North Korea. China and Russia voted with us. Very big financial impact!\"], [\"I am very disappointed in China. Our foolish past leaders have allowed them to make hundreds of billions of dollars a year in trade yet...\"], [\"Leaving Hamburg for Washington D.C. and the WH. Just left China\\u2019s President Xi where we had an excellent meeting on trade &amp; North Korea.\"], [\"....and Japan will put up with this much longer. Perhaps China will put a heavy move on North Korea and end this nonsense once and for all!\"], [\"While I greatly appreciate the efforts of President Xi &amp; China to help with North Korea it has not worked out. At least I know China tried!\"], [\"North Korea disrespected the wishes of China &amp; its highly respected President when it launched though unsuccessfully a missile today. Bad!\"], [\"I have great confidence that China will properly deal with North Korea. If they are unable to do so the U.S. with its allies will! U.S.A.\"], [\"It was a great honor to have President Xi Jinping and Madame Peng Liyuan of China as our guests in the United States. Tremendous...\"], [\"The meeting next week with China will be a very difficult one in that we can no longer have massive trade deficits...\"], [\"The failing @nytimes does major FAKE NEWS China story saying \\\"Mr.Xi has not spoken to Mr. Trump since Nov.14.\\\" We spoke at length yesterday!\"], [\"China wouldn't provide a red carpet stairway from Air Force One and then Philippines President calls Obama \\\"the son of a whore.\\\" Terrible!\"], [\"The @USCHAMBER must fight harder for the American worker. China and many others are taking advantage of U.S. with our terrible trade pacts\"], [\"Crooked Hillary has zero imagination and even less stamina. ISIS China Russia and all would love for her to be president. 4 more years!\"], [\"The pathetic new hit ad against me misrepresents the final line. \\\"You can tell them to go BLANK themselves\\\" - was about China NOT WOMEN!\"], [\"@mathewjmari: On @FaceTheNation #MattSchlapp was on the ball &amp; #jenniferrubin is in a time warped stupor. @realDonaldTrump will EXPAND #GOP,05-09-2016 09:49:25,1408,5144,false,729609208853897216\\r\\nTwitter for Android,I will be interviewed on @NewDay @CNN at 7:00 A.M.,05-09-2016 09:34:48,1144,5217,false,729605529417465856\\r\\nTwitter for Android,I will win the election against Crooked Hillary despite the people in the Republican Party that are currently and selfishly opposed to me!,05-09-2016 09:32:05,7915,22483,false,729604845716516864\\r\\nTwitter for Android,On @seanhannity show @FoxNews now. ENJOY!,05-09-2016 02:04:03,1639,7406,false,729492093522067456\\r\\nTwitter for iPhone,Crooked Hillary just can't close the deal with Bernie. It will be the same way with ISIS and China on trade and Mexico at the border. Bad!,05-08-2016 20:15:20,8967,25501,false,729404337164783617\\r\\nTwitter for Android,.@KellyannePolls  Kellyanne you were fantastic on @meetthepress today. Keep going - I will win for the people. MAKE AMERICA GREAT AGAIN!,05-08-2016 15:30:47,3219,11291,false,729332727665790976\\r\\nTwitter for Android,I will be interviewed on @meetthepress this morning. Enjoy!,05-08-2016 13:28:04,1669,7974,false,729301847031349250\\r\\nTwitter for Android,I will be interviewed on This Week with George S this morning. Enjoy!,05-08-2016 13:25:28,1660,7643,false,729301192325668864\\r\\nTwitter for iPhone,#HappyMothersDay! https://t.co/T35f2y5YxR https://t.co/BVSHiG2iPA,05-08-2016 12:46:07,5146,16657,false,729291290848956416\\r\\nTwitter for Android,@matandsher: I want a leader that will shoot straight with us. The politicians can't. @realDonaldTrump will give his all for us!\"], [\"@iLoveiDevices: @EdwinRo47796972 @happyjack225 @FoxNews @krauthammer  Minimizing dependency on China is crucial.Only Trump talks about that,01-05-2016 03:39:11,1049,3225,false,684217554861199360\\r\\nTwitter for Android,@SalRiccobono: @realDonaldTrump @troyconway Donald get big business back and# MAKE AMERICA GREAT AGAIN FOR 2016\\\"\"]], \"hoverlabel\": {\"namelength\": 0}, \"hovertemplate\": \"date=%{x}<br>Compound=%{y}<br>text=%{customdata[0]}<br>favorite_count=%{marker.color}\", \"legendgroup\": \"\", \"marker\": {\"color\": [99524, 74923, 85617, 87908, 71366, 73450, 81387, 83048, 63054, 52200, 100632, 89654, 51657, 78370, 12935, 69610, 80037, 61736, 56690, 111589, 86619, 91740, 87990, 29719, 94844, 84028, 135787, 66563, 77659, 80707, 105814, 88976, 85916, 54036, 82161, 85878, 80057, 83395, 44443, 71530, 87494, 81940, 69995, 84535, 60853, 95009, 67617, 109074, 50408, 105031, 22759, 169271, 83109, 66179, 12873, 72628, 78617, 107048, 85117, 71829, 80684, 80908, 73758, 85559, 71964, 56359, 116035, 62384, 82066, 78953, 85311, 103580, 137067, 54031, 76260, 87396, 102500, 101720, 111613, 79728, 106320, 110528, 83517, 80179, 107768, 73305, 67216, 100978, 140767, 106376, 142064, 78064, 106546, 78942, 79452, 66465, 86340, 65166, 59933, 64692, 65427, 116728, 73335, 124632, 148502, 93732, 101687, 67518, 86435, 87737, 133067, 112546, 45102, 47994, 58199, 104181, 87374, 95310, 69589, 86527, 82825, 70562, 92956, 81839, 64831, 93452, 64527, 80202, 78313, 101153, 86673, 81030, 78483, 108877, 83668, 112500, 106429, 24427, 176652, 107756, 90487, 93542, 86274, 124997, 76452, 160972, 126400, 135939, 89067, 75165, 72409, 135908, 94769, 64298, 62652, 56132, 76499, 93269, 110129, 101591, 98393, 116328, 83117, 85241, 113289, 67145, 58102, 106953, 30760, 13405, 14610, 14003, 12733, 2628], \"coloraxis\": \"coloraxis\", \"symbol\": \"circle\"}, \"mode\": \"markers\", \"name\": \"\", \"showlegend\": false, \"type\": \"scatter\", \"x\": [\"2019-10-12T03:25:00\", \"2019-10-11T14:15:00\", \"2019-10-11T13:49:00\", \"2019-10-07T15:20:00\", \"2019-10-06T23:54:00\", \"2019-10-06T16:42:00\", \"2019-10-01T10:54:00\", \"2019-09-30T14:03:00\", \"2019-09-30T12:31:00\", \"2019-09-30T11:48:00\", \"2019-09-26T23:02:00\", \"2019-09-25T20:17:00\", \"2019-09-11T23:17:00\", \"2019-09-04T14:18:00\", \"2019-09-04T13:44:00\", \"2019-09-03T13:33:00\", \"2019-09-03T13:12:00\", \"2019-09-03T13:12:00\", \"2019-09-01T12:25:00\", \"2019-08-28T12:06:00\", \"2019-08-25T23:10:00\", \"2019-08-24T03:58:00\", \"2019-08-23T21:00:00\", \"2019-08-23T21:00:00\", \"2019-08-23T14:59:00\", \"2019-08-23T14:59:00\", \"2019-08-23T14:59:00\", \"2019-08-21T12:52:00\", \"2019-08-18T19:24:00\", \"2019-08-15T16:52:00\", \"2019-08-14T22:59:00\", \"2019-08-14T22:32:00\", \"2019-08-14T19:21:00\", \"2019-08-13T14:10:00\", \"2019-08-10T21:58:00\", \"2019-08-07T12:46:00\", \"2019-08-06T17:51:00\", \"2019-08-06T12:00:00\", \"2019-08-06T11:47:00\", \"2019-08-05T16:00:00\", \"2019-08-05T12:12:00\", \"2019-08-03T12:46:00\", \"2019-08-01T17:26:00\", \"2019-08-01T14:24:00\", \"2019-07-30T12:40:00\", \"2019-07-30T11:09:00\", \"2019-07-29T13:18:00\", \"2019-07-15T10:43:00\", \"2019-07-11T14:04:00\", \"2019-06-29T22:32:00\", \"2019-06-29T21:22:00\", \"2019-06-28T22:51:00\", \"2019-06-18T13:39:00\", \"2019-06-13T03:50:00\", \"2019-06-13T03:07:00\", \"2019-05-14T12:35:00\", \"2019-05-14T11:29:00\", \"2019-05-14T11:16:00\", \"2019-05-14T11:16:00\", \"2019-05-14T10:31:00\", \"2019-05-14T10:15:00\", \"2019-05-12T23:22:00\", \"2019-05-12T21:06:00\", \"2019-05-10T19:14:00\", \"2019-05-10T19:14:00\", \"2019-05-10T13:39:00\", \"2019-05-10T12:55:00\", \"2019-05-10T11:48:00\", \"2019-05-10T11:24:00\", \"2019-05-08T12:48:00\", \"2019-05-08T12:48:00\", \"2019-05-05T16:08:00\", \"2019-05-03T17:06:00\", \"2019-04-30T17:56:00\", \"2019-04-04T12:01:00\", \"2019-03-18T11:45:00\", \"2019-03-16T21:07:00\", \"2019-02-27T09:45:00\", \"2019-02-26T00:04:00\", \"2019-02-25T20:12:00\", \"2019-02-24T22:50:00\", \"2019-02-24T22:39:00\", \"2019-02-24T13:05:00\", \"2019-02-17T12:00:00\", \"2019-02-17T00:17:00\", \"2019-01-31T14:56:00\", \"2019-01-31T12:41:00\", \"2019-01-21T21:57:00\", \"2019-01-14T22:19:00\", \"2019-01-03T14:52:00\", \"2018-12-29T16:03:00\", \"2018-12-21T14:41:00\", \"2018-12-17T13:27:00\", \"2018-12-07T00:56:00\", \"2018-12-05T13:51:00\", \"2018-12-05T13:44:00\", \"2018-12-05T13:19:00\", \"2018-12-05T12:46:00\", \"2018-12-04T15:10:00\", \"2018-12-04T14:30:00\", \"2018-12-03T13:18:00\", \"2018-12-03T13:01:00\", \"2018-12-03T12:54:00\", \"2018-11-13T11:50:00\", \"2018-11-09T21:10:00\", \"2018-11-01T14:09:00\", \"2018-10-25T13:57:00\", \"2018-09-18T12:55:00\", \"2018-09-18T12:50:00\", \"2018-09-13T14:15:00\", \"2018-09-09T14:01:00\", \"2018-09-08T15:45:00\", \"2018-08-29T21:23:00\", \"2018-08-29T21:23:00\", \"2018-08-24T17:36:00\", \"2018-08-20T17:14:00\", \"2018-08-18T11:46:00\", \"2018-08-08T15:25:00\", \"2018-08-04T20:03:00\", \"2018-08-04T19:47:00\", \"2018-07-25T11:20:00\", \"2018-07-20T12:43:00\", \"2018-07-09T14:25:00\", \"2018-06-04T13:47:00\", \"2018-06-04T12:41:00\", \"2018-05-21T13:16:00\", \"2018-05-21T11:40:00\", \"2018-05-21T11:27:00\", \"2018-05-21T11:21:00\", \"2018-05-13T19:22:00\", \"2018-05-08T11:22:00\", \"2018-05-05T00:31:00\", \"2018-05-03T03:45:00\", \"2018-05-02T11:45:00\", \"2018-05-01T11:00:00\", \"2018-04-27T11:50:00\", \"2018-04-10T18:30:00\", \"2018-04-10T17:51:00\", \"2018-04-09T10:03:00\", \"2018-04-08T12:12:00\", \"2018-04-07T18:03:00\", \"2018-04-05T13:10:00\", \"2018-03-07T15:10:00\", \"2017-12-28T16:24:00\", \"2017-11-30T12:25:00\", \"2017-11-22T10:33:00\", \"2017-11-22T10:25:00\", \"2017-11-19T23:36:00\", \"2017-11-16T11:30:00\", \"2017-11-12T00:16:00\", \"2017-11-10T01:17:00\", \"2017-11-09T23:39:00\", \"2017-11-09T13:58:00\", \"2017-11-08T15:40:00\", \"2017-11-08T01:00:00\", \"2017-10-25T19:24:00\", \"2017-09-14T02:22:00\", \"2017-09-03T11:39:00\", \"2017-08-05T22:44:00\", \"2017-07-29T23:29:00\", \"2017-07-08T18:55:00\", \"2017-07-04T02:24:00\", \"2017-06-20T18:38:00\", \"2017-04-28T23:26:00\", \"2017-04-13T13:08:00\", \"2017-04-08T14:50:00\", \"2017-03-30T22:16:00\", \"2017-02-10T13:35:00\", \"2016-09-06T11:12:00\", \"2016-06-29T13:09:00\", \"2016-05-20T09:47:00\", \"2016-05-17T11:37:00\", \"2016-05-08T05:57:00\", \"2016-01-05T03:36:00\"], \"xaxis\": \"x\", \"y\": [-0.5266, 0.8805, 0.8952, 0.6815, 0.8553, 0.7597, 0.636, -0.8616, 0.9293, 0.5893, 0.6187, -0.5994, 0.5719, 0.6397, 0.6397, 0.5093, 0.8357, 0.7793, 0.5093, 0.6779, -0.555, -0.7177, 0.5106, 0.7574, -0.5972, 0.9029, -0.636, -0.5731, 0.8634, -0.68, 0.8439, 0.7351, 0.7208, 0.6588, 0.7906, -0.7759, 0.8363, 0.9492, 0.8363, -0.7574, -0.8129, 0.6216, 0.8436, 0.6552, 0.6808, -0.9131, 0.68, 0.6369, 0.9192, 0.8496, 0.8496, 0.5974, 0.7178, -0.6449, -0.6449, 0.6988, 0.8898, 0.9239, -0.6239, 0.7811, 0.8513, 0.7371, 0.7592, 0.7501, 0.7088, 0.5688, 0.807, 0.7448, -0.7861, 0.6078, 0.7131, 0.7506, 0.7741, 0.7845, 0.6557, 0.5848, 0.8431, 0.6996, 0.807, 0.659, 0.8953, 0.891, 0.8923, 0.8856, 0.6696, -0.6476, 0.8029, -0.5255, 0.7579, 0.7177, 0.8059, -0.505, 0.6893, 0.9117, -0.96, 0.8221, 0.7388, 0.7184, 0.9006, 0.7089, 0.96, 0.8528, 0.8986, -0.7177, 0.6118, 0.8617, -0.6588, 0.7901, 0.7845, -0.872, 0.5147, 0.9628, -0.7184, 0.8553, 0.8516, -0.9864, 0.8006, 0.951, 0.5492, 0.6369, 0.7644, 0.5586, 0.831, -0.7511, -0.5194, 0.6249, 0.671, 0.7644, 0.8213, 0.901, 0.8555, 0.6948, 0.855, -0.7897, 0.7558, 0.9055, 0.9577, 0.9577, 0.8465, 0.7901, -0.6996, -0.9302, 0.5551, -0.8743, -0.8288, -0.8311, -0.68, -0.6938, 0.6705, 0.5994, 0.8986, -0.8908, 0.7297, 0.9078, 0.765, 0.6793, 0.6239, 0.706, 0.6696, -0.6697, 0.5719, -0.5294, 0.7171, -0.6122, 0.8268, 0.8779, -0.6115, -0.8139, -0.5255, -0.5719, 0.7506, -0.6114, 0.9696, 0.7034], \"yaxis\": \"y\"}],\n",
       "                        {\"coloraxis\": {\"colorbar\": {\"title\": {\"text\": \"favorite_count\"}}, \"colorscale\": [[0.0, \"#000004\"], [0.1111111111111111, \"#180f3d\"], [0.2222222222222222, \"#440f76\"], [0.3333333333333333, \"#721f81\"], [0.4444444444444444, \"#9e2f7f\"], [0.5555555555555556, \"#cd4071\"], [0.6666666666666666, \"#f1605d\"], [0.7777777777777778, \"#fd9668\"], [0.8888888888888888, \"#feca8d\"], [1.0, \"#fcfdbf\"]]}, \"height\": 600, \"legend\": {\"tracegroupgap\": 0}, \"margin\": {\"t\": 60}, \"template\": {\"data\": {\"bar\": [{\"error_x\": {\"color\": \"#2a3f5f\"}, \"error_y\": {\"color\": \"#2a3f5f\"}, \"marker\": {\"line\": {\"color\": \"#E5ECF6\", \"width\": 0.5}}, \"type\": \"bar\"}], \"barpolar\": [{\"marker\": {\"line\": {\"color\": \"#E5ECF6\", \"width\": 0.5}}, \"type\": \"barpolar\"}], \"carpet\": [{\"aaxis\": {\"endlinecolor\": \"#2a3f5f\", \"gridcolor\": \"white\", \"linecolor\": \"white\", \"minorgridcolor\": \"white\", \"startlinecolor\": \"#2a3f5f\"}, \"baxis\": {\"endlinecolor\": \"#2a3f5f\", \"gridcolor\": \"white\", \"linecolor\": \"white\", \"minorgridcolor\": \"white\", \"startlinecolor\": \"#2a3f5f\"}, \"type\": \"carpet\"}], \"choropleth\": [{\"colorbar\": {\"outlinewidth\": 0, \"ticks\": \"\"}, \"type\": \"choropleth\"}], \"contour\": [{\"colorbar\": {\"outlinewidth\": 0, \"ticks\": \"\"}, \"colorscale\": [[0.0, \"#0d0887\"], [0.1111111111111111, \"#46039f\"], [0.2222222222222222, \"#7201a8\"], [0.3333333333333333, \"#9c179e\"], [0.4444444444444444, \"#bd3786\"], [0.5555555555555556, \"#d8576b\"], [0.6666666666666666, \"#ed7953\"], [0.7777777777777778, \"#fb9f3a\"], [0.8888888888888888, \"#fdca26\"], [1.0, \"#f0f921\"]], \"type\": \"contour\"}], \"contourcarpet\": [{\"colorbar\": {\"outlinewidth\": 0, \"ticks\": \"\"}, \"type\": \"contourcarpet\"}], \"heatmap\": [{\"colorbar\": {\"outlinewidth\": 0, \"ticks\": \"\"}, \"colorscale\": [[0.0, \"#0d0887\"], [0.1111111111111111, \"#46039f\"], [0.2222222222222222, \"#7201a8\"], [0.3333333333333333, \"#9c179e\"], [0.4444444444444444, \"#bd3786\"], [0.5555555555555556, \"#d8576b\"], [0.6666666666666666, \"#ed7953\"], [0.7777777777777778, \"#fb9f3a\"], [0.8888888888888888, \"#fdca26\"], [1.0, \"#f0f921\"]], \"type\": \"heatmap\"}], \"heatmapgl\": [{\"colorbar\": {\"outlinewidth\": 0, \"ticks\": \"\"}, \"colorscale\": [[0.0, \"#0d0887\"], [0.1111111111111111, \"#46039f\"], [0.2222222222222222, \"#7201a8\"], [0.3333333333333333, \"#9c179e\"], [0.4444444444444444, \"#bd3786\"], [0.5555555555555556, \"#d8576b\"], [0.6666666666666666, \"#ed7953\"], [0.7777777777777778, \"#fb9f3a\"], [0.8888888888888888, \"#fdca26\"], [1.0, \"#f0f921\"]], \"type\": \"heatmapgl\"}], \"histogram\": [{\"marker\": {\"colorbar\": {\"outlinewidth\": 0, \"ticks\": \"\"}}, \"type\": \"histogram\"}], \"histogram2d\": [{\"colorbar\": {\"outlinewidth\": 0, \"ticks\": \"\"}, \"colorscale\": [[0.0, \"#0d0887\"], [0.1111111111111111, \"#46039f\"], [0.2222222222222222, \"#7201a8\"], [0.3333333333333333, \"#9c179e\"], [0.4444444444444444, \"#bd3786\"], [0.5555555555555556, \"#d8576b\"], [0.6666666666666666, \"#ed7953\"], [0.7777777777777778, \"#fb9f3a\"], [0.8888888888888888, \"#fdca26\"], [1.0, \"#f0f921\"]], \"type\": \"histogram2d\"}], \"histogram2dcontour\": [{\"colorbar\": {\"outlinewidth\": 0, \"ticks\": \"\"}, \"colorscale\": [[0.0, \"#0d0887\"], [0.1111111111111111, \"#46039f\"], [0.2222222222222222, \"#7201a8\"], [0.3333333333333333, \"#9c179e\"], [0.4444444444444444, \"#bd3786\"], [0.5555555555555556, \"#d8576b\"], [0.6666666666666666, \"#ed7953\"], [0.7777777777777778, \"#fb9f3a\"], [0.8888888888888888, \"#fdca26\"], [1.0, \"#f0f921\"]], \"type\": \"histogram2dcontour\"}], \"mesh3d\": [{\"colorbar\": {\"outlinewidth\": 0, \"ticks\": \"\"}, \"type\": \"mesh3d\"}], \"parcoords\": [{\"line\": {\"colorbar\": {\"outlinewidth\": 0, \"ticks\": \"\"}}, \"type\": \"parcoords\"}], \"scatter\": [{\"marker\": {\"colorbar\": {\"outlinewidth\": 0, \"ticks\": \"\"}}, \"type\": \"scatter\"}], \"scatter3d\": [{\"line\": {\"colorbar\": {\"outlinewidth\": 0, \"ticks\": \"\"}}, \"marker\": {\"colorbar\": {\"outlinewidth\": 0, \"ticks\": \"\"}}, \"type\": \"scatter3d\"}], \"scattercarpet\": [{\"marker\": {\"colorbar\": {\"outlinewidth\": 0, \"ticks\": \"\"}}, \"type\": \"scattercarpet\"}], \"scattergeo\": [{\"marker\": {\"colorbar\": {\"outlinewidth\": 0, \"ticks\": \"\"}}, \"type\": \"scattergeo\"}], \"scattergl\": [{\"marker\": {\"colorbar\": {\"outlinewidth\": 0, \"ticks\": \"\"}}, \"type\": \"scattergl\"}], \"scattermapbox\": [{\"marker\": {\"colorbar\": {\"outlinewidth\": 0, \"ticks\": \"\"}}, \"type\": \"scattermapbox\"}], \"scatterpolar\": [{\"marker\": {\"colorbar\": {\"outlinewidth\": 0, \"ticks\": \"\"}}, \"type\": \"scatterpolar\"}], \"scatterpolargl\": [{\"marker\": {\"colorbar\": {\"outlinewidth\": 0, \"ticks\": \"\"}}, \"type\": \"scatterpolargl\"}], \"scatterternary\": [{\"marker\": {\"colorbar\": {\"outlinewidth\": 0, \"ticks\": \"\"}}, \"type\": \"scatterternary\"}], \"surface\": [{\"colorbar\": {\"outlinewidth\": 0, \"ticks\": \"\"}, \"colorscale\": [[0.0, \"#0d0887\"], [0.1111111111111111, \"#46039f\"], [0.2222222222222222, \"#7201a8\"], [0.3333333333333333, \"#9c179e\"], [0.4444444444444444, \"#bd3786\"], [0.5555555555555556, \"#d8576b\"], [0.6666666666666666, \"#ed7953\"], [0.7777777777777778, \"#fb9f3a\"], [0.8888888888888888, \"#fdca26\"], [1.0, \"#f0f921\"]], \"type\": \"surface\"}], \"table\": [{\"cells\": {\"fill\": {\"color\": \"#EBF0F8\"}, \"line\": {\"color\": \"white\"}}, \"header\": {\"fill\": {\"color\": \"#C8D4E3\"}, \"line\": {\"color\": \"white\"}}, \"type\": \"table\"}]}, \"layout\": {\"annotationdefaults\": {\"arrowcolor\": \"#2a3f5f\", \"arrowhead\": 0, \"arrowwidth\": 1}, \"colorscale\": {\"diverging\": [[0, \"#8e0152\"], [0.1, \"#c51b7d\"], [0.2, \"#de77ae\"], [0.3, \"#f1b6da\"], [0.4, \"#fde0ef\"], [0.5, \"#f7f7f7\"], [0.6, \"#e6f5d0\"], [0.7, \"#b8e186\"], [0.8, \"#7fbc41\"], [0.9, \"#4d9221\"], [1, \"#276419\"]], \"sequential\": [[0.0, \"#0d0887\"], [0.1111111111111111, \"#46039f\"], [0.2222222222222222, \"#7201a8\"], [0.3333333333333333, \"#9c179e\"], [0.4444444444444444, \"#bd3786\"], [0.5555555555555556, \"#d8576b\"], [0.6666666666666666, \"#ed7953\"], [0.7777777777777778, \"#fb9f3a\"], [0.8888888888888888, \"#fdca26\"], [1.0, \"#f0f921\"]], \"sequentialminus\": [[0.0, \"#0d0887\"], [0.1111111111111111, \"#46039f\"], [0.2222222222222222, \"#7201a8\"], [0.3333333333333333, \"#9c179e\"], [0.4444444444444444, \"#bd3786\"], [0.5555555555555556, \"#d8576b\"], [0.6666666666666666, \"#ed7953\"], [0.7777777777777778, \"#fb9f3a\"], [0.8888888888888888, \"#fdca26\"], [1.0, \"#f0f921\"]]}, \"colorway\": [\"#636efa\", \"#EF553B\", \"#00cc96\", \"#ab63fa\", \"#FFA15A\", \"#19d3f3\", \"#FF6692\", \"#B6E880\", \"#FF97FF\", \"#FECB52\"], \"font\": {\"color\": \"#2a3f5f\"}, \"geo\": {\"bgcolor\": \"white\", \"lakecolor\": \"white\", \"landcolor\": \"#E5ECF6\", \"showlakes\": true, \"showland\": true, \"subunitcolor\": \"white\"}, \"hoverlabel\": {\"align\": \"left\"}, \"hovermode\": \"closest\", \"mapbox\": {\"style\": \"light\"}, \"paper_bgcolor\": \"white\", \"plot_bgcolor\": \"#E5ECF6\", \"polar\": {\"angularaxis\": {\"gridcolor\": \"white\", \"linecolor\": \"white\", \"ticks\": \"\"}, \"bgcolor\": \"#E5ECF6\", \"radialaxis\": {\"gridcolor\": \"white\", \"linecolor\": \"white\", \"ticks\": \"\"}}, \"scene\": {\"xaxis\": {\"backgroundcolor\": \"#E5ECF6\", \"gridcolor\": \"white\", \"gridwidth\": 2, \"linecolor\": \"white\", \"showbackground\": true, \"ticks\": \"\", \"zerolinecolor\": \"white\"}, \"yaxis\": {\"backgroundcolor\": \"#E5ECF6\", \"gridcolor\": \"white\", \"gridwidth\": 2, \"linecolor\": \"white\", \"showbackground\": true, \"ticks\": \"\", \"zerolinecolor\": \"white\"}, \"zaxis\": {\"backgroundcolor\": \"#E5ECF6\", \"gridcolor\": \"white\", \"gridwidth\": 2, \"linecolor\": \"white\", \"showbackground\": true, \"ticks\": \"\", \"zerolinecolor\": \"white\"}}, \"shapedefaults\": {\"line\": {\"color\": \"#2a3f5f\"}}, \"ternary\": {\"aaxis\": {\"gridcolor\": \"white\", \"linecolor\": \"white\", \"ticks\": \"\"}, \"baxis\": {\"gridcolor\": \"white\", \"linecolor\": \"white\", \"ticks\": \"\"}, \"bgcolor\": \"#E5ECF6\", \"caxis\": {\"gridcolor\": \"white\", \"linecolor\": \"white\", \"ticks\": \"\"}}, \"title\": {\"x\": 0.05}, \"xaxis\": {\"automargin\": true, \"gridcolor\": \"white\", \"linecolor\": \"white\", \"ticks\": \"\", \"zerolinecolor\": \"white\", \"zerolinewidth\": 2}, \"yaxis\": {\"automargin\": true, \"gridcolor\": \"white\", \"linecolor\": \"white\", \"ticks\": \"\", \"zerolinecolor\": \"white\", \"zerolinewidth\": 2}}}, \"xaxis\": {\"anchor\": \"y\", \"domain\": [0.0, 0.98], \"title\": {\"text\": \"date\"}}, \"yaxis\": {\"anchor\": \"x\", \"domain\": [0.0, 1.0], \"title\": {\"text\": \"Compound\"}}},\n",
       "                        {\"responsive\": true}\n",
       "                    ).then(function(){\n",
       "                            \n",
       "var gd = document.getElementById('e8cd95a0-7ede-4217-aec2-90c91de037e0');\n",
       "var x = new MutationObserver(function (mutations, observer) {{\n",
       "        var display = window.getComputedStyle(gd).display;\n",
       "        if (!display || display === 'none') {{\n",
       "            console.log([gd, 'removed!']);\n",
       "            Plotly.purge(gd);\n",
       "            observer.disconnect();\n",
       "        }}\n",
       "}});\n",
       "\n",
       "// Listen for the removal of the full notebook cells\n",
       "var notebookContainer = gd.closest('#notebook-container');\n",
       "if (notebookContainer) {{\n",
       "    x.observe(notebookContainer, {childList: true});\n",
       "}}\n",
       "\n",
       "// Listen for the clearing of the current output cell\n",
       "var outputEl = gd.closest('.output');\n",
       "if (outputEl) {{\n",
       "    x.observe(outputEl, {childList: true});\n",
       "}}\n",
       "\n",
       "                        })\n",
       "                };\n",
       "                });\n",
       "            </script>\n",
       "        </div>"
      ]
     },
     "metadata": {},
     "output_type": "display_data"
    }
   ],
   "source": [
    "fig = px.scatter(df_china, x=\"date\", \n",
    "                 y=\"Compound\",\n",
    "                 color=\"favorite_count\", \n",
    "                 color_continuous_scale='Magma',\n",
    "                 hover_data=[\"text\"])\n",
    "fig.show()\n"
   ]
  },
  {
   "cell_type": "code",
   "execution_count": 13,
   "metadata": {},
   "outputs": [
    {
     "name": "stderr",
     "output_type": "stream",
     "text": [
      "C:\\ProgramData\\Anaconda3\\lib\\site-packages\\pandas\\plotting\\_matplotlib\\converter.py:103: FutureWarning:\n",
      "\n",
      "Using an implicitly registered datetime converter for a matplotlib plotting method. The converter was registered by pandas on import. Future versions of pandas will require you to explicitly register matplotlib converters.\n",
      "\n",
      "To register the converters:\n",
      "\t>>> from pandas.plotting import register_matplotlib_converters\n",
      "\t>>> register_matplotlib_converters()\n",
      "\n"
     ]
    },
    {
     "data": {
      "text/plain": [
       "(array([735964., 736146., 736330., 736511., 736695., 736876., 737060.,\n",
       "        737241., 737425.]), <a list of 9 Text xticklabel objects>)"
      ]
     },
     "execution_count": 13,
     "metadata": {},
     "output_type": "execute_result"
    },
    {
     "data": {
      "image/png": "[encoded data removed]",
      "text/plain": [
       "<Figure size 432x288 with 1 Axes>"
      ]
     },
     "metadata": {
      "needs_background": "light"
     },
     "output_type": "display_data"
    }
   ],
   "source": [
    "\n",
    "plt.scatter(df_china['date'], df_china['Compound'])\n",
    "plt.xticks(rotation='vertical')"
   ]
  },
  {
   "cell_type": "code",
   "execution_count": 14,
   "metadata": {},
   "outputs": [
    {
     "ename": "IEXAuthenticationError",
     "evalue": "The IEX Cloud API key must be provided either through the token variable or through the environmental variable IEX_TOKEN.",
     "output_type": "error",
     "traceback": [
      "\u001b[1;31m---------------------------------------------------------------------------\u001b[0m",
      "\u001b[1;31mIEXAuthenticationError\u001b[0m                    Traceback (most recent call last)",
      "\u001b[1;32m<ipython-input-14-2ed7cdbb93f9>\u001b[0m in \u001b[0;36m<module>\u001b[1;34m\u001b[0m\n\u001b[0;32m      1\u001b[0m \u001b[1;32mfrom\u001b[0m \u001b[0miexfinance\u001b[0m\u001b[1;33m.\u001b[0m\u001b[0mrefdata\u001b[0m \u001b[1;32mimport\u001b[0m \u001b[0mget_symbols\u001b[0m\u001b[1;33m\u001b[0m\u001b[1;33m\u001b[0m\u001b[0m\n\u001b[0;32m      2\u001b[0m \u001b[1;32mfrom\u001b[0m \u001b[0miexfinance\u001b[0m\u001b[1;33m.\u001b[0m\u001b[0mstocks\u001b[0m \u001b[1;32mimport\u001b[0m \u001b[0mget_historical_data\u001b[0m\u001b[1;33m\u001b[0m\u001b[1;33m\u001b[0m\u001b[0m\n\u001b[1;32m----> 3\u001b[1;33m \u001b[0mtickers\u001b[0m\u001b[1;33m=\u001b[0m\u001b[0mpd\u001b[0m\u001b[1;33m.\u001b[0m\u001b[0mDataFrame\u001b[0m\u001b[1;33m(\u001b[0m\u001b[0mget_symbols\u001b[0m\u001b[1;33m(\u001b[0m\u001b[1;33m)\u001b[0m\u001b[1;33m)\u001b[0m\u001b[1;33m\u001b[0m\u001b[1;33m\u001b[0m\u001b[0m\n\u001b[0m\u001b[0;32m      4\u001b[0m \u001b[0mtickers\u001b[0m\u001b[1;33m.\u001b[0m\u001b[0mhead\u001b[0m\u001b[1;33m(\u001b[0m\u001b[1;33m)\u001b[0m\u001b[1;33m\u001b[0m\u001b[1;33m\u001b[0m\u001b[0m\n",
      "\u001b[1;32mC:\\ProgramData\\Anaconda3\\lib\\site-packages\\iexfinance\\refdata\\__init__.py\u001b[0m in \u001b[0;36mget_symbols\u001b[1;34m(**kwargs)\u001b[0m\n\u001b[0;32m     11\u001b[0m     \u001b[0mData\u001b[0m \u001b[0mWeighting\u001b[0m\u001b[1;33m:\u001b[0m\u001b[0;31m \u001b[0m\u001b[0;31m`\u001b[0m\u001b[0;31m`\u001b[0m\u001b[1;36m100\u001b[0m\u001b[0;31m`\u001b[0m\u001b[0;31m`\u001b[0m \u001b[0mper\u001b[0m \u001b[0mcall\u001b[0m\u001b[1;33m\u001b[0m\u001b[1;33m\u001b[0m\u001b[0m\n\u001b[0;32m     12\u001b[0m     \"\"\"\n\u001b[1;32m---> 13\u001b[1;33m     \u001b[1;32mreturn\u001b[0m \u001b[0mSymbols\u001b[0m\u001b[1;33m(\u001b[0m\u001b[1;33m**\u001b[0m\u001b[0mkwargs\u001b[0m\u001b[1;33m)\u001b[0m\u001b[1;33m.\u001b[0m\u001b[0mfetch\u001b[0m\u001b[1;33m(\u001b[0m\u001b[1;33m)\u001b[0m\u001b[1;33m\u001b[0m\u001b[1;33m\u001b[0m\u001b[0m\n\u001b[0m\u001b[0;32m     14\u001b[0m \u001b[1;33m\u001b[0m\u001b[0m\n\u001b[0;32m     15\u001b[0m \u001b[1;33m\u001b[0m\u001b[0m\n",
      "\u001b[1;32mC:\\ProgramData\\Anaconda3\\lib\\site-packages\\iexfinance\\base.py\u001b[0m in \u001b[0;36m__init__\u001b[1;34m(self, **kwargs)\u001b[0m\n\u001b[0;32m     76\u001b[0m                 \u001b[0mself\u001b[0m\u001b[1;33m.\u001b[0m\u001b[0mtoken\u001b[0m \u001b[1;33m=\u001b[0m \u001b[0mos\u001b[0m\u001b[1;33m.\u001b[0m\u001b[0mgetenv\u001b[0m\u001b[1;33m(\u001b[0m\u001b[1;34m'IEX_TOKEN'\u001b[0m\u001b[1;33m)\u001b[0m\u001b[1;33m\u001b[0m\u001b[1;33m\u001b[0m\u001b[0m\n\u001b[0;32m     77\u001b[0m             \u001b[1;32mif\u001b[0m \u001b[1;32mnot\u001b[0m \u001b[0mself\u001b[0m\u001b[1;33m.\u001b[0m\u001b[0mtoken\u001b[0m \u001b[1;32mor\u001b[0m \u001b[1;32mnot\u001b[0m \u001b[0misinstance\u001b[0m\u001b[1;33m(\u001b[0m\u001b[0mself\u001b[0m\u001b[1;33m.\u001b[0m\u001b[0mtoken\u001b[0m\u001b[1;33m,\u001b[0m \u001b[0mstr\u001b[0m\u001b[1;33m)\u001b[0m\u001b[1;33m:\u001b[0m\u001b[1;33m\u001b[0m\u001b[1;33m\u001b[0m\u001b[0m\n\u001b[1;32m---> 78\u001b[1;33m                 raise auth_error('The IEX Cloud API key must be provided '\n\u001b[0m\u001b[0;32m     79\u001b[0m                                  \u001b[1;34m'either through the token variable or '\u001b[0m\u001b[1;33m\u001b[0m\u001b[1;33m\u001b[0m\u001b[0m\n\u001b[0;32m     80\u001b[0m                                  \u001b[1;34m'through the environmental variable '\u001b[0m\u001b[1;33m\u001b[0m\u001b[1;33m\u001b[0m\u001b[0m\n",
      "\u001b[1;31mIEXAuthenticationError\u001b[0m: The IEX Cloud API key must be provided either through the token variable or through the environmental variable IEX_TOKEN."
     ]
    }
   ],
   "source": [
    "from iexfinance.refdata import get_symbols\n",
    "from iexfinance.stocks import get_historical_data\n",
    "tickers=pd.DataFrame(get_symbols())\n",
    "tickers.head()"
   ]
  },
  {
   "cell_type": "code",
   "execution_count": 15,
   "metadata": {},
   "outputs": [
    {
     "ename": "IEXAuthenticationError",
     "evalue": "The IEX Cloud API key must be provided either through the token variable or through the environmental variable IEX_TOKEN.",
     "output_type": "error",
     "traceback": [
      "\u001b[1;31m---------------------------------------------------------------------------\u001b[0m",
      "\u001b[1;31mIEXAuthenticationError\u001b[0m                    Traceback (most recent call last)",
      "\u001b[1;32m<ipython-input-15-83681a6a1418>\u001b[0m in \u001b[0;36m<module>\u001b[1;34m\u001b[0m\n\u001b[0;32m      4\u001b[0m \u001b[1;33m\u001b[0m\u001b[0m\n\u001b[0;32m      5\u001b[0m \u001b[1;31m# Get 1 year's worth of historical data for AAPL\u001b[0m\u001b[1;33m\u001b[0m\u001b[1;33m\u001b[0m\u001b[1;33m\u001b[0m\u001b[0m\n\u001b[1;32m----> 6\u001b[1;33m \u001b[0mdf_spy\u001b[0m \u001b[1;33m=\u001b[0m \u001b[0mget_historical_data\u001b[0m\u001b[1;33m(\u001b[0m\u001b[0mtickers\u001b[0m\u001b[1;33m,\u001b[0m \u001b[0mstart_date\u001b[0m\u001b[1;33m,\u001b[0m \u001b[0mend_date\u001b[0m\u001b[1;33m,\u001b[0m  \u001b[0moutput_format\u001b[0m\u001b[1;33m=\u001b[0m\u001b[1;34m'pandas'\u001b[0m\u001b[1;33m)\u001b[0m\u001b[1;33m\u001b[0m\u001b[1;33m\u001b[0m\u001b[0m\n\u001b[0m\u001b[0;32m      7\u001b[0m \u001b[1;31m#df_spy.drop(columns=['open', 'high', 'low', 'volume'], level=0, inplace=True)\u001b[0m\u001b[1;33m\u001b[0m\u001b[1;33m\u001b[0m\u001b[1;33m\u001b[0m\u001b[0m\n\u001b[0;32m      8\u001b[0m \u001b[0mdf_spy\u001b[0m \u001b[1;33m=\u001b[0m \u001b[0mdf_spy\u001b[0m\u001b[1;33m.\u001b[0m\u001b[0mreset_index\u001b[0m\u001b[1;33m(\u001b[0m\u001b[1;33m)\u001b[0m\u001b[1;33m\u001b[0m\u001b[1;33m\u001b[0m\u001b[0m\n",
      "\u001b[1;32mC:\\ProgramData\\Anaconda3\\lib\\site-packages\\iexfinance\\stocks\\__init__.py\u001b[0m in \u001b[0;36mget_historical_data\u001b[1;34m(symbols, start, end, close_only, **kwargs)\u001b[0m\n\u001b[0;32m     42\u001b[0m     \"\"\"\n\u001b[0;32m     43\u001b[0m     return HistoricalReader(symbols, start=start, end=end,\n\u001b[1;32m---> 44\u001b[1;33m                             close_only=close_only, **kwargs).fetch()\n\u001b[0m\u001b[0;32m     45\u001b[0m \u001b[1;33m\u001b[0m\u001b[0m\n\u001b[0;32m     46\u001b[0m \u001b[1;33m\u001b[0m\u001b[0m\n",
      "\u001b[1;32mC:\\ProgramData\\Anaconda3\\lib\\site-packages\\iexfinance\\stocks\\historical.py\u001b[0m in \u001b[0;36m__init__\u001b[1;34m(self, symbols, start, end, close_only, **kwargs)\u001b[0m\n\u001b[0;32m     18\u001b[0m         \u001b[0mself\u001b[0m\u001b[1;33m.\u001b[0m\u001b[0msingle_day\u001b[0m \u001b[1;33m=\u001b[0m \u001b[1;32mTrue\u001b[0m \u001b[1;32mif\u001b[0m \u001b[0mself\u001b[0m\u001b[1;33m.\u001b[0m\u001b[0mend\u001b[0m \u001b[1;32mis\u001b[0m \u001b[1;32mNone\u001b[0m \u001b[1;32melse\u001b[0m \u001b[1;32mFalse\u001b[0m\u001b[1;33m\u001b[0m\u001b[1;33m\u001b[0m\u001b[0m\n\u001b[0;32m     19\u001b[0m         \u001b[0mself\u001b[0m\u001b[1;33m.\u001b[0m\u001b[0mclose_only\u001b[0m \u001b[1;33m=\u001b[0m \u001b[0mclose_only\u001b[0m\u001b[1;33m\u001b[0m\u001b[1;33m\u001b[0m\u001b[0m\n\u001b[1;32m---> 20\u001b[1;33m         \u001b[0msuper\u001b[0m\u001b[1;33m(\u001b[0m\u001b[0mHistoricalReader\u001b[0m\u001b[1;33m,\u001b[0m \u001b[0mself\u001b[0m\u001b[1;33m)\u001b[0m\u001b[1;33m.\u001b[0m\u001b[0m__init__\u001b[0m\u001b[1;33m(\u001b[0m\u001b[0msymbols\u001b[0m\u001b[1;33m,\u001b[0m \u001b[1;33m**\u001b[0m\u001b[0mkwargs\u001b[0m\u001b[1;33m)\u001b[0m\u001b[1;33m\u001b[0m\u001b[1;33m\u001b[0m\u001b[0m\n\u001b[0m\u001b[0;32m     21\u001b[0m \u001b[1;33m\u001b[0m\u001b[0m\n\u001b[0;32m     22\u001b[0m     \u001b[1;33m@\u001b[0m\u001b[0mproperty\u001b[0m\u001b[1;33m\u001b[0m\u001b[1;33m\u001b[0m\u001b[0m\n",
      "\u001b[1;32mC:\\ProgramData\\Anaconda3\\lib\\site-packages\\iexfinance\\stocks\\base.py\u001b[0m in \u001b[0;36m__init__\u001b[1;34m(self, symbols, **kwargs)\u001b[0m\n\u001b[0;32m     45\u001b[0m         \u001b[0mself\u001b[0m\u001b[1;33m.\u001b[0m\u001b[0msymbols\u001b[0m \u001b[1;33m=\u001b[0m \u001b[0mlist\u001b[0m\u001b[1;33m(\u001b[0m\u001b[0mmap\u001b[0m\u001b[1;33m(\u001b[0m\u001b[1;32mlambda\u001b[0m \u001b[0mx\u001b[0m\u001b[1;33m:\u001b[0m \u001b[0mx\u001b[0m\u001b[1;33m.\u001b[0m\u001b[0mupper\u001b[0m\u001b[1;33m(\u001b[0m\u001b[1;33m)\u001b[0m\u001b[1;33m,\u001b[0m \u001b[0m_handle_lists\u001b[0m\u001b[1;33m(\u001b[0m\u001b[0msymbols\u001b[0m\u001b[1;33m)\u001b[0m\u001b[1;33m)\u001b[0m\u001b[1;33m)\u001b[0m\u001b[1;33m\u001b[0m\u001b[1;33m\u001b[0m\u001b[0m\n\u001b[0;32m     46\u001b[0m         \u001b[0mself\u001b[0m\u001b[1;33m.\u001b[0m\u001b[0mendpoints\u001b[0m \u001b[1;33m=\u001b[0m \u001b[1;33m[\u001b[0m\u001b[1;33m]\u001b[0m\u001b[1;33m\u001b[0m\u001b[1;33m\u001b[0m\u001b[0m\n\u001b[1;32m---> 47\u001b[1;33m         \u001b[0msuper\u001b[0m\u001b[1;33m(\u001b[0m\u001b[0mStock\u001b[0m\u001b[1;33m,\u001b[0m \u001b[0mself\u001b[0m\u001b[1;33m)\u001b[0m\u001b[1;33m.\u001b[0m\u001b[0m__init__\u001b[0m\u001b[1;33m(\u001b[0m\u001b[1;33m**\u001b[0m\u001b[0mkwargs\u001b[0m\u001b[1;33m)\u001b[0m\u001b[1;33m\u001b[0m\u001b[1;33m\u001b[0m\u001b[0m\n\u001b[0m\u001b[0;32m     48\u001b[0m \u001b[1;33m\u001b[0m\u001b[0m\n\u001b[0;32m     49\u001b[0m     \u001b[1;33m@\u001b[0m\u001b[0mlegacy_endpoint\u001b[0m\u001b[1;33m\u001b[0m\u001b[1;33m\u001b[0m\u001b[0m\n",
      "\u001b[1;32mC:\\ProgramData\\Anaconda3\\lib\\site-packages\\iexfinance\\base.py\u001b[0m in \u001b[0;36m__init__\u001b[1;34m(self, **kwargs)\u001b[0m\n\u001b[0;32m     76\u001b[0m                 \u001b[0mself\u001b[0m\u001b[1;33m.\u001b[0m\u001b[0mtoken\u001b[0m \u001b[1;33m=\u001b[0m \u001b[0mos\u001b[0m\u001b[1;33m.\u001b[0m\u001b[0mgetenv\u001b[0m\u001b[1;33m(\u001b[0m\u001b[1;34m'IEX_TOKEN'\u001b[0m\u001b[1;33m)\u001b[0m\u001b[1;33m\u001b[0m\u001b[1;33m\u001b[0m\u001b[0m\n\u001b[0;32m     77\u001b[0m             \u001b[1;32mif\u001b[0m \u001b[1;32mnot\u001b[0m \u001b[0mself\u001b[0m\u001b[1;33m.\u001b[0m\u001b[0mtoken\u001b[0m \u001b[1;32mor\u001b[0m \u001b[1;32mnot\u001b[0m \u001b[0misinstance\u001b[0m\u001b[1;33m(\u001b[0m\u001b[0mself\u001b[0m\u001b[1;33m.\u001b[0m\u001b[0mtoken\u001b[0m\u001b[1;33m,\u001b[0m \u001b[0mstr\u001b[0m\u001b[1;33m)\u001b[0m\u001b[1;33m:\u001b[0m\u001b[1;33m\u001b[0m\u001b[1;33m\u001b[0m\u001b[0m\n\u001b[1;32m---> 78\u001b[1;33m                 raise auth_error('The IEX Cloud API key must be provided '\n\u001b[0m\u001b[0;32m     79\u001b[0m                                  \u001b[1;34m'either through the token variable or '\u001b[0m\u001b[1;33m\u001b[0m\u001b[1;33m\u001b[0m\u001b[0m\n\u001b[0;32m     80\u001b[0m                                  \u001b[1;34m'through the environmental variable '\u001b[0m\u001b[1;33m\u001b[0m\u001b[1;33m\u001b[0m\u001b[0m\n",
      "\u001b[1;31mIEXAuthenticationError\u001b[0m: The IEX Cloud API key must be provided either through the token variable or through the environmental variable IEX_TOKEN."
     ]
    }
   ],
   "source": [
    "tickers = [\"SPY\"]\n",
    "end_date = '2019-10-12'\n",
    "start_date = '2016-01-01'\n",
    "\n",
    "# Get 1 year's worth of historical data for AAPL\n",
    "df_spy = get_historical_data(tickers, start_date, end_date,  output_format='pandas')\n",
    "#df_spy.drop(columns=['open', 'high', 'low', 'volume'], level=0, inplace=True)\n",
    "df_spy = df_spy.reset_index()\n",
    "df_spy.shape"
   ]
  },
  {
   "cell_type": "code",
   "execution_count": 74,
   "metadata": {},
   "outputs": [
    {
     "data": {
      "text/html": [
       "<div>\n",
       "<style scoped>\n",
       "    .dataframe tbody tr th:only-of-type {\n",
       "        vertical-align: middle;\n",
       "    }\n",
       "\n",
       "    .dataframe tbody tr th {\n",
       "        vertical-align: top;\n",
       "    }\n",
       "\n",
       "    .dataframe thead th {\n",
       "        text-align: right;\n",
       "    }\n",
       "</style>\n",
       "<table border=\"1\" class=\"dataframe\">\n",
       "  <thead>\n",
       "    <tr style=\"text-align: right;\">\n",
       "      <th></th>\n",
       "      <th>date</th>\n",
       "      <th>open</th>\n",
       "      <th>high</th>\n",
       "      <th>low</th>\n",
       "      <th>close</th>\n",
       "      <th>volume</th>\n",
       "    </tr>\n",
       "  </thead>\n",
       "  <tbody>\n",
       "    <tr>\n",
       "      <td>0</td>\n",
       "      <td>2016-01-04</td>\n",
       "      <td>200.49</td>\n",
       "      <td>201.03</td>\n",
       "      <td>198.59</td>\n",
       "      <td>201.02</td>\n",
       "      <td>222353534</td>\n",
       "    </tr>\n",
       "    <tr>\n",
       "      <td>1</td>\n",
       "      <td>2016-01-05</td>\n",
       "      <td>201.40</td>\n",
       "      <td>201.90</td>\n",
       "      <td>200.05</td>\n",
       "      <td>201.36</td>\n",
       "      <td>110845849</td>\n",
       "    </tr>\n",
       "    <tr>\n",
       "      <td>2</td>\n",
       "      <td>2016-01-06</td>\n",
       "      <td>198.34</td>\n",
       "      <td>200.06</td>\n",
       "      <td>197.60</td>\n",
       "      <td>198.82</td>\n",
       "      <td>152112604</td>\n",
       "    </tr>\n",
       "    <tr>\n",
       "      <td>3</td>\n",
       "      <td>2016-01-07</td>\n",
       "      <td>195.33</td>\n",
       "      <td>197.44</td>\n",
       "      <td>193.59</td>\n",
       "      <td>194.05</td>\n",
       "      <td>213436073</td>\n",
       "    </tr>\n",
       "    <tr>\n",
       "      <td>4</td>\n",
       "      <td>2016-01-08</td>\n",
       "      <td>195.19</td>\n",
       "      <td>195.85</td>\n",
       "      <td>191.58</td>\n",
       "      <td>191.92</td>\n",
       "      <td>209817228</td>\n",
       "    </tr>\n",
       "    <tr>\n",
       "      <td>...</td>\n",
       "      <td>...</td>\n",
       "      <td>...</td>\n",
       "      <td>...</td>\n",
       "      <td>...</td>\n",
       "      <td>...</td>\n",
       "      <td>...</td>\n",
       "    </tr>\n",
       "    <tr>\n",
       "      <td>946</td>\n",
       "      <td>2019-10-07</td>\n",
       "      <td>293.47</td>\n",
       "      <td>295.26</td>\n",
       "      <td>292.77</td>\n",
       "      <td>293.08</td>\n",
       "      <td>60656561</td>\n",
       "    </tr>\n",
       "    <tr>\n",
       "      <td>947</td>\n",
       "      <td>2019-10-08</td>\n",
       "      <td>291.04</td>\n",
       "      <td>291.85</td>\n",
       "      <td>288.49</td>\n",
       "      <td>288.53</td>\n",
       "      <td>101575470</td>\n",
       "    </tr>\n",
       "    <tr>\n",
       "      <td>948</td>\n",
       "      <td>2019-10-09</td>\n",
       "      <td>290.75</td>\n",
       "      <td>292.30</td>\n",
       "      <td>288.66</td>\n",
       "      <td>291.27</td>\n",
       "      <td>65707329</td>\n",
       "    </tr>\n",
       "    <tr>\n",
       "      <td>949</td>\n",
       "      <td>2019-10-10</td>\n",
       "      <td>291.18</td>\n",
       "      <td>294.21</td>\n",
       "      <td>291.00</td>\n",
       "      <td>293.24</td>\n",
       "      <td>57255974</td>\n",
       "    </tr>\n",
       "    <tr>\n",
       "      <td>950</td>\n",
       "      <td>2019-10-11</td>\n",
       "      <td>296.27</td>\n",
       "      <td>298.74</td>\n",
       "      <td>296.14</td>\n",
       "      <td>296.28</td>\n",
       "      <td>101228577</td>\n",
       "    </tr>\n",
       "  </tbody>\n",
       "</table>\n",
       "<p>951 rows × 6 columns</p>\n",
       "</div>"
      ],
      "text/plain": [
       "          date    open    high     low   close     volume\n",
       "0   2016-01-04  200.49  201.03  198.59  201.02  222353534\n",
       "1   2016-01-05  201.40  201.90  200.05  201.36  110845849\n",
       "2   2016-01-06  198.34  200.06  197.60  198.82  152112604\n",
       "3   2016-01-07  195.33  197.44  193.59  194.05  213436073\n",
       "4   2016-01-08  195.19  195.85  191.58  191.92  209817228\n",
       "..         ...     ...     ...     ...     ...        ...\n",
       "946 2019-10-07  293.47  295.26  292.77  293.08   60656561\n",
       "947 2019-10-08  291.04  291.85  288.49  288.53  101575470\n",
       "948 2019-10-09  290.75  292.30  288.66  291.27   65707329\n",
       "949 2019-10-10  291.18  294.21  291.00  293.24   57255974\n",
       "950 2019-10-11  296.27  298.74  296.14  296.28  101228577\n",
       "\n",
       "[951 rows x 6 columns]"
      ]
     },
     "execution_count": 74,
     "metadata": {},
     "output_type": "execute_result"
    }
   ],
   "source": [
    "df_spy"
   ]
  },
  {
   "cell_type": "code",
   "execution_count": 75,
   "metadata": {},
   "outputs": [
    {
     "data": {
      "application/vnd.plotly.v1+json": {
       "config": {
        "plotlyServerURL": "https://plot.ly"
       },
       "data": [
        {
         "hoverlabel": {
          "namelength": 0
         },
         "hovertemplate": "date=%{x}<br>close=%{y}",
         "legendgroup": "",
         "line": {
          "color": "#636efa",
          "dash": "solid"
         },
         "mode": "lines",
         "name": "",
         "showlegend": false,
         "type": "scatter",
         "x": [
          "2016-01-04T00:00:00",
          "2016-01-05T00:00:00",
          "2016-01-06T00:00:00",
          "2016-01-07T00:00:00",
          "2016-01-08T00:00:00",
          "2016-01-11T00:00:00",
          "2016-01-12T00:00:00",
          "2016-01-13T00:00:00",
          "2016-01-14T00:00:00",
          "2016-01-15T00:00:00",
          "2016-01-19T00:00:00",
          "2016-01-20T00:00:00",
          "2016-01-21T00:00:00",
          "2016-01-22T00:00:00",
          "2016-01-25T00:00:00",
          "2016-01-26T00:00:00",
          "2016-01-27T00:00:00",
          "2016-01-28T00:00:00",
          "2016-01-29T00:00:00",
          "2016-02-01T00:00:00",
          "2016-02-02T00:00:00",
          "2016-02-03T00:00:00",
          "2016-02-04T00:00:00",
          "2016-02-05T00:00:00",
          "2016-02-08T00:00:00",
          "2016-02-09T00:00:00",
          "2016-02-10T00:00:00",
          "2016-02-11T00:00:00",
          "2016-02-12T00:00:00",
          "2016-02-16T00:00:00",
          "2016-02-17T00:00:00",
          "2016-02-18T00:00:00",
          "2016-02-19T00:00:00",
          "2016-02-22T00:00:00",
          "2016-02-23T00:00:00",
          "2016-02-24T00:00:00",
          "2016-02-25T00:00:00",
          "2016-02-26T00:00:00",
          "2016-02-29T00:00:00",
          "2016-03-01T00:00:00",
          "2016-03-02T00:00:00",
          "2016-03-03T00:00:00",
          "2016-03-04T00:00:00",
          "2016-03-07T00:00:00",
          "2016-03-08T00:00:00",
          "2016-03-09T00:00:00",
          "2016-03-10T00:00:00",
          "2016-03-11T00:00:00",
          "2016-03-14T00:00:00",
          "2016-03-15T00:00:00",
          "2016-03-16T00:00:00",
          "2016-03-17T00:00:00",
          "2016-03-18T00:00:00",
          "2016-03-21T00:00:00",
          "2016-03-22T00:00:00",
          "2016-03-23T00:00:00",
          "2016-03-24T00:00:00",
          "2016-03-28T00:00:00",
          "2016-03-29T00:00:00",
          "2016-03-30T00:00:00",
          "2016-03-31T00:00:00",
          "2016-04-01T00:00:00",
          "2016-04-04T00:00:00",
          "2016-04-05T00:00:00",
          "2016-04-06T00:00:00",
          "2016-04-07T00:00:00",
          "2016-04-08T00:00:00",
          "2016-04-11T00:00:00",
          "2016-04-12T00:00:00",
          "2016-04-13T00:00:00",
          "2016-04-14T00:00:00",
          "2016-04-15T00:00:00",
          "2016-04-18T00:00:00",
          "2016-04-19T00:00:00",
          "2016-04-20T00:00:00",
          "2016-04-21T00:00:00",
          "2016-04-22T00:00:00",
          "2016-04-25T00:00:00",
          "2016-04-26T00:00:00",
          "2016-04-27T00:00:00",
          "2016-04-28T00:00:00",
          "2016-04-29T00:00:00",
          "2016-05-02T00:00:00",
          "2016-05-03T00:00:00",
          "2016-05-04T00:00:00",
          "2016-05-05T00:00:00",
          "2016-05-06T00:00:00",
          "2016-05-09T00:00:00",
          "2016-05-10T00:00:00",
          "2016-05-11T00:00:00",
          "2016-05-12T00:00:00",
          "2016-05-13T00:00:00",
          "2016-05-16T00:00:00",
          "2016-05-17T00:00:00",
          "2016-05-18T00:00:00",
          "2016-05-19T00:00:00",
          "2016-05-20T00:00:00",
          "2016-05-23T00:00:00",
          "2016-05-24T00:00:00",
          "2016-05-25T00:00:00",
          "2016-05-26T00:00:00",
          "2016-05-27T00:00:00",
          "2016-05-31T00:00:00",
          "2016-06-01T00:00:00",
          "2016-06-02T00:00:00",
          "2016-06-03T00:00:00",
          "2016-06-06T00:00:00",
          "2016-06-07T00:00:00",
          "2016-06-08T00:00:00",
          "2016-06-09T00:00:00",
          "2016-06-10T00:00:00",
          "2016-06-13T00:00:00",
          "2016-06-14T00:00:00",
          "2016-06-15T00:00:00",
          "2016-06-16T00:00:00",
          "2016-06-17T00:00:00",
          "2016-06-20T00:00:00",
          "2016-06-21T00:00:00",
          "2016-06-22T00:00:00",
          "2016-06-23T00:00:00",
          "2016-06-24T00:00:00",
          "2016-06-27T00:00:00",
          "2016-06-28T00:00:00",
          "2016-06-29T00:00:00",
          "2016-06-30T00:00:00",
          "2016-07-01T00:00:00",
          "2016-07-05T00:00:00",
          "2016-07-06T00:00:00",
          "2016-07-07T00:00:00",
          "2016-07-08T00:00:00",
          "2016-07-11T00:00:00",
          "2016-07-12T00:00:00",
          "2016-07-13T00:00:00",
          "2016-07-14T00:00:00",
          "2016-07-15T00:00:00",
          "2016-07-18T00:00:00",
          "2016-07-19T00:00:00",
          "2016-07-20T00:00:00",
          "2016-07-21T00:00:00",
          "2016-07-22T00:00:00",
          "2016-07-25T00:00:00",
          "2016-07-26T00:00:00",
          "2016-07-27T00:00:00",
          "2016-07-28T00:00:00",
          "2016-07-29T00:00:00",
          "2016-08-01T00:00:00",
          "2016-08-02T00:00:00",
          "2016-08-03T00:00:00",
          "2016-08-04T00:00:00",
          "2016-08-05T00:00:00",
          "2016-08-08T00:00:00",
          "2016-08-09T00:00:00",
          "2016-08-10T00:00:00",
          "2016-08-11T00:00:00",
          "2016-08-12T00:00:00",
          "2016-08-15T00:00:00",
          "2016-08-16T00:00:00",
          "2016-08-17T00:00:00",
          "2016-08-18T00:00:00",
          "2016-08-19T00:00:00",
          "2016-08-22T00:00:00",
          "2016-08-23T00:00:00",
          "2016-08-24T00:00:00",
          "2016-08-25T00:00:00",
          "2016-08-26T00:00:00",
          "2016-08-29T00:00:00",
          "2016-08-30T00:00:00",
          "2016-08-31T00:00:00",
          "2016-09-01T00:00:00",
          "2016-09-02T00:00:00",
          "2016-09-06T00:00:00",
          "2016-09-07T00:00:00",
          "2016-09-08T00:00:00",
          "2016-09-09T00:00:00",
          "2016-09-12T00:00:00",
          "2016-09-13T00:00:00",
          "2016-09-14T00:00:00",
          "2016-09-15T00:00:00",
          "2016-09-16T00:00:00",
          "2016-09-19T00:00:00",
          "2016-09-20T00:00:00",
          "2016-09-21T00:00:00",
          "2016-09-22T00:00:00",
          "2016-09-23T00:00:00",
          "2016-09-26T00:00:00",
          "2016-09-27T00:00:00",
          "2016-09-28T00:00:00",
          "2016-09-29T00:00:00",
          "2016-09-30T00:00:00",
          "2016-10-03T00:00:00",
          "2016-10-04T00:00:00",
          "2016-10-05T00:00:00",
          "2016-10-06T00:00:00",
          "2016-10-07T00:00:00",
          "2016-10-10T00:00:00",
          "2016-10-11T00:00:00",
          "2016-10-12T00:00:00",
          "2016-10-13T00:00:00",
          "2016-10-14T00:00:00",
          "2016-10-17T00:00:00",
          "2016-10-18T00:00:00",
          "2016-10-19T00:00:00",
          "2016-10-20T00:00:00",
          "2016-10-21T00:00:00",
          "2016-10-24T00:00:00",
          "2016-10-25T00:00:00",
          "2016-10-26T00:00:00",
          "2016-10-27T00:00:00",
          "2016-10-28T00:00:00",
          "2016-10-31T00:00:00",
          "2016-11-01T00:00:00",
          "2016-11-02T00:00:00",
          "2016-11-03T00:00:00",
          "2016-11-04T00:00:00",
          "2016-11-07T00:00:00",
          "2016-11-08T00:00:00",
          "2016-11-09T00:00:00",
          "2016-11-10T00:00:00",
          "2016-11-11T00:00:00",
          "2016-11-14T00:00:00",
          "2016-11-15T00:00:00",
          "2016-11-16T00:00:00",
          "2016-11-17T00:00:00",
          "2016-11-18T00:00:00",
          "2016-11-21T00:00:00",
          "2016-11-22T00:00:00",
          "2016-11-23T00:00:00",
          "2016-11-25T00:00:00",
          "2016-11-28T00:00:00",
          "2016-11-29T00:00:00",
          "2016-11-30T00:00:00",
          "2016-12-01T00:00:00",
          "2016-12-02T00:00:00",
          "2016-12-05T00:00:00",
          "2016-12-06T00:00:00",
          "2016-12-07T00:00:00",
          "2016-12-08T00:00:00",
          "2016-12-09T00:00:00",
          "2016-12-12T00:00:00",
          "2016-12-13T00:00:00",
          "2016-12-14T00:00:00",
          "2016-12-15T00:00:00",
          "2016-12-16T00:00:00",
          "2016-12-19T00:00:00",
          "2016-12-20T00:00:00",
          "2016-12-21T00:00:00",
          "2016-12-22T00:00:00",
          "2016-12-23T00:00:00",
          "2016-12-27T00:00:00",
          "2016-12-28T00:00:00",
          "2016-12-29T00:00:00",
          "2016-12-30T00:00:00",
          "2017-01-03T00:00:00",
          "2017-01-04T00:00:00",
          "2017-01-05T00:00:00",
          "2017-01-06T00:00:00",
          "2017-01-09T00:00:00",
          "2017-01-10T00:00:00",
          "2017-01-11T00:00:00",
          "2017-01-12T00:00:00",
          "2017-01-13T00:00:00",
          "2017-01-17T00:00:00",
          "2017-01-18T00:00:00",
          "2017-01-19T00:00:00",
          "2017-01-20T00:00:00",
          "2017-01-23T00:00:00",
          "2017-01-24T00:00:00",
          "2017-01-25T00:00:00",
          "2017-01-26T00:00:00",
          "2017-01-27T00:00:00",
          "2017-01-30T00:00:00",
          "2017-01-31T00:00:00",
          "2017-02-01T00:00:00",
          "2017-02-02T00:00:00",
          "2017-02-03T00:00:00",
          "2017-02-06T00:00:00",
          "2017-02-07T00:00:00",
          "2017-02-08T00:00:00",
          "2017-02-09T00:00:00",
          "2017-02-10T00:00:00",
          "2017-02-13T00:00:00",
          "2017-02-14T00:00:00",
          "2017-02-15T00:00:00",
          "2017-02-16T00:00:00",
          "2017-02-17T00:00:00",
          "2017-02-21T00:00:00",
          "2017-02-22T00:00:00",
          "2017-02-23T00:00:00",
          "2017-02-24T00:00:00",
          "2017-02-27T00:00:00",
          "2017-02-28T00:00:00",
          "2017-03-01T00:00:00",
          "2017-03-02T00:00:00",
          "2017-03-03T00:00:00",
          "2017-03-06T00:00:00",
          "2017-03-07T00:00:00",
          "2017-03-08T00:00:00",
          "2017-03-09T00:00:00",
          "2017-03-10T00:00:00",
          "2017-03-13T00:00:00",
          "2017-03-14T00:00:00",
          "2017-03-15T00:00:00",
          "2017-03-16T00:00:00",
          "2017-03-17T00:00:00",
          "2017-03-20T00:00:00",
          "2017-03-21T00:00:00",
          "2017-03-22T00:00:00",
          "2017-03-23T00:00:00",
          "2017-03-24T00:00:00",
          "2017-03-27T00:00:00",
          "2017-03-28T00:00:00",
          "2017-03-29T00:00:00",
          "2017-03-30T00:00:00",
          "2017-03-31T00:00:00",
          "2017-04-03T00:00:00",
          "2017-04-04T00:00:00",
          "2017-04-05T00:00:00",
          "2017-04-06T00:00:00",
          "2017-04-07T00:00:00",
          "2017-04-10T00:00:00",
          "2017-04-11T00:00:00",
          "2017-04-12T00:00:00",
          "2017-04-13T00:00:00",
          "2017-04-17T00:00:00",
          "2017-04-18T00:00:00",
          "2017-04-19T00:00:00",
          "2017-04-20T00:00:00",
          "2017-04-21T00:00:00",
          "2017-04-24T00:00:00",
          "2017-04-25T00:00:00",
          "2017-04-26T00:00:00",
          "2017-04-27T00:00:00",
          "2017-04-28T00:00:00",
          "2017-05-01T00:00:00",
          "2017-05-02T00:00:00",
          "2017-05-03T00:00:00",
          "2017-05-04T00:00:00",
          "2017-05-05T00:00:00",
          "2017-05-08T00:00:00",
          "2017-05-09T00:00:00",
          "2017-05-10T00:00:00",
          "2017-05-11T00:00:00",
          "2017-05-12T00:00:00",
          "2017-05-15T00:00:00",
          "2017-05-16T00:00:00",
          "2017-05-17T00:00:00",
          "2017-05-18T00:00:00",
          "2017-05-19T00:00:00",
          "2017-05-22T00:00:00",
          "2017-05-23T00:00:00",
          "2017-05-24T00:00:00",
          "2017-05-25T00:00:00",
          "2017-05-26T00:00:00",
          "2017-05-30T00:00:00",
          "2017-05-31T00:00:00",
          "2017-06-01T00:00:00",
          "2017-06-02T00:00:00",
          "2017-06-05T00:00:00",
          "2017-06-06T00:00:00",
          "2017-06-07T00:00:00",
          "2017-06-08T00:00:00",
          "2017-06-09T00:00:00",
          "2017-06-12T00:00:00",
          "2017-06-13T00:00:00",
          "2017-06-14T00:00:00",
          "2017-06-15T00:00:00",
          "2017-06-16T00:00:00",
          "2017-06-19T00:00:00",
          "2017-06-20T00:00:00",
          "2017-06-21T00:00:00",
          "2017-06-22T00:00:00",
          "2017-06-23T00:00:00",
          "2017-06-26T00:00:00",
          "2017-06-27T00:00:00",
          "2017-06-28T00:00:00",
          "2017-06-29T00:00:00",
          "2017-06-30T00:00:00",
          "2017-07-03T00:00:00",
          "2017-07-05T00:00:00",
          "2017-07-06T00:00:00",
          "2017-07-07T00:00:00",
          "2017-07-10T00:00:00",
          "2017-07-11T00:00:00",
          "2017-07-12T00:00:00",
          "2017-07-13T00:00:00",
          "2017-07-14T00:00:00",
          "2017-07-17T00:00:00",
          "2017-07-18T00:00:00",
          "2017-07-19T00:00:00",
          "2017-07-20T00:00:00",
          "2017-07-21T00:00:00",
          "2017-07-24T00:00:00",
          "2017-07-25T00:00:00",
          "2017-07-26T00:00:00",
          "2017-07-27T00:00:00",
          "2017-07-28T00:00:00",
          "2017-07-31T00:00:00",
          "2017-08-01T00:00:00",
          "2017-08-02T00:00:00",
          "2017-08-03T00:00:00",
          "2017-08-04T00:00:00",
          "2017-08-07T00:00:00",
          "2017-08-08T00:00:00",
          "2017-08-09T00:00:00",
          "2017-08-10T00:00:00",
          "2017-08-11T00:00:00",
          "2017-08-14T00:00:00",
          "2017-08-15T00:00:00",
          "2017-08-16T00:00:00",
          "2017-08-17T00:00:00",
          "2017-08-18T00:00:00",
          "2017-08-21T00:00:00",
          "2017-08-22T00:00:00",
          "2017-08-23T00:00:00",
          "2017-08-24T00:00:00",
          "2017-08-25T00:00:00",
          "2017-08-28T00:00:00",
          "2017-08-29T00:00:00",
          "2017-08-30T00:00:00",
          "2017-08-31T00:00:00",
          "2017-09-01T00:00:00",
          "2017-09-05T00:00:00",
          "2017-09-06T00:00:00",
          "2017-09-07T00:00:00",
          "2017-09-08T00:00:00",
          "2017-09-11T00:00:00",
          "2017-09-12T00:00:00",
          "2017-09-13T00:00:00",
          "2017-09-14T00:00:00",
          "2017-09-15T00:00:00",
          "2017-09-18T00:00:00",
          "2017-09-19T00:00:00",
          "2017-09-20T00:00:00",
          "2017-09-21T00:00:00",
          "2017-09-22T00:00:00",
          "2017-09-25T00:00:00",
          "2017-09-26T00:00:00",
          "2017-09-27T00:00:00",
          "2017-09-28T00:00:00",
          "2017-09-29T00:00:00",
          "2017-10-02T00:00:00",
          "2017-10-03T00:00:00",
          "2017-10-04T00:00:00",
          "2017-10-05T00:00:00",
          "2017-10-06T00:00:00",
          "2017-10-09T00:00:00",
          "2017-10-10T00:00:00",
          "2017-10-11T00:00:00",
          "2017-10-12T00:00:00",
          "2017-10-13T00:00:00",
          "2017-10-16T00:00:00",
          "2017-10-17T00:00:00",
          "2017-10-18T00:00:00",
          "2017-10-19T00:00:00",
          "2017-10-20T00:00:00",
          "2017-10-23T00:00:00",
          "2017-10-24T00:00:00",
          "2017-10-25T00:00:00",
          "2017-10-26T00:00:00",
          "2017-10-27T00:00:00",
          "2017-10-30T00:00:00",
          "2017-10-31T00:00:00",
          "2017-11-01T00:00:00",
          "2017-11-02T00:00:00",
          "2017-11-03T00:00:00",
          "2017-11-06T00:00:00",
          "2017-11-07T00:00:00",
          "2017-11-08T00:00:00",
          "2017-11-09T00:00:00",
          "2017-11-10T00:00:00",
          "2017-11-13T00:00:00",
          "2017-11-14T00:00:00",
          "2017-11-15T00:00:00",
          "2017-11-16T00:00:00",
          "2017-11-17T00:00:00",
          "2017-11-20T00:00:00",
          "2017-11-21T00:00:00",
          "2017-11-22T00:00:00",
          "2017-11-24T00:00:00",
          "2017-11-27T00:00:00",
          "2017-11-28T00:00:00",
          "2017-11-29T00:00:00",
          "2017-11-30T00:00:00",
          "2017-12-01T00:00:00",
          "2017-12-04T00:00:00",
          "2017-12-05T00:00:00",
          "2017-12-06T00:00:00",
          "2017-12-07T00:00:00",
          "2017-12-08T00:00:00",
          "2017-12-11T00:00:00",
          "2017-12-12T00:00:00",
          "2017-12-13T00:00:00",
          "2017-12-14T00:00:00",
          "2017-12-15T00:00:00",
          "2017-12-18T00:00:00",
          "2017-12-19T00:00:00",
          "2017-12-20T00:00:00",
          "2017-12-21T00:00:00",
          "2017-12-22T00:00:00",
          "2017-12-26T00:00:00",
          "2017-12-27T00:00:00",
          "2017-12-28T00:00:00",
          "2017-12-29T00:00:00",
          "2018-01-02T00:00:00",
          "2018-01-03T00:00:00",
          "2018-01-04T00:00:00",
          "2018-01-05T00:00:00",
          "2018-01-08T00:00:00",
          "2018-01-09T00:00:00",
          "2018-01-10T00:00:00",
          "2018-01-11T00:00:00",
          "2018-01-12T00:00:00",
          "2018-01-16T00:00:00",
          "2018-01-17T00:00:00",
          "2018-01-18T00:00:00",
          "2018-01-19T00:00:00",
          "2018-01-22T00:00:00",
          "2018-01-23T00:00:00",
          "2018-01-24T00:00:00",
          "2018-01-25T00:00:00",
          "2018-01-26T00:00:00",
          "2018-01-29T00:00:00",
          "2018-01-30T00:00:00",
          "2018-01-31T00:00:00",
          "2018-02-01T00:00:00",
          "2018-02-02T00:00:00",
          "2018-02-05T00:00:00",
          "2018-02-06T00:00:00",
          "2018-02-07T00:00:00",
          "2018-02-08T00:00:00",
          "2018-02-09T00:00:00",
          "2018-02-12T00:00:00",
          "2018-02-13T00:00:00",
          "2018-02-14T00:00:00",
          "2018-02-15T00:00:00",
          "2018-02-16T00:00:00",
          "2018-02-20T00:00:00",
          "2018-02-21T00:00:00",
          "2018-02-22T00:00:00",
          "2018-02-23T00:00:00",
          "2018-02-26T00:00:00",
          "2018-02-27T00:00:00",
          "2018-02-28T00:00:00",
          "2018-03-01T00:00:00",
          "2018-03-02T00:00:00",
          "2018-03-05T00:00:00",
          "2018-03-06T00:00:00",
          "2018-03-07T00:00:00",
          "2018-03-08T00:00:00",
          "2018-03-09T00:00:00",
          "2018-03-12T00:00:00",
          "2018-03-13T00:00:00",
          "2018-03-14T00:00:00",
          "2018-03-15T00:00:00",
          "2018-03-16T00:00:00",
          "2018-03-19T00:00:00",
          "2018-03-20T00:00:00",
          "2018-03-21T00:00:00",
          "2018-03-22T00:00:00",
          "2018-03-23T00:00:00",
          "2018-03-26T00:00:00",
          "2018-03-27T00:00:00",
          "2018-03-28T00:00:00",
          "2018-03-29T00:00:00",
          "2018-04-02T00:00:00",
          "2018-04-03T00:00:00",
          "2018-04-04T00:00:00",
          "2018-04-05T00:00:00",
          "2018-04-06T00:00:00",
          "2018-04-09T00:00:00",
          "2018-04-10T00:00:00",
          "2018-04-11T00:00:00",
          "2018-04-12T00:00:00",
          "2018-04-13T00:00:00",
          "2018-04-16T00:00:00",
          "2018-04-17T00:00:00",
          "2018-04-18T00:00:00",
          "2018-04-19T00:00:00",
          "2018-04-20T00:00:00",
          "2018-04-23T00:00:00",
          "2018-04-24T00:00:00",
          "2018-04-25T00:00:00",
          "2018-04-26T00:00:00",
          "2018-04-27T00:00:00",
          "2018-04-30T00:00:00",
          "2018-05-01T00:00:00",
          "2018-05-02T00:00:00",
          "2018-05-03T00:00:00",
          "2018-05-04T00:00:00",
          "2018-05-07T00:00:00",
          "2018-05-08T00:00:00",
          "2018-05-09T00:00:00",
          "2018-05-10T00:00:00",
          "2018-05-11T00:00:00",
          "2018-05-14T00:00:00",
          "2018-05-15T00:00:00",
          "2018-05-16T00:00:00",
          "2018-05-17T00:00:00",
          "2018-05-18T00:00:00",
          "2018-05-21T00:00:00",
          "2018-05-22T00:00:00",
          "2018-05-23T00:00:00",
          "2018-05-24T00:00:00",
          "2018-05-25T00:00:00",
          "2018-05-29T00:00:00",
          "2018-05-30T00:00:00",
          "2018-05-31T00:00:00",
          "2018-06-01T00:00:00",
          "2018-06-04T00:00:00",
          "2018-06-05T00:00:00",
          "2018-06-06T00:00:00",
          "2018-06-07T00:00:00",
          "2018-06-08T00:00:00",
          "2018-06-11T00:00:00",
          "2018-06-12T00:00:00",
          "2018-06-13T00:00:00",
          "2018-06-14T00:00:00",
          "2018-06-15T00:00:00",
          "2018-06-18T00:00:00",
          "2018-06-19T00:00:00",
          "2018-06-20T00:00:00",
          "2018-06-21T00:00:00",
          "2018-06-22T00:00:00",
          "2018-06-25T00:00:00",
          "2018-06-26T00:00:00",
          "2018-06-27T00:00:00",
          "2018-06-28T00:00:00",
          "2018-06-29T00:00:00",
          "2018-07-02T00:00:00",
          "2018-07-03T00:00:00",
          "2018-07-05T00:00:00",
          "2018-07-06T00:00:00",
          "2018-07-09T00:00:00",
          "2018-07-10T00:00:00",
          "2018-07-11T00:00:00",
          "2018-07-12T00:00:00",
          "2018-07-13T00:00:00",
          "2018-07-16T00:00:00",
          "2018-07-17T00:00:00",
          "2018-07-18T00:00:00",
          "2018-07-19T00:00:00",
          "2018-07-20T00:00:00",
          "2018-07-23T00:00:00",
          "2018-07-24T00:00:00",
          "2018-07-25T00:00:00",
          "2018-07-26T00:00:00",
          "2018-07-27T00:00:00",
          "2018-07-30T00:00:00",
          "2018-07-31T00:00:00",
          "2018-08-01T00:00:00",
          "2018-08-02T00:00:00",
          "2018-08-03T00:00:00",
          "2018-08-06T00:00:00",
          "2018-08-07T00:00:00",
          "2018-08-08T00:00:00",
          "2018-08-09T00:00:00",
          "2018-08-10T00:00:00",
          "2018-08-13T00:00:00",
          "2018-08-14T00:00:00",
          "2018-08-15T00:00:00",
          "2018-08-16T00:00:00",
          "2018-08-17T00:00:00",
          "2018-08-20T00:00:00",
          "2018-08-21T00:00:00",
          "2018-08-22T00:00:00",
          "2018-08-23T00:00:00",
          "2018-08-24T00:00:00",
          "2018-08-27T00:00:00",
          "2018-08-28T00:00:00",
          "2018-08-29T00:00:00",
          "2018-08-30T00:00:00",
          "2018-08-31T00:00:00",
          "2018-09-04T00:00:00",
          "2018-09-05T00:00:00",
          "2018-09-06T00:00:00",
          "2018-09-07T00:00:00",
          "2018-09-10T00:00:00",
          "2018-09-11T00:00:00",
          "2018-09-12T00:00:00",
          "2018-09-13T00:00:00",
          "2018-09-14T00:00:00",
          "2018-09-17T00:00:00",
          "2018-09-18T00:00:00",
          "2018-09-19T00:00:00",
          "2018-09-20T00:00:00",
          "2018-09-21T00:00:00",
          "2018-09-24T00:00:00",
          "2018-09-25T00:00:00",
          "2018-09-26T00:00:00",
          "2018-09-27T00:00:00",
          "2018-09-28T00:00:00",
          "2018-10-01T00:00:00",
          "2018-10-02T00:00:00",
          "2018-10-03T00:00:00",
          "2018-10-04T00:00:00",
          "2018-10-05T00:00:00",
          "2018-10-08T00:00:00",
          "2018-10-09T00:00:00",
          "2018-10-10T00:00:00",
          "2018-10-11T00:00:00",
          "2018-10-12T00:00:00",
          "2018-10-15T00:00:00",
          "2018-10-16T00:00:00",
          "2018-10-17T00:00:00",
          "2018-10-18T00:00:00",
          "2018-10-19T00:00:00",
          "2018-10-22T00:00:00",
          "2018-10-23T00:00:00",
          "2018-10-24T00:00:00",
          "2018-10-25T00:00:00",
          "2018-10-26T00:00:00",
          "2018-10-29T00:00:00",
          "2018-10-30T00:00:00",
          "2018-10-31T00:00:00",
          "2018-11-01T00:00:00",
          "2018-11-02T00:00:00",
          "2018-11-05T00:00:00",
          "2018-11-06T00:00:00",
          "2018-11-07T00:00:00",
          "2018-11-08T00:00:00",
          "2018-11-09T00:00:00",
          "2018-11-12T00:00:00",
          "2018-11-13T00:00:00",
          "2018-11-14T00:00:00",
          "2018-11-15T00:00:00",
          "2018-11-16T00:00:00",
          "2018-11-19T00:00:00",
          "2018-11-20T00:00:00",
          "2018-11-21T00:00:00",
          "2018-11-23T00:00:00",
          "2018-11-26T00:00:00",
          "2018-11-27T00:00:00",
          "2018-11-28T00:00:00",
          "2018-11-29T00:00:00",
          "2018-11-30T00:00:00",
          "2018-12-03T00:00:00",
          "2018-12-04T00:00:00",
          "2018-12-06T00:00:00",
          "2018-12-07T00:00:00",
          "2018-12-10T00:00:00",
          "2018-12-11T00:00:00",
          "2018-12-12T00:00:00",
          "2018-12-13T00:00:00",
          "2018-12-14T00:00:00",
          "2018-12-17T00:00:00",
          "2018-12-18T00:00:00",
          "2018-12-19T00:00:00",
          "2018-12-20T00:00:00",
          "2018-12-21T00:00:00",
          "2018-12-24T00:00:00",
          "2018-12-26T00:00:00",
          "2018-12-27T00:00:00",
          "2018-12-28T00:00:00",
          "2018-12-31T00:00:00",
          "2019-01-02T00:00:00",
          "2019-01-03T00:00:00",
          "2019-01-04T00:00:00",
          "2019-01-07T00:00:00",
          "2019-01-08T00:00:00",
          "2019-01-09T00:00:00",
          "2019-01-10T00:00:00",
          "2019-01-11T00:00:00",
          "2019-01-14T00:00:00",
          "2019-01-15T00:00:00",
          "2019-01-16T00:00:00",
          "2019-01-17T00:00:00",
          "2019-01-18T00:00:00",
          "2019-01-22T00:00:00",
          "2019-01-23T00:00:00",
          "2019-01-24T00:00:00",
          "2019-01-25T00:00:00",
          "2019-01-28T00:00:00",
          "2019-01-29T00:00:00",
          "2019-01-30T00:00:00",
          "2019-01-31T00:00:00",
          "2019-02-01T00:00:00",
          "2019-02-04T00:00:00",
          "2019-02-05T00:00:00",
          "2019-02-06T00:00:00",
          "2019-02-07T00:00:00",
          "2019-02-08T00:00:00",
          "2019-02-11T00:00:00",
          "2019-02-12T00:00:00",
          "2019-02-13T00:00:00",
          "2019-02-14T00:00:00",
          "2019-02-15T00:00:00",
          "2019-02-19T00:00:00",
          "2019-02-20T00:00:00",
          "2019-02-21T00:00:00",
          "2019-02-22T00:00:00",
          "2019-02-25T00:00:00",
          "2019-02-26T00:00:00",
          "2019-02-27T00:00:00",
          "2019-02-28T00:00:00",
          "2019-03-01T00:00:00",
          "2019-03-04T00:00:00",
          "2019-03-05T00:00:00",
          "2019-03-06T00:00:00",
          "2019-03-07T00:00:00",
          "2019-03-08T00:00:00",
          "2019-03-11T00:00:00",
          "2019-03-12T00:00:00",
          "2019-03-13T00:00:00",
          "2019-03-14T00:00:00",
          "2019-03-15T00:00:00",
          "2019-03-18T00:00:00",
          "2019-03-19T00:00:00",
          "2019-03-20T00:00:00",
          "2019-03-21T00:00:00",
          "2019-03-22T00:00:00",
          "2019-03-25T00:00:00",
          "2019-03-26T00:00:00",
          "2019-03-27T00:00:00",
          "2019-03-28T00:00:00",
          "2019-03-29T00:00:00",
          "2019-04-01T00:00:00",
          "2019-04-02T00:00:00",
          "2019-04-03T00:00:00",
          "2019-04-04T00:00:00",
          "2019-04-05T00:00:00",
          "2019-04-08T00:00:00",
          "2019-04-09T00:00:00",
          "2019-04-10T00:00:00",
          "2019-04-11T00:00:00",
          "2019-04-12T00:00:00",
          "2019-04-15T00:00:00",
          "2019-04-16T00:00:00",
          "2019-04-17T00:00:00",
          "2019-04-18T00:00:00",
          "2019-04-22T00:00:00",
          "2019-04-23T00:00:00",
          "2019-04-24T00:00:00",
          "2019-04-25T00:00:00",
          "2019-04-26T00:00:00",
          "2019-04-29T00:00:00",
          "2019-04-30T00:00:00",
          "2019-05-01T00:00:00",
          "2019-05-02T00:00:00",
          "2019-05-03T00:00:00",
          "2019-05-06T00:00:00",
          "2019-05-07T00:00:00",
          "2019-05-08T00:00:00",
          "2019-05-09T00:00:00",
          "2019-05-10T00:00:00",
          "2019-05-13T00:00:00",
          "2019-05-14T00:00:00",
          "2019-05-15T00:00:00",
          "2019-05-16T00:00:00",
          "2019-05-17T00:00:00",
          "2019-05-20T00:00:00",
          "2019-05-21T00:00:00",
          "2019-05-22T00:00:00",
          "2019-05-23T00:00:00",
          "2019-05-24T00:00:00",
          "2019-05-28T00:00:00",
          "2019-05-29T00:00:00",
          "2019-05-30T00:00:00",
          "2019-05-31T00:00:00",
          "2019-06-03T00:00:00",
          "2019-06-04T00:00:00",
          "2019-06-05T00:00:00",
          "2019-06-06T00:00:00",
          "2019-06-07T00:00:00",
          "2019-06-10T00:00:00",
          "2019-06-11T00:00:00",
          "2019-06-12T00:00:00",
          "2019-06-13T00:00:00",
          "2019-06-14T00:00:00",
          "2019-06-17T00:00:00",
          "2019-06-18T00:00:00",
          "2019-06-19T00:00:00",
          "2019-06-20T00:00:00",
          "2019-06-21T00:00:00",
          "2019-06-24T00:00:00",
          "2019-06-25T00:00:00",
          "2019-06-26T00:00:00",
          "2019-06-27T00:00:00",
          "2019-06-28T00:00:00",
          "2019-07-01T00:00:00",
          "2019-07-02T00:00:00",
          "2019-07-03T00:00:00",
          "2019-07-05T00:00:00",
          "2019-07-08T00:00:00",
          "2019-07-09T00:00:00",
          "2019-07-10T00:00:00",
          "2019-07-11T00:00:00",
          "2019-07-12T00:00:00",
          "2019-07-15T00:00:00",
          "2019-07-16T00:00:00",
          "2019-07-17T00:00:00",
          "2019-07-18T00:00:00",
          "2019-07-19T00:00:00",
          "2019-07-22T00:00:00",
          "2019-07-23T00:00:00",
          "2019-07-24T00:00:00",
          "2019-07-25T00:00:00",
          "2019-07-26T00:00:00",
          "2019-07-29T00:00:00",
          "2019-07-30T00:00:00",
          "2019-07-31T00:00:00",
          "2019-08-01T00:00:00",
          "2019-08-02T00:00:00",
          "2019-08-05T00:00:00",
          "2019-08-06T00:00:00",
          "2019-08-07T00:00:00",
          "2019-08-08T00:00:00",
          "2019-08-09T00:00:00",
          "2019-08-12T00:00:00",
          "2019-08-13T00:00:00",
          "2019-08-14T00:00:00",
          "2019-08-15T00:00:00",
          "2019-08-16T00:00:00",
          "2019-08-19T00:00:00",
          "2019-08-20T00:00:00",
          "2019-08-21T00:00:00",
          "2019-08-22T00:00:00",
          "2019-08-23T00:00:00",
          "2019-08-26T00:00:00",
          "2019-08-27T00:00:00",
          "2019-08-28T00:00:00",
          "2019-08-29T00:00:00",
          "2019-08-30T00:00:00",
          "2019-09-03T00:00:00",
          "2019-09-04T00:00:00",
          "2019-09-05T00:00:00",
          "2019-09-06T00:00:00",
          "2019-09-09T00:00:00",
          "2019-09-10T00:00:00",
          "2019-09-11T00:00:00",
          "2019-09-12T00:00:00",
          "2019-09-13T00:00:00",
          "2019-09-16T00:00:00",
          "2019-09-17T00:00:00",
          "2019-09-18T00:00:00",
          "2019-09-19T00:00:00",
          "2019-09-20T00:00:00",
          "2019-09-23T00:00:00",
          "2019-09-24T00:00:00",
          "2019-09-25T00:00:00",
          "2019-09-26T00:00:00",
          "2019-09-27T00:00:00",
          "2019-09-30T00:00:00",
          "2019-10-01T00:00:00",
          "2019-10-02T00:00:00",
          "2019-10-03T00:00:00",
          "2019-10-04T00:00:00",
          "2019-10-07T00:00:00",
          "2019-10-08T00:00:00",
          "2019-10-09T00:00:00",
          "2019-10-10T00:00:00",
          "2019-10-11T00:00:00"
         ],
         "xaxis": "x",
         "y": [
          201.02,
          201.36,
          198.82,
          194.05,
          191.92,
          192.11,
          193.66,
          188.83,
          191.93,
          187.81,
          188.06,
          185.65,
          186.69,
          190.52,
          187.64,
          190.2,
          188.13,
          189.11,
          193.72,
          193.65,
          190.16,
          191.3,
          191.6,
          187.95,
          185.42,
          185.43,
          185.27,
          182.86,
          186.63,
          189.78,
          192.88,
          192.09,
          192,
          194.78,
          192.32,
          193.2,
          195.54,
          195.09,
          193.56,
          198.11,
          199,
          199.78,
          200.43,
          200.59,
          198.4,
          199.38,
          199.54,
          202.76,
          202.5,
          202.17,
          203.34,
          204.63,
          204.38,
          204.67,
          204.56,
          203.21,
          203.12,
          203.24,
          205.12,
          206.02,
          205.52,
          206.92,
          206.25,
          204.19,
          206.42,
          203.95,
          204.5,
          204.02,
          205.92,
          208,
          208.01,
          207.78,
          209.24,
          209.9,
          210.1,
          208.97,
          208.97,
          208.61,
          208.92,
          209.35,
          207.45,
          206.33,
          207.97,
          206.16,
          205.01,
          204.97,
          205.72,
          205.89,
          208.45,
          206.5,
          206.56,
          204.76,
          206.78,
          204.85,
          204.91,
          204.2,
          205.49,
          205.21,
          207.87,
          209.28,
          209.34,
          210.24,
          209.84,
          210.27,
          210.91,
          210.28,
          211.35,
          211.68,
          212.37,
          212.08,
          210.07,
          208.45,
          208.04,
          207.75,
          208.37,
          206.52,
          207.85,
          208.44,
          208.1,
          210.81,
          203.13,
          199.6,
          203.2,
          206.66,
          209.48,
          209.92,
          208.41,
          209.66,
          209.53,
          212.65,
          213.4,
          214.95,
          214.92,
          216.12,
          215.83,
          216.41,
          216.19,
          217.09,
          216.27,
          217.24,
          216.65,
          216.75,
          216.52,
          216.77,
          217.12,
          216.94,
          215.55,
          216.18,
          216.41,
          218.18,
          218.05,
          218.18,
          217.64,
          218.65,
          218.46,
          219.09,
          217.96,
          218.37,
          218.86,
          218.54,
          218.53,
          218.97,
          217.85,
          217.7,
          217.29,
          218.36,
          218,
          217.38,
          217.39,
          218.37,
          219.03,
          219.01,
          218.51,
          213.28,
          216.34,
          213.23,
          213.15,
          215.28,
          213.37,
          213.41,
          213.42,
          215.82,
          217.18,
          215.99,
          214.24,
          215.57,
          216.64,
          214.68,
          216.3,
          215.78,
          214.68,
          215.63,
          215.78,
          215.04,
          216.16,
          213.43,
          213.71,
          213.01,
          213.12,
          212.38,
          213.71,
          214.28,
          213.88,
          213.98,
          214.89,
          214.17,
          213.74,
          213.17,
          212.54,
          212.55,
          211.01,
          209.74,
          208.78,
          208.55,
          213.15,
          214.11,
          216.38,
          216.92,
          216.42,
          216.59,
          218.28,
          217.87,
          218.99,
          218.5,
          220.15,
          220.58,
          220.7,
          221.52,
          220.48,
          220.91,
          220.38,
          219.57,
          219.68,
          221,
          221.7,
          224.6,
          225.15,
          226.51,
          226.25,
          227.76,
          225.88,
          226.81,
          225.04,
          225.53,
          226.4,
          225.77,
          225.38,
          225.71,
          226.27,
          224.4,
          224.35,
          223.53,
          225.24,
          226.58,
          226.4,
          227.21,
          226.46,
          226.46,
          227.1,
          226.53,
          227.05,
          226.25,
          226.75,
          225.91,
          226.74,
          226.15,
          227.6,
          229.57,
          229.33,
          228.97,
          227.55,
          227.53,
          227.62,
          227.77,
          229.34,
          228.93,
          228.94,
          229.24,
          230.6,
          231.51,
          232.77,
          233.7,
          234.92,
          234.72,
          235.09,
          236.49,
          236.28,
          236.44,
          236.74,
          237.11,
          236.47,
          239.78,
          238.27,
          238.42,
          237.71,
          237,
          236.56,
          236.86,
          237.69,
          237.81,
          236.9,
          238.95,
          238.48,
          237.03,
          236.77,
          233.73,
          234.28,
          234.03,
          233.86,
          233.62,
          235.32,
          235.54,
          236.29,
          235.74,
          235.33,
          235.48,
          234.78,
          235.44,
          235.2,
          235.34,
          235.06,
          234.03,
          232.51,
          234.57,
          233.87,
          233.44,
          235.34,
          234.59,
          237.17,
          238.55,
          238.4,
          238.6,
          238.08,
          238.68,
          238.77,
          238.48,
          238.76,
          239.7,
          239.66,
          239.44,
          239.87,
          239.38,
          238.98,
          240.3,
          240.08,
          235.82,
          236.77,
          238.31,
          239.52,
          240.05,
          240.61,
          241.76,
          241.71,
          241.5,
          241.44,
          243.36,
          244.17,
          243.99,
          243.21,
          243.66,
          243.78,
          243.41,
          243.36,
          244.55,
          244.24,
          243.77,
          242.64,
          244.66,
          243.01,
          242.95,
          242.84,
          243.13,
          243.29,
          241.33,
          243.49,
          241.35,
          241.8,
          242.21,
          242.77,
          240.55,
          242.11,
          242.37,
          242.19,
          244.01,
          244.42,
          245.56,
          245.53,
          245.66,
          246.99,
          247.1,
          246.88,
          246.82,
          247.42,
          247.43,
          247.2,
          246.91,
          246.77,
          247.32,
          247.44,
          246.96,
          247.41,
          247.87,
          247.26,
          247.25,
          243.76,
          244.12,
          246.54,
          246.51,
          246.94,
          243.09,
          242.71,
          242.9,
          245.44,
          244.56,
          243.99,
          244.56,
          244.57,
          244.85,
          246.01,
          247.49,
          247.84,
          246.06,
          246.9,
          246.87,
          246.58,
          249.21,
          250.05,
          250.17,
          250.09,
          249.19,
          249.72,
          249.97,
          250.06,
          249.39,
          249.44,
          248.93,
          249.08,
          250.05,
          250.35,
          251.23,
          252.32,
          252.86,
          253.16,
          254.66,
          254.37,
          253.95,
          254.62,
          255.02,
          254.64,
          254.95,
          255.29,
          255.47,
          255.72,
          255.79,
          257.11,
          256.11,
          256.56,
          255.29,
          255.62,
          257.71,
          256.75,
          257.15,
          257.49,
          257.59,
          258.45,
          258.85,
          258.67,
          259.11,
          258.17,
          258.09,
          258.33,
          257.73,
          256.44,
          258.62,
          257.86,
          258.3,
          259.99,
          259.76,
          260.36,
          260.23,
          262.87,
          262.71,
          265.01,
          264.46,
          264.14,
          263.19,
          263.24,
          264.07,
          265.51,
          266.31,
          266.78,
          266.75,
          265.66,
          266.51,
          268.2,
          267.17,
          267.03,
          267.58,
          267.51,
          267.19,
          267.32,
          267.87,
          266.86,
          268.77,
          270.47,
          271.61,
          273.42,
          273.92,
          274.54,
          274.12,
          276.12,
          277.92,
          276.97,
          279.61,
          279.14,
          280.41,
          282.69,
          283.29,
          283.18,
          283.3,
          286.58,
          284.68,
          281.76,
          281.9,
          281.58,
          275.45,
          263.93,
          269.13,
          267.67,
          257.63,
          261.5,
          265.34,
          266,
          269.59,
          273.03,
          273.11,
          271.4,
          270.05,
          270.4,
          274.71,
          277.9,
          274.43,
          271.65,
          267.7,
          269.08,
          272.19,
          272.88,
          272.78,
          274.1,
          278.87,
          278.52,
          276.72,
          275.3,
          275,
          274.2,
          270.49,
          270.95,
          270.43,
          263.67,
          258.05,
          265.11,
          260.6,
          259.83,
          263.15,
          257.47,
          260.77,
          263.56,
          265.64,
          259.72,
          261,
          265.15,
          263.76,
          265.93,
          265.15,
          267.33,
          270.19,
          270.39,
          268.89,
          266.61,
          266.57,
          262.98,
          263.63,
          266.31,
          266.56,
          264.51,
          264.98,
          263.2,
          262.62,
          266.02,
          266.92,
          266.92,
          269.5,
          272.02,
          272.85,
          272.98,
          271.1,
          272.24,
          272.01,
          271.33,
          273.37,
          272.61,
          273.36,
          272.8,
          272.15,
          269.02,
          272.61,
          270.94,
          273.6,
          274.9,
          275.1,
          277.4,
          277.37,
          278.19,
          278.56,
          278.92,
          278.03,
          278.73,
          277.13,
          276.56,
          275.5,
          275.97,
          274.24,
          274.74,
          271,
          271.6,
          269.35,
          270.89,
          271.28,
          271.86,
          270.9,
          273.11,
          275.42,
          277.9,
          278.9,
          276.86,
          279.37,
          279.59,
          279.34,
          280.47,
          281.06,
          280,
          279.68,
          280.2,
          281.61,
          284.01,
          283.34,
          281.42,
          279.95,
          281.33,
          280.86,
          282.39,
          283.6,
          284.64,
          285.58,
          285.46,
          285.07,
          283.16,
          282.1,
          283.9,
          281.78,
          284.06,
          285.06,
          285.67,
          286.34,
          286.17,
          285.79,
          287.51,
          289.78,
          289.92,
          291.48,
          290.3,
          290.31,
          289.81,
          289.03,
          288.16,
          287.6,
          288.1,
          289.05,
          289.12,
          290.83,
          290.88,
          289.34,
          290.91,
          291.22,
          293.58,
          291.99,
          291.02,
          290.75,
          289.88,
          290.69,
          290.72,
          291.73,
          291.56,
          291.72,
          289.44,
          287.82,
          287.82,
          287.4,
          278.3,
          272.17,
          275.95,
          274.4,
          280.4,
          280.45,
          276.4,
          276.25,
          275.01,
          273.61,
          265.32,
          270.08,
          265.33,
          263.86,
          267.77,
          270.63,
          273.51,
          271.89,
          273.39,
          275.12,
          281.01,
          280.5,
          277.76,
          272.57,
          272.06,
          270.2,
          273.02,
          273.73,
          269.1,
          264.12,
          265.02,
          263.25,
          267.5,
          268.4,
          274.58,
          273.98,
          275.65,
          279.3,
          270.25,
          269.84,
          263.57,
          264.07,
          264.13,
          265.46,
          265.37,
          260.47,
          255.36,
          255.08,
          251.26,
          247.17,
          240.7,
          234.34,
          246.18,
          248.07,
          247.75,
          249.92,
          250.18,
          244.21,
          252.39,
          254.38,
          256.77,
          257.97,
          258.88,
          258.98,
          257.4,
          260.35,
          260.98,
          262.96,
          266.46,
          262.86,
          263.41,
          263.55,
          265.78,
          263.76,
          263.41,
          267.58,
          269.93,
          270.06,
          271.96,
          273.1,
          272.74,
          270.14,
          270.47,
          270.62,
          274.1,
          274.99,
          274.38,
          277.37,
          277.85,
          278.41,
          277.42,
          279.14,
          279.52,
          279.32,
          279.2,
          278.68,
          280.42,
          279.4,
          279.02,
          277.33,
          275.01,
          274.46,
          278.44,
          279.49,
          281.34,
          281.16,
          281.31,
          282.33,
          282.4,
          281.55,
          284.73,
          279.25,
          279.04,
          281.12,
          279.65,
          280.71,
          282.48,
          285.83,
          285.97,
          286.42,
          287.18,
          288.57,
          288.79,
          287.31,
          288.29,
          288.21,
          290.16,
          289.97,
          290.16,
          289.45,
          290.02,
          290.27,
          292.88,
          292.23,
          292.05,
          293.41,
          293.87,
          294.02,
          291.81,
          291.18,
          294.03,
          292.82,
          287.93,
          287.53,
          286.66,
          288.1,
          280.86,
          283.4,
          285.06,
          287.7,
          285.84,
          283.95,
          286.51,
          285.63,
          282.14,
          282.78,
          280.15,
          278.27,
          279.03,
          275.27,
          274.57,
          280.53,
          282.96,
          284.8,
          287.65,
          288.97,
          288.9,
          288.39,
          289.58,
          289.26,
          289.37,
          292.4,
          293.06,
          295.86,
          294,
          293.64,
          290.76,
          290.47,
          291.5,
          293,
          295.66,
          296.43,
          298.8,
          298.46,
          296.82,
          297.19,
          298.61,
          299.31,
          300.65,
          300.75,
          299.71,
          297.74,
          298.83,
          297.17,
          297.9,
          300.03,
          301.44,
          300,
          302.01,
          301.46,
          300.72,
          297.43,
          294.84,
          292.62,
          283.82,
          287.8,
          287.97,
          293.62,
          291.62,
          288.07,
          292.55,
          283.9,
          284.65,
          288.85,
          292.33,
          290.09,
          292.45,
          292.36,
          284.85,
          288,
          286.87,
          288.89,
          292.58,
          292.45,
          290.74,
          294.04,
          297.82,
          298.05,
          298.2,
          298.13,
          300.25,
          301.29,
          301.09,
          300.16,
          300.92,
          301.1,
          301.08,
          298.28,
          298.21,
          295.87,
          297.62,
          297,
          295.4,
          296.77,
          293.24,
          288.06,
          290.42,
          294.35,
          293.08,
          288.53,
          291.27,
          293.24,
          296.28
         ],
         "yaxis": "y"
        }
       ],
       "layout": {
        "autosize": true,
        "legend": {
         "tracegroupgap": 0
        },
        "margin": {
         "t": 60
        },
        "template": {
         "data": {
          "bar": [
           {
            "error_x": {
             "color": "#2a3f5f"
            },
            "error_y": {
             "color": "#2a3f5f"
            },
            "marker": {
             "line": {
              "color": "#E5ECF6",
              "width": 0.5
             }
            },
            "type": "bar"
           }
          ],
          "barpolar": [
           {
            "marker": {
             "line": {
              "color": "#E5ECF6",
              "width": 0.5
             }
            },
            "type": "barpolar"
           }
          ],
          "carpet": [
           {
            "aaxis": {
             "endlinecolor": "#2a3f5f",
             "gridcolor": "white",
             "linecolor": "white",
             "minorgridcolor": "white",
             "startlinecolor": "#2a3f5f"
            },
            "baxis": {
             "endlinecolor": "#2a3f5f",
             "gridcolor": "white",
             "linecolor": "white",
             "minorgridcolor": "white",
             "startlinecolor": "#2a3f5f"
            },
            "type": "carpet"
           }
          ],
          "choropleth": [
           {
            "colorbar": {
             "outlinewidth": 0,
             "ticks": ""
            },
            "type": "choropleth"
           }
          ],
          "contour": [
           {
            "colorbar": {
             "outlinewidth": 0,
             "ticks": ""
            },
            "colorscale": [
             [
              0,
              "#0d0887"
             ],
             [
              0.1111111111111111,
              "#46039f"
             ],
             [
              0.2222222222222222,
              "#7201a8"
             ],
             [
              0.3333333333333333,
              "#9c179e"
             ],
             [
              0.4444444444444444,
              "#bd3786"
             ],
             [
              0.5555555555555556,
              "#d8576b"
             ],
             [
              0.6666666666666666,
              "#ed7953"
             ],
             [
              0.7777777777777778,
              "#fb9f3a"
             ],
             [
              0.8888888888888888,
              "#fdca26"
             ],
             [
              1,
              "#f0f921"
             ]
            ],
            "type": "contour"
           }
          ],
          "contourcarpet": [
           {
            "colorbar": {
             "outlinewidth": 0,
             "ticks": ""
            },
            "type": "contourcarpet"
           }
          ],
          "heatmap": [
           {
            "colorbar": {
             "outlinewidth": 0,
             "ticks": ""
            },
            "colorscale": [
             [
              0,
              "#0d0887"
             ],
             [
              0.1111111111111111,
              "#46039f"
             ],
             [
              0.2222222222222222,
              "#7201a8"
             ],
             [
              0.3333333333333333,
              "#9c179e"
             ],
             [
              0.4444444444444444,
              "#bd3786"
             ],
             [
              0.5555555555555556,
              "#d8576b"
             ],
             [
              0.6666666666666666,
              "#ed7953"
             ],
             [
              0.7777777777777778,
              "#fb9f3a"
             ],
             [
              0.8888888888888888,
              "#fdca26"
             ],
             [
              1,
              "#f0f921"
             ]
            ],
            "type": "heatmap"
           }
          ],
          "heatmapgl": [
           {
            "colorbar": {
             "outlinewidth": 0,
             "ticks": ""
            },
            "colorscale": [
             [
              0,
              "#0d0887"
             ],
             [
              0.1111111111111111,
              "#46039f"
             ],
             [
              0.2222222222222222,
              "#7201a8"
             ],
             [
              0.3333333333333333,
              "#9c179e"
             ],
             [
              0.4444444444444444,
              "#bd3786"
             ],
             [
              0.5555555555555556,
              "#d8576b"
             ],
             [
              0.6666666666666666,
              "#ed7953"
             ],
             [
              0.7777777777777778,
              "#fb9f3a"
             ],
             [
              0.8888888888888888,
              "#fdca26"
             ],
             [
              1,
              "#f0f921"
             ]
            ],
            "type": "heatmapgl"
           }
          ],
          "histogram": [
           {
            "marker": {
             "colorbar": {
              "outlinewidth": 0,
              "ticks": ""
             }
            },
            "type": "histogram"
           }
          ],
          "histogram2d": [
           {
            "colorbar": {
             "outlinewidth": 0,
             "ticks": ""
            },
            "colorscale": [
             [
              0,
              "#0d0887"
             ],
             [
              0.1111111111111111,
              "#46039f"
             ],
             [
              0.2222222222222222,
              "#7201a8"
             ],
             [
              0.3333333333333333,
              "#9c179e"
             ],
             [
              0.4444444444444444,
              "#bd3786"
             ],
             [
              0.5555555555555556,
              "#d8576b"
             ],
             [
              0.6666666666666666,
              "#ed7953"
             ],
             [
              0.7777777777777778,
              "#fb9f3a"
             ],
             [
              0.8888888888888888,
              "#fdca26"
             ],
             [
              1,
              "#f0f921"
             ]
            ],
            "type": "histogram2d"
           }
          ],
          "histogram2dcontour": [
           {
            "colorbar": {
             "outlinewidth": 0,
             "ticks": ""
            },
            "colorscale": [
             [
              0,
              "#0d0887"
             ],
             [
              0.1111111111111111,
              "#46039f"
             ],
             [
              0.2222222222222222,
              "#7201a8"
             ],
             [
              0.3333333333333333,
              "#9c179e"
             ],
             [
              0.4444444444444444,
              "#bd3786"
             ],
             [
              0.5555555555555556,
              "#d8576b"
             ],
             [
              0.6666666666666666,
              "#ed7953"
             ],
             [
              0.7777777777777778,
              "#fb9f3a"
             ],
             [
              0.8888888888888888,
              "#fdca26"
             ],
             [
              1,
              "#f0f921"
             ]
            ],
            "type": "histogram2dcontour"
           }
          ],
          "mesh3d": [
           {
            "colorbar": {
             "outlinewidth": 0,
             "ticks": ""
            },
            "type": "mesh3d"
           }
          ],
          "parcoords": [
           {
            "line": {
             "colorbar": {
              "outlinewidth": 0,
              "ticks": ""
             }
            },
            "type": "parcoords"
           }
          ],
          "scatter": [
           {
            "marker": {
             "colorbar": {
              "outlinewidth": 0,
              "ticks": ""
             }
            },
            "type": "scatter"
           }
          ],
          "scatter3d": [
           {
            "line": {
             "colorbar": {
              "outlinewidth": 0,
              "ticks": ""
             }
            },
            "marker": {
             "colorbar": {
              "outlinewidth": 0,
              "ticks": ""
             }
            },
            "type": "scatter3d"
           }
          ],
          "scattercarpet": [
           {
            "marker": {
             "colorbar": {
              "outlinewidth": 0,
              "ticks": ""
             }
            },
            "type": "scattercarpet"
           }
          ],
          "scattergeo": [
           {
            "marker": {
             "colorbar": {
              "outlinewidth": 0,
              "ticks": ""
             }
            },
            "type": "scattergeo"
           }
          ],
          "scattergl": [
           {
            "marker": {
             "colorbar": {
              "outlinewidth": 0,
              "ticks": ""
             }
            },
            "type": "scattergl"
           }
          ],
          "scattermapbox": [
           {
            "marker": {
             "colorbar": {
              "outlinewidth": 0,
              "ticks": ""
             }
            },
            "type": "scattermapbox"
           }
          ],
          "scatterpolar": [
           {
            "marker": {
             "colorbar": {
              "outlinewidth": 0,
              "ticks": ""
             }
            },
            "type": "scatterpolar"
           }
          ],
          "scatterpolargl": [
           {
            "marker": {
             "colorbar": {
              "outlinewidth": 0,
              "ticks": ""
             }
            },
            "type": "scatterpolargl"
           }
          ],
          "scatterternary": [
           {
            "marker": {
             "colorbar": {
              "outlinewidth": 0,
              "ticks": ""
             }
            },
            "type": "scatterternary"
           }
          ],
          "surface": [
           {
            "colorbar": {
             "outlinewidth": 0,
             "ticks": ""
            },
            "colorscale": [
             [
              0,
              "#0d0887"
             ],
             [
              0.1111111111111111,
              "#46039f"
             ],
             [
              0.2222222222222222,
              "#7201a8"
             ],
             [
              0.3333333333333333,
              "#9c179e"
             ],
             [
              0.4444444444444444,
              "#bd3786"
             ],
             [
              0.5555555555555556,
              "#d8576b"
             ],
             [
              0.6666666666666666,
              "#ed7953"
             ],
             [
              0.7777777777777778,
              "#fb9f3a"
             ],
             [
              0.8888888888888888,
              "#fdca26"
             ],
             [
              1,
              "#f0f921"
             ]
            ],
            "type": "surface"
           }
          ],
          "table": [
           {
            "cells": {
             "fill": {
              "color": "#EBF0F8"
             },
             "line": {
              "color": "white"
             }
            },
            "header": {
             "fill": {
              "color": "#C8D4E3"
             },
             "line": {
              "color": "white"
             }
            },
            "type": "table"
           }
          ]
         },
         "layout": {
          "annotationdefaults": {
           "arrowcolor": "#2a3f5f",
           "arrowhead": 0,
           "arrowwidth": 1
          },
          "colorscale": {
           "diverging": [
            [
             0,
             "#8e0152"
            ],
            [
             0.1,
             "#c51b7d"
            ],
            [
             0.2,
             "#de77ae"
            ],
            [
             0.3,
             "#f1b6da"
            ],
            [
             0.4,
             "#fde0ef"
            ],
            [
             0.5,
             "#f7f7f7"
            ],
            [
             0.6,
             "#e6f5d0"
            ],
            [
             0.7,
             "#b8e186"
            ],
            [
             0.8,
             "#7fbc41"
            ],
            [
             0.9,
             "#4d9221"
            ],
            [
             1,
             "#276419"
            ]
           ],
           "sequential": [
            [
             0,
             "#0d0887"
            ],
            [
             0.1111111111111111,
             "#46039f"
            ],
            [
             0.2222222222222222,
             "#7201a8"
            ],
            [
             0.3333333333333333,
             "#9c179e"
            ],
            [
             0.4444444444444444,
             "#bd3786"
            ],
            [
             0.5555555555555556,
             "#d8576b"
            ],
            [
             0.6666666666666666,
             "#ed7953"
            ],
            [
             0.7777777777777778,
             "#fb9f3a"
            ],
            [
             0.8888888888888888,
             "#fdca26"
            ],
            [
             1,
             "#f0f921"
            ]
           ],
           "sequentialminus": [
            [
             0,
             "#0d0887"
            ],
            [
             0.1111111111111111,
             "#46039f"
            ],
            [
             0.2222222222222222,
             "#7201a8"
            ],
            [
             0.3333333333333333,
             "#9c179e"
            ],
            [
             0.4444444444444444,
             "#bd3786"
            ],
            [
             0.5555555555555556,
             "#d8576b"
            ],
            [
             0.6666666666666666,
             "#ed7953"
            ],
            [
             0.7777777777777778,
             "#fb9f3a"
            ],
            [
             0.8888888888888888,
             "#fdca26"
            ],
            [
             1,
             "#f0f921"
            ]
           ]
          },
          "colorway": [
           "#636efa",
           "#EF553B",
           "#00cc96",
           "#ab63fa",
           "#FFA15A",
           "#19d3f3",
           "#FF6692",
           "#B6E880",
           "#FF97FF",
           "#FECB52"
          ],
          "font": {
           "color": "#2a3f5f"
          },
          "geo": {
           "bgcolor": "white",
           "lakecolor": "white",
           "landcolor": "#E5ECF6",
           "showlakes": true,
           "showland": true,
           "subunitcolor": "white"
          },
          "hoverlabel": {
           "align": "left"
          },
          "hovermode": "closest",
          "mapbox": {
           "style": "light"
          },
          "paper_bgcolor": "white",
          "plot_bgcolor": "#E5ECF6",
          "polar": {
           "angularaxis": {
            "gridcolor": "white",
            "linecolor": "white",
            "ticks": ""
           },
           "bgcolor": "#E5ECF6",
           "radialaxis": {
            "gridcolor": "white",
            "linecolor": "white",
            "ticks": ""
           }
          },
          "scene": {
           "xaxis": {
            "backgroundcolor": "#E5ECF6",
            "gridcolor": "white",
            "gridwidth": 2,
            "linecolor": "white",
            "showbackground": true,
            "ticks": "",
            "zerolinecolor": "white"
           },
           "yaxis": {
            "backgroundcolor": "#E5ECF6",
            "gridcolor": "white",
            "gridwidth": 2,
            "linecolor": "white",
            "showbackground": true,
            "ticks": "",
            "zerolinecolor": "white"
           },
           "zaxis": {
            "backgroundcolor": "#E5ECF6",
            "gridcolor": "white",
            "gridwidth": 2,
            "linecolor": "white",
            "showbackground": true,
            "ticks": "",
            "zerolinecolor": "white"
           }
          },
          "shapedefaults": {
           "line": {
            "color": "#2a3f5f"
           }
          },
          "ternary": {
           "aaxis": {
            "gridcolor": "white",
            "linecolor": "white",
            "ticks": ""
           },
           "baxis": {
            "gridcolor": "white",
            "linecolor": "white",
            "ticks": ""
           },
           "bgcolor": "#E5ECF6",
           "caxis": {
            "gridcolor": "white",
            "linecolor": "white",
            "ticks": ""
           }
          },
          "title": {
           "x": 0.05
          },
          "xaxis": {
           "automargin": true,
           "gridcolor": "white",
           "linecolor": "white",
           "ticks": "",
           "zerolinecolor": "white",
           "zerolinewidth": 2
          },
          "yaxis": {
           "automargin": true,
           "gridcolor": "white",
           "linecolor": "white",
           "ticks": "",
           "zerolinecolor": "white",
           "zerolinewidth": 2
          }
         }
        },
        "xaxis": {
         "anchor": "y",
         "autorange": true,
         "domain": [
          0,
          0.98
         ],
         "range": [
          "2016-01-04",
          "2019-10-11"
         ],
         "title": {
          "text": "date"
         },
         "type": "date"
        },
        "yaxis": {
         "anchor": "x",
         "autorange": true,
         "domain": [
          0,
          1
         ],
         "range": [
          176.24055555555557,
          308.62944444444446
         ],
         "title": {
          "text": "close"
         },
         "type": "linear"
        }
       }
      },
      "image/png": "[encoded data removed]",
      "text/html": [
       "<div>\n",
       "        \n",
       "        \n",
       "            <div id=\"ef64fbc3-434b-4a4b-bd82-22ece3db2fbc\" class=\"plotly-graph-div\" style=\"height:600px; width:100%;\"></div>\n",
       "            <script type=\"text/javascript\">\n",
       "                require([\"plotly\"], function(Plotly) {\n",
       "                    window.PLOTLYENV=window.PLOTLYENV || {};\n",
       "                    \n",
       "                if (document.getElementById(\"ef64fbc3-434b-4a4b-bd82-22ece3db2fbc\")) {\n",
       "                    Plotly.newPlot(\n",
       "                        'ef64fbc3-434b-4a4b-bd82-22ece3db2fbc',\n",
       "                        [{\"hoverlabel\": {\"namelength\": 0}, \"hovertemplate\": \"date=%{x}<br>close=%{y}\", \"legendgroup\": \"\", \"line\": {\"color\": \"#636efa\", \"dash\": \"solid\"}, \"mode\": \"lines\", \"name\": \"\", \"showlegend\": false, \"type\": \"scatter\", \"x\": [\"2016-01-04T00:00:00\", \"2016-01-05T00:00:00\", \"2016-01-06T00:00:00\", \"2016-01-07T00:00:00\", \"2016-01-08T00:00:00\", \"2016-01-11T00:00:00\", \"2016-01-12T00:00:00\", \"2016-01-13T00:00:00\", \"2016-01-14T00:00:00\", \"2016-01-15T00:00:00\", \"2016-01-19T00:00:00\", \"2016-01-20T00:00:00\", \"2016-01-21T00:00:00\", \"2016-01-22T00:00:00\", \"2016-01-25T00:00:00\", \"2016-01-26T00:00:00\", \"2016-01-27T00:00:00\", \"2016-01-28T00:00:00\", \"2016-01-29T00:00:00\", \"2016-02-01T00:00:00\", \"2016-02-02T00:00:00\", \"2016-02-03T00:00:00\", \"2016-02-04T00:00:00\", \"2016-02-05T00:00:00\", \"2016-02-08T00:00:00\", \"2016-02-09T00:00:00\", \"2016-02-10T00:00:00\", \"2016-02-11T00:00:00\", \"2016-02-12T00:00:00\", \"2016-02-16T00:00:00\", \"2016-02-17T00:00:00\", \"2016-02-18T00:00:00\", \"2016-02-19T00:00:00\", \"2016-02-22T00:00:00\", \"2016-02-23T00:00:00\", \"2016-02-24T00:00:00\", \"2016-02-25T00:00:00\", \"2016-02-26T00:00:00\", \"2016-02-29T00:00:00\", \"2016-03-01T00:00:00\", \"2016-03-02T00:00:00\", \"2016-03-03T00:00:00\", \"2016-03-04T00:00:00\", \"2016-03-07T00:00:00\", \"2016-03-08T00:00:00\", \"2016-03-09T00:00:00\", \"2016-03-10T00:00:00\", \"2016-03-11T00:00:00\", \"2016-03-14T00:00:00\", \"2016-03-15T00:00:00\", \"2016-03-16T00:00:00\", \"2016-03-17T00:00:00\", \"2016-03-18T00:00:00\", \"2016-03-21T00:00:00\", \"2016-03-22T00:00:00\", \"2016-03-23T00:00:00\", \"2016-03-24T00:00:00\", \"2016-03-28T00:00:00\", \"2016-03-29T00:00:00\", \"2016-03-30T00:00:00\", \"2016-03-31T00:00:00\", \"2016-04-01T00:00:00\", \"2016-04-04T00:00:00\", \"2016-04-05T00:00:00\", \"2016-04-06T00:00:00\", \"2016-04-07T00:00:00\", \"2016-04-08T00:00:00\", \"2016-04-11T00:00:00\", \"2016-04-12T00:00:00\", \"2016-04-13T00:00:00\", \"2016-04-14T00:00:00\", \"2016-04-15T00:00:00\", \"2016-04-18T00:00:00\", \"2016-04-19T00:00:00\", \"2016-04-20T00:00:00\", \"2016-04-21T00:00:00\", \"2016-04-22T00:00:00\", \"2016-04-25T00:00:00\", \"2016-04-26T00:00:00\", \"2016-04-27T00:00:00\", \"2016-04-28T00:00:00\", \"2016-04-29T00:00:00\", \"2016-05-02T00:00:00\", \"2016-05-03T00:00:00\", \"2016-05-04T00:00:00\", \"2016-05-05T00:00:00\", \"2016-05-06T00:00:00\", \"2016-05-09T00:00:00\", \"2016-05-10T00:00:00\", \"2016-05-11T00:00:00\", \"2016-05-12T00:00:00\", \"2016-05-13T00:00:00\", \"2016-05-16T00:00:00\", \"2016-05-17T00:00:00\", \"2016-05-18T00:00:00\", \"2016-05-19T00:00:00\", \"2016-05-20T00:00:00\", \"2016-05-23T00:00:00\", \"2016-05-24T00:00:00\", \"2016-05-25T00:00:00\", \"2016-05-26T00:00:00\", \"2016-05-27T00:00:00\", \"2016-05-31T00:00:00\", \"2016-06-01T00:00:00\", \"2016-06-02T00:00:00\", \"2016-06-03T00:00:00\", \"2016-06-06T00:00:00\", \"2016-06-07T00:00:00\", \"2016-06-08T00:00:00\", \"2016-06-09T00:00:00\", \"2016-06-10T00:00:00\", \"2016-06-13T00:00:00\", \"2016-06-14T00:00:00\", \"2016-06-15T00:00:00\", \"2016-06-16T00:00:00\", \"2016-06-17T00:00:00\", \"2016-06-20T00:00:00\", \"2016-06-21T00:00:00\", \"2016-06-22T00:00:00\", \"2016-06-23T00:00:00\", \"2016-06-24T00:00:00\", \"2016-06-27T00:00:00\", \"2016-06-28T00:00:00\", \"2016-06-29T00:00:00\", \"2016-06-30T00:00:00\", \"2016-07-01T00:00:00\", \"2016-07-05T00:00:00\", \"2016-07-06T00:00:00\", \"2016-07-07T00:00:00\", \"2016-07-08T00:00:00\", \"2016-07-11T00:00:00\", \"2016-07-12T00:00:00\", \"2016-07-13T00:00:00\", \"2016-07-14T00:00:00\", \"2016-07-15T00:00:00\", \"2016-07-18T00:00:00\", \"2016-07-19T00:00:00\", \"2016-07-20T00:00:00\", \"2016-07-21T00:00:00\", \"2016-07-22T00:00:00\", \"2016-07-25T00:00:00\", \"2016-07-26T00:00:00\", \"2016-07-27T00:00:00\", \"2016-07-28T00:00:00\", \"2016-07-29T00:00:00\", \"2016-08-01T00:00:00\", \"2016-08-02T00:00:00\", \"2016-08-03T00:00:00\", \"2016-08-04T00:00:00\", \"2016-08-05T00:00:00\", \"2016-08-08T00:00:00\", \"2016-08-09T00:00:00\", \"2016-08-10T00:00:00\", \"2016-08-11T00:00:00\", \"2016-08-12T00:00:00\", \"2016-08-15T00:00:00\", \"2016-08-16T00:00:00\", \"2016-08-17T00:00:00\", \"2016-08-18T00:00:00\", \"2016-08-19T00:00:00\", \"2016-08-22T00:00:00\", \"2016-08-23T00:00:00\", \"2016-08-24T00:00:00\", \"2016-08-25T00:00:00\", \"2016-08-26T00:00:00\", \"2016-08-29T00:00:00\", \"2016-08-30T00:00:00\", \"2016-08-31T00:00:00\", \"2016-09-01T00:00:00\", \"2016-09-02T00:00:00\", \"2016-09-06T00:00:00\", \"2016-09-07T00:00:00\", \"2016-09-08T00:00:00\", \"2016-09-09T00:00:00\", \"2016-09-12T00:00:00\", \"2016-09-13T00:00:00\", \"2016-09-14T00:00:00\", \"2016-09-15T00:00:00\", \"2016-09-16T00:00:00\", \"2016-09-19T00:00:00\", \"2016-09-20T00:00:00\", \"2016-09-21T00:00:00\", \"2016-09-22T00:00:00\", \"2016-09-23T00:00:00\", \"2016-09-26T00:00:00\", \"2016-09-27T00:00:00\", \"2016-09-28T00:00:00\", \"2016-09-29T00:00:00\", \"2016-09-30T00:00:00\", \"2016-10-03T00:00:00\", \"2016-10-04T00:00:00\", \"2016-10-05T00:00:00\", \"2016-10-06T00:00:00\", \"2016-10-07T00:00:00\", \"2016-10-10T00:00:00\", \"2016-10-11T00:00:00\", \"2016-10-12T00:00:00\", \"2016-10-13T00:00:00\", \"2016-10-14T00:00:00\", \"2016-10-17T00:00:00\", \"2016-10-18T00:00:00\", \"2016-10-19T00:00:00\", \"2016-10-20T00:00:00\", \"2016-10-21T00:00:00\", \"2016-10-24T00:00:00\", \"2016-10-25T00:00:00\", \"2016-10-26T00:00:00\", \"2016-10-27T00:00:00\", \"2016-10-28T00:00:00\", \"2016-10-31T00:00:00\", \"2016-11-01T00:00:00\", \"2016-11-02T00:00:00\", \"2016-11-03T00:00:00\", \"2016-11-04T00:00:00\", \"2016-11-07T00:00:00\", \"2016-11-08T00:00:00\", \"2016-11-09T00:00:00\", \"2016-11-10T00:00:00\", \"2016-11-11T00:00:00\", \"2016-11-14T00:00:00\", \"2016-11-15T00:00:00\", \"2016-11-16T00:00:00\", \"2016-11-17T00:00:00\", \"2016-11-18T00:00:00\", \"2016-11-21T00:00:00\", \"2016-11-22T00:00:00\", \"2016-11-23T00:00:00\", \"2016-11-25T00:00:00\", \"2016-11-28T00:00:00\", \"2016-11-29T00:00:00\", \"2016-11-30T00:00:00\", \"2016-12-01T00:00:00\", \"2016-12-02T00:00:00\", \"2016-12-05T00:00:00\", \"2016-12-06T00:00:00\", \"2016-12-07T00:00:00\", \"2016-12-08T00:00:00\", \"2016-12-09T00:00:00\", \"2016-12-12T00:00:00\", \"2016-12-13T00:00:00\", \"2016-12-14T00:00:00\", \"2016-12-15T00:00:00\", \"2016-12-16T00:00:00\", \"2016-12-19T00:00:00\", \"2016-12-20T00:00:00\", \"2016-12-21T00:00:00\", \"2016-12-22T00:00:00\", \"2016-12-23T00:00:00\", \"2016-12-27T00:00:00\", \"2016-12-28T00:00:00\", \"2016-12-29T00:00:00\", \"2016-12-30T00:00:00\", \"2017-01-03T00:00:00\", \"2017-01-04T00:00:00\", \"2017-01-05T00:00:00\", \"2017-01-06T00:00:00\", \"2017-01-09T00:00:00\", \"2017-01-10T00:00:00\", \"2017-01-11T00:00:00\", \"2017-01-12T00:00:00\", \"2017-01-13T00:00:00\", \"2017-01-17T00:00:00\", \"2017-01-18T00:00:00\", \"2017-01-19T00:00:00\", \"2017-01-20T00:00:00\", \"2017-01-23T00:00:00\", \"2017-01-24T00:00:00\", \"2017-01-25T00:00:00\", \"2017-01-26T00:00:00\", \"2017-01-27T00:00:00\", \"2017-01-30T00:00:00\", \"2017-01-31T00:00:00\", \"2017-02-01T00:00:00\", \"2017-02-02T00:00:00\", \"2017-02-03T00:00:00\", \"2017-02-06T00:00:00\", \"2017-02-07T00:00:00\", \"2017-02-08T00:00:00\", \"2017-02-09T00:00:00\", \"2017-02-10T00:00:00\", \"2017-02-13T00:00:00\", \"2017-02-14T00:00:00\", \"2017-02-15T00:00:00\", \"2017-02-16T00:00:00\", \"2017-02-17T00:00:00\", \"2017-02-21T00:00:00\", \"2017-02-22T00:00:00\", \"2017-02-23T00:00:00\", \"2017-02-24T00:00:00\", \"2017-02-27T00:00:00\", \"2017-02-28T00:00:00\", \"2017-03-01T00:00:00\", \"2017-03-02T00:00:00\", \"2017-03-03T00:00:00\", \"2017-03-06T00:00:00\", \"2017-03-07T00:00:00\", \"2017-03-08T00:00:00\", \"2017-03-09T00:00:00\", \"2017-03-10T00:00:00\", \"2017-03-13T00:00:00\", \"2017-03-14T00:00:00\", \"2017-03-15T00:00:00\", \"2017-03-16T00:00:00\", \"2017-03-17T00:00:00\", \"2017-03-20T00:00:00\", \"2017-03-21T00:00:00\", \"2017-03-22T00:00:00\", \"2017-03-23T00:00:00\", \"2017-03-24T00:00:00\", \"2017-03-27T00:00:00\", \"2017-03-28T00:00:00\", \"2017-03-29T00:00:00\", \"2017-03-30T00:00:00\", \"2017-03-31T00:00:00\", \"2017-04-03T00:00:00\", \"2017-04-04T00:00:00\", \"2017-04-05T00:00:00\", \"2017-04-06T00:00:00\", \"2017-04-07T00:00:00\", \"2017-04-10T00:00:00\", \"2017-04-11T00:00:00\", \"2017-04-12T00:00:00\", \"2017-04-13T00:00:00\", \"2017-04-17T00:00:00\", \"2017-04-18T00:00:00\", \"2017-04-19T00:00:00\", \"2017-04-20T00:00:00\", \"2017-04-21T00:00:00\", \"2017-04-24T00:00:00\", \"2017-04-25T00:00:00\", \"2017-04-26T00:00:00\", \"2017-04-27T00:00:00\", \"2017-04-28T00:00:00\", \"2017-05-01T00:00:00\", \"2017-05-02T00:00:00\", \"2017-05-03T00:00:00\", \"2017-05-04T00:00:00\", \"2017-05-05T00:00:00\", \"2017-05-08T00:00:00\", \"2017-05-09T00:00:00\", \"2017-05-10T00:00:00\", \"2017-05-11T00:00:00\", \"2017-05-12T00:00:00\", \"2017-05-15T00:00:00\", \"2017-05-16T00:00:00\", \"2017-05-17T00:00:00\", \"2017-05-18T00:00:00\", \"2017-05-19T00:00:00\", \"2017-05-22T00:00:00\", \"2017-05-23T00:00:00\", \"2017-05-24T00:00:00\", \"2017-05-25T00:00:00\", \"2017-05-26T00:00:00\", \"2017-05-30T00:00:00\", \"2017-05-31T00:00:00\", \"2017-06-01T00:00:00\", \"2017-06-02T00:00:00\", \"2017-06-05T00:00:00\", \"2017-06-06T00:00:00\", \"2017-06-07T00:00:00\", \"2017-06-08T00:00:00\", \"2017-06-09T00:00:00\", \"2017-06-12T00:00:00\", \"2017-06-13T00:00:00\", \"2017-06-14T00:00:00\", \"2017-06-15T00:00:00\", \"2017-06-16T00:00:00\", \"2017-06-19T00:00:00\", \"2017-06-20T00:00:00\", \"2017-06-21T00:00:00\", \"2017-06-22T00:00:00\", \"2017-06-23T00:00:00\", \"2017-06-26T00:00:00\", \"2017-06-27T00:00:00\", \"2017-06-28T00:00:00\", \"2017-06-29T00:00:00\", \"2017-06-30T00:00:00\", \"2017-07-03T00:00:00\", \"2017-07-05T00:00:00\", \"2017-07-06T00:00:00\", \"2017-07-07T00:00:00\", \"2017-07-10T00:00:00\", \"2017-07-11T00:00:00\", \"2017-07-12T00:00:00\", \"2017-07-13T00:00:00\", \"2017-07-14T00:00:00\", \"2017-07-17T00:00:00\", \"2017-07-18T00:00:00\", \"2017-07-19T00:00:00\", \"2017-07-20T00:00:00\", \"2017-07-21T00:00:00\", \"2017-07-24T00:00:00\", \"2017-07-25T00:00:00\", \"2017-07-26T00:00:00\", \"2017-07-27T00:00:00\", \"2017-07-28T00:00:00\", \"2017-07-31T00:00:00\", \"2017-08-01T00:00:00\", \"2017-08-02T00:00:00\", \"2017-08-03T00:00:00\", \"2017-08-04T00:00:00\", \"2017-08-07T00:00:00\", \"2017-08-08T00:00:00\", \"2017-08-09T00:00:00\", \"2017-08-10T00:00:00\", \"2017-08-11T00:00:00\", \"2017-08-14T00:00:00\", \"2017-08-15T00:00:00\", \"2017-08-16T00:00:00\", \"2017-08-17T00:00:00\", \"2017-08-18T00:00:00\", \"2017-08-21T00:00:00\", \"2017-08-22T00:00:00\", \"2017-08-23T00:00:00\", \"2017-08-24T00:00:00\", \"2017-08-25T00:00:00\", \"2017-08-28T00:00:00\", \"2017-08-29T00:00:00\", \"2017-08-30T00:00:00\", \"2017-08-31T00:00:00\", \"2017-09-01T00:00:00\", \"2017-09-05T00:00:00\", \"2017-09-06T00:00:00\", \"2017-09-07T00:00:00\", \"2017-09-08T00:00:00\", \"2017-09-11T00:00:00\", \"2017-09-12T00:00:00\", \"2017-09-13T00:00:00\", \"2017-09-14T00:00:00\", \"2017-09-15T00:00:00\", \"2017-09-18T00:00:00\", \"2017-09-19T00:00:00\", \"2017-09-20T00:00:00\", \"2017-09-21T00:00:00\", \"2017-09-22T00:00:00\", \"2017-09-25T00:00:00\", \"2017-09-26T00:00:00\", \"2017-09-27T00:00:00\", \"2017-09-28T00:00:00\", \"2017-09-29T00:00:00\", \"2017-10-02T00:00:00\", \"2017-10-03T00:00:00\", \"2017-10-04T00:00:00\", \"2017-10-05T00:00:00\", \"2017-10-06T00:00:00\", \"2017-10-09T00:00:00\", \"2017-10-10T00:00:00\", \"2017-10-11T00:00:00\", \"2017-10-12T00:00:00\", \"2017-10-13T00:00:00\", \"2017-10-16T00:00:00\", \"2017-10-17T00:00:00\", \"2017-10-18T00:00:00\", \"2017-10-19T00:00:00\", \"2017-10-20T00:00:00\", \"2017-10-23T00:00:00\", \"2017-10-24T00:00:00\", \"2017-10-25T00:00:00\", \"2017-10-26T00:00:00\", \"2017-10-27T00:00:00\", \"2017-10-30T00:00:00\", \"2017-10-31T00:00:00\", \"2017-11-01T00:00:00\", \"2017-11-02T00:00:00\", \"2017-11-03T00:00:00\", \"2017-11-06T00:00:00\", \"2017-11-07T00:00:00\", \"2017-11-08T00:00:00\", \"2017-11-09T00:00:00\", \"2017-11-10T00:00:00\", \"2017-11-13T00:00:00\", \"2017-11-14T00:00:00\", \"2017-11-15T00:00:00\", \"2017-11-16T00:00:00\", \"2017-11-17T00:00:00\", \"2017-11-20T00:00:00\", \"2017-11-21T00:00:00\", \"2017-11-22T00:00:00\", \"2017-11-24T00:00:00\", \"2017-11-27T00:00:00\", \"2017-11-28T00:00:00\", \"2017-11-29T00:00:00\", \"2017-11-30T00:00:00\", \"2017-12-01T00:00:00\", \"2017-12-04T00:00:00\", \"2017-12-05T00:00:00\", \"2017-12-06T00:00:00\", \"2017-12-07T00:00:00\", \"2017-12-08T00:00:00\", \"2017-12-11T00:00:00\", \"2017-12-12T00:00:00\", \"2017-12-13T00:00:00\", \"2017-12-14T00:00:00\", \"2017-12-15T00:00:00\", \"2017-12-18T00:00:00\", \"2017-12-19T00:00:00\", \"2017-12-20T00:00:00\", \"2017-12-21T00:00:00\", \"2017-12-22T00:00:00\", \"2017-12-26T00:00:00\", \"2017-12-27T00:00:00\", \"2017-12-28T00:00:00\", \"2017-12-29T00:00:00\", \"2018-01-02T00:00:00\", \"2018-01-03T00:00:00\", \"2018-01-04T00:00:00\", \"2018-01-05T00:00:00\", \"2018-01-08T00:00:00\", \"2018-01-09T00:00:00\", \"2018-01-10T00:00:00\", \"2018-01-11T00:00:00\", \"2018-01-12T00:00:00\", \"2018-01-16T00:00:00\", \"2018-01-17T00:00:00\", \"2018-01-18T00:00:00\", \"2018-01-19T00:00:00\", \"2018-01-22T00:00:00\", \"2018-01-23T00:00:00\", \"2018-01-24T00:00:00\", \"2018-01-25T00:00:00\", \"2018-01-26T00:00:00\", \"2018-01-29T00:00:00\", \"2018-01-30T00:00:00\", \"2018-01-31T00:00:00\", \"2018-02-01T00:00:00\", \"2018-02-02T00:00:00\", \"2018-02-05T00:00:00\", \"2018-02-06T00:00:00\", \"2018-02-07T00:00:00\", \"2018-02-08T00:00:00\", \"2018-02-09T00:00:00\", \"2018-02-12T00:00:00\", \"2018-02-13T00:00:00\", \"2018-02-14T00:00:00\", \"2018-02-15T00:00:00\", \"2018-02-16T00:00:00\", \"2018-02-20T00:00:00\", \"2018-02-21T00:00:00\", \"2018-02-22T00:00:00\", \"2018-02-23T00:00:00\", \"2018-02-26T00:00:00\", \"2018-02-27T00:00:00\", \"2018-02-28T00:00:00\", \"2018-03-01T00:00:00\", \"2018-03-02T00:00:00\", \"2018-03-05T00:00:00\", \"2018-03-06T00:00:00\", \"2018-03-07T00:00:00\", \"2018-03-08T00:00:00\", \"2018-03-09T00:00:00\", \"2018-03-12T00:00:00\", \"2018-03-13T00:00:00\", \"2018-03-14T00:00:00\", \"2018-03-15T00:00:00\", \"2018-03-16T00:00:00\", \"2018-03-19T00:00:00\", \"2018-03-20T00:00:00\", \"2018-03-21T00:00:00\", \"2018-03-22T00:00:00\", \"2018-03-23T00:00:00\", \"2018-03-26T00:00:00\", \"2018-03-27T00:00:00\", \"2018-03-28T00:00:00\", \"2018-03-29T00:00:00\", \"2018-04-02T00:00:00\", \"2018-04-03T00:00:00\", \"2018-04-04T00:00:00\", \"2018-04-05T00:00:00\", \"2018-04-06T00:00:00\", \"2018-04-09T00:00:00\", \"2018-04-10T00:00:00\", \"2018-04-11T00:00:00\", \"2018-04-12T00:00:00\", \"2018-04-13T00:00:00\", \"2018-04-16T00:00:00\", \"2018-04-17T00:00:00\", \"2018-04-18T00:00:00\", \"2018-04-19T00:00:00\", \"2018-04-20T00:00:00\", \"2018-04-23T00:00:00\", \"2018-04-24T00:00:00\", \"2018-04-25T00:00:00\", \"2018-04-26T00:00:00\", \"2018-04-27T00:00:00\", \"2018-04-30T00:00:00\", \"2018-05-01T00:00:00\", \"2018-05-02T00:00:00\", \"2018-05-03T00:00:00\", \"2018-05-04T00:00:00\", \"2018-05-07T00:00:00\", \"2018-05-08T00:00:00\", \"2018-05-09T00:00:00\", \"2018-05-10T00:00:00\", \"2018-05-11T00:00:00\", \"2018-05-14T00:00:00\", \"2018-05-15T00:00:00\", \"2018-05-16T00:00:00\", \"2018-05-17T00:00:00\", \"2018-05-18T00:00:00\", \"2018-05-21T00:00:00\", \"2018-05-22T00:00:00\", \"2018-05-23T00:00:00\", \"2018-05-24T00:00:00\", \"2018-05-25T00:00:00\", \"2018-05-29T00:00:00\", \"2018-05-30T00:00:00\", \"2018-05-31T00:00:00\", \"2018-06-01T00:00:00\", \"2018-06-04T00:00:00\", \"2018-06-05T00:00:00\", \"2018-06-06T00:00:00\", \"2018-06-07T00:00:00\", \"2018-06-08T00:00:00\", \"2018-06-11T00:00:00\", \"2018-06-12T00:00:00\", \"2018-06-13T00:00:00\", \"2018-06-14T00:00:00\", \"2018-06-15T00:00:00\", \"2018-06-18T00:00:00\", \"2018-06-19T00:00:00\", \"2018-06-20T00:00:00\", \"2018-06-21T00:00:00\", \"2018-06-22T00:00:00\", \"2018-06-25T00:00:00\", \"2018-06-26T00:00:00\", \"2018-06-27T00:00:00\", \"2018-06-28T00:00:00\", \"2018-06-29T00:00:00\", \"2018-07-02T00:00:00\", \"2018-07-03T00:00:00\", \"2018-07-05T00:00:00\", \"2018-07-06T00:00:00\", \"2018-07-09T00:00:00\", \"2018-07-10T00:00:00\", \"2018-07-11T00:00:00\", \"2018-07-12T00:00:00\", \"2018-07-13T00:00:00\", \"2018-07-16T00:00:00\", \"2018-07-17T00:00:00\", \"2018-07-18T00:00:00\", \"2018-07-19T00:00:00\", \"2018-07-20T00:00:00\", \"2018-07-23T00:00:00\", \"2018-07-24T00:00:00\", \"2018-07-25T00:00:00\", \"2018-07-26T00:00:00\", \"2018-07-27T00:00:00\", \"2018-07-30T00:00:00\", \"2018-07-31T00:00:00\", \"2018-08-01T00:00:00\", \"2018-08-02T00:00:00\", \"2018-08-03T00:00:00\", \"2018-08-06T00:00:00\", \"2018-08-07T00:00:00\", \"2018-08-08T00:00:00\", \"2018-08-09T00:00:00\", \"2018-08-10T00:00:00\", \"2018-08-13T00:00:00\", \"2018-08-14T00:00:00\", \"2018-08-15T00:00:00\", \"2018-08-16T00:00:00\", \"2018-08-17T00:00:00\", \"2018-08-20T00:00:00\", \"2018-08-21T00:00:00\", \"2018-08-22T00:00:00\", \"2018-08-23T00:00:00\", \"2018-08-24T00:00:00\", \"2018-08-27T00:00:00\", \"2018-08-28T00:00:00\", \"2018-08-29T00:00:00\", \"2018-08-30T00:00:00\", \"2018-08-31T00:00:00\", \"2018-09-04T00:00:00\", \"2018-09-05T00:00:00\", \"2018-09-06T00:00:00\", \"2018-09-07T00:00:00\", \"2018-09-10T00:00:00\", \"2018-09-11T00:00:00\", \"2018-09-12T00:00:00\", \"2018-09-13T00:00:00\", \"2018-09-14T00:00:00\", \"2018-09-17T00:00:00\", \"2018-09-18T00:00:00\", \"2018-09-19T00:00:00\", \"2018-09-20T00:00:00\", \"2018-09-21T00:00:00\", \"2018-09-24T00:00:00\", \"2018-09-25T00:00:00\", \"2018-09-26T00:00:00\", \"2018-09-27T00:00:00\", \"2018-09-28T00:00:00\", \"2018-10-01T00:00:00\", \"2018-10-02T00:00:00\", \"2018-10-03T00:00:00\", \"2018-10-04T00:00:00\", \"2018-10-05T00:00:00\", \"2018-10-08T00:00:00\", \"2018-10-09T00:00:00\", \"2018-10-10T00:00:00\", \"2018-10-11T00:00:00\", \"2018-10-12T00:00:00\", \"2018-10-15T00:00:00\", \"2018-10-16T00:00:00\", \"2018-10-17T00:00:00\", \"2018-10-18T00:00:00\", \"2018-10-19T00:00:00\", \"2018-10-22T00:00:00\", \"2018-10-23T00:00:00\", \"2018-10-24T00:00:00\", \"2018-10-25T00:00:00\", \"2018-10-26T00:00:00\", \"2018-10-29T00:00:00\", \"2018-10-30T00:00:00\", \"2018-10-31T00:00:00\", \"2018-11-01T00:00:00\", \"2018-11-02T00:00:00\", \"2018-11-05T00:00:00\", \"2018-11-06T00:00:00\", \"2018-11-07T00:00:00\", \"2018-11-08T00:00:00\", \"2018-11-09T00:00:00\", \"2018-11-12T00:00:00\", \"2018-11-13T00:00:00\", \"2018-11-14T00:00:00\", \"2018-11-15T00:00:00\", \"2018-11-16T00:00:00\", \"2018-11-19T00:00:00\", \"2018-11-20T00:00:00\", \"2018-11-21T00:00:00\", \"2018-11-23T00:00:00\", \"2018-11-26T00:00:00\", \"2018-11-27T00:00:00\", \"2018-11-28T00:00:00\", \"2018-11-29T00:00:00\", \"2018-11-30T00:00:00\", \"2018-12-03T00:00:00\", \"2018-12-04T00:00:00\", \"2018-12-06T00:00:00\", \"2018-12-07T00:00:00\", \"2018-12-10T00:00:00\", \"2018-12-11T00:00:00\", \"2018-12-12T00:00:00\", \"2018-12-13T00:00:00\", \"2018-12-14T00:00:00\", \"2018-12-17T00:00:00\", \"2018-12-18T00:00:00\", \"2018-12-19T00:00:00\", \"2018-12-20T00:00:00\", \"2018-12-21T00:00:00\", \"2018-12-24T00:00:00\", \"2018-12-26T00:00:00\", \"2018-12-27T00:00:00\", \"2018-12-28T00:00:00\", \"2018-12-31T00:00:00\", \"2019-01-02T00:00:00\", \"2019-01-03T00:00:00\", \"2019-01-04T00:00:00\", \"2019-01-07T00:00:00\", \"2019-01-08T00:00:00\", \"2019-01-09T00:00:00\", \"2019-01-10T00:00:00\", \"2019-01-11T00:00:00\", \"2019-01-14T00:00:00\", \"2019-01-15T00:00:00\", \"2019-01-16T00:00:00\", \"2019-01-17T00:00:00\", \"2019-01-18T00:00:00\", \"2019-01-22T00:00:00\", \"2019-01-23T00:00:00\", \"2019-01-24T00:00:00\", \"2019-01-25T00:00:00\", \"2019-01-28T00:00:00\", \"2019-01-29T00:00:00\", \"2019-01-30T00:00:00\", \"2019-01-31T00:00:00\", \"2019-02-01T00:00:00\", \"2019-02-04T00:00:00\", \"2019-02-05T00:00:00\", \"2019-02-06T00:00:00\", \"2019-02-07T00:00:00\", \"2019-02-08T00:00:00\", \"2019-02-11T00:00:00\", \"2019-02-12T00:00:00\", \"2019-02-13T00:00:00\", \"2019-02-14T00:00:00\", \"2019-02-15T00:00:00\", \"2019-02-19T00:00:00\", \"2019-02-20T00:00:00\", \"2019-02-21T00:00:00\", \"2019-02-22T00:00:00\", \"2019-02-25T00:00:00\", \"2019-02-26T00:00:00\", \"2019-02-27T00:00:00\", \"2019-02-28T00:00:00\", \"2019-03-01T00:00:00\", \"2019-03-04T00:00:00\", \"2019-03-05T00:00:00\", \"2019-03-06T00:00:00\", \"2019-03-07T00:00:00\", \"2019-03-08T00:00:00\", \"2019-03-11T00:00:00\", \"2019-03-12T00:00:00\", \"2019-03-13T00:00:00\", \"2019-03-14T00:00:00\", \"2019-03-15T00:00:00\", \"2019-03-18T00:00:00\", \"2019-03-19T00:00:00\", \"2019-03-20T00:00:00\", \"2019-03-21T00:00:00\", \"2019-03-22T00:00:00\", \"2019-03-25T00:00:00\", \"2019-03-26T00:00:00\", \"2019-03-27T00:00:00\", \"2019-03-28T00:00:00\", \"2019-03-29T00:00:00\", \"2019-04-01T00:00:00\", \"2019-04-02T00:00:00\", \"2019-04-03T00:00:00\", \"2019-04-04T00:00:00\", \"2019-04-05T00:00:00\", \"2019-04-08T00:00:00\", \"2019-04-09T00:00:00\", \"2019-04-10T00:00:00\", \"2019-04-11T00:00:00\", \"2019-04-12T00:00:00\", \"2019-04-15T00:00:00\", \"2019-04-16T00:00:00\", \"2019-04-17T00:00:00\", \"2019-04-18T00:00:00\", \"2019-04-22T00:00:00\", \"2019-04-23T00:00:00\", \"2019-04-24T00:00:00\", \"2019-04-25T00:00:00\", \"2019-04-26T00:00:00\", \"2019-04-29T00:00:00\", \"2019-04-30T00:00:00\", \"2019-05-01T00:00:00\", \"2019-05-02T00:00:00\", \"2019-05-03T00:00:00\", \"2019-05-06T00:00:00\", \"2019-05-07T00:00:00\", \"2019-05-08T00:00:00\", \"2019-05-09T00:00:00\", \"2019-05-10T00:00:00\", \"2019-05-13T00:00:00\", \"2019-05-14T00:00:00\", \"2019-05-15T00:00:00\", \"2019-05-16T00:00:00\", \"2019-05-17T00:00:00\", \"2019-05-20T00:00:00\", \"2019-05-21T00:00:00\", \"2019-05-22T00:00:00\", \"2019-05-23T00:00:00\", \"2019-05-24T00:00:00\", \"2019-05-28T00:00:00\", \"2019-05-29T00:00:00\", \"2019-05-30T00:00:00\", \"2019-05-31T00:00:00\", \"2019-06-03T00:00:00\", \"2019-06-04T00:00:00\", \"2019-06-05T00:00:00\", \"2019-06-06T00:00:00\", \"2019-06-07T00:00:00\", \"2019-06-10T00:00:00\", \"2019-06-11T00:00:00\", \"2019-06-12T00:00:00\", \"2019-06-13T00:00:00\", \"2019-06-14T00:00:00\", \"2019-06-17T00:00:00\", \"2019-06-18T00:00:00\", \"2019-06-19T00:00:00\", \"2019-06-20T00:00:00\", \"2019-06-21T00:00:00\", \"2019-06-24T00:00:00\", \"2019-06-25T00:00:00\", \"2019-06-26T00:00:00\", \"2019-06-27T00:00:00\", \"2019-06-28T00:00:00\", \"2019-07-01T00:00:00\", \"2019-07-02T00:00:00\", \"2019-07-03T00:00:00\", \"2019-07-05T00:00:00\", \"2019-07-08T00:00:00\", \"2019-07-09T00:00:00\", \"2019-07-10T00:00:00\", \"2019-07-11T00:00:00\", \"2019-07-12T00:00:00\", \"2019-07-15T00:00:00\", \"2019-07-16T00:00:00\", \"2019-07-17T00:00:00\", \"2019-07-18T00:00:00\", \"2019-07-19T00:00:00\", \"2019-07-22T00:00:00\", \"2019-07-23T00:00:00\", \"2019-07-24T00:00:00\", \"2019-07-25T00:00:00\", \"2019-07-26T00:00:00\", \"2019-07-29T00:00:00\", \"2019-07-30T00:00:00\", \"2019-07-31T00:00:00\", \"2019-08-01T00:00:00\", \"2019-08-02T00:00:00\", \"2019-08-05T00:00:00\", \"2019-08-06T00:00:00\", \"2019-08-07T00:00:00\", \"2019-08-08T00:00:00\", \"2019-08-09T00:00:00\", \"2019-08-12T00:00:00\", \"2019-08-13T00:00:00\", \"2019-08-14T00:00:00\", \"2019-08-15T00:00:00\", \"2019-08-16T00:00:00\", \"2019-08-19T00:00:00\", \"2019-08-20T00:00:00\", \"2019-08-21T00:00:00\", \"2019-08-22T00:00:00\", \"2019-08-23T00:00:00\", \"2019-08-26T00:00:00\", \"2019-08-27T00:00:00\", \"2019-08-28T00:00:00\", \"2019-08-29T00:00:00\", \"2019-08-30T00:00:00\", \"2019-09-03T00:00:00\", \"2019-09-04T00:00:00\", \"2019-09-05T00:00:00\", \"2019-09-06T00:00:00\", \"2019-09-09T00:00:00\", \"2019-09-10T00:00:00\", \"2019-09-11T00:00:00\", \"2019-09-12T00:00:00\", \"2019-09-13T00:00:00\", \"2019-09-16T00:00:00\", \"2019-09-17T00:00:00\", \"2019-09-18T00:00:00\", \"2019-09-19T00:00:00\", \"2019-09-20T00:00:00\", \"2019-09-23T00:00:00\", \"2019-09-24T00:00:00\", \"2019-09-25T00:00:00\", \"2019-09-26T00:00:00\", \"2019-09-27T00:00:00\", \"2019-09-30T00:00:00\", \"2019-10-01T00:00:00\", \"2019-10-02T00:00:00\", \"2019-10-03T00:00:00\", \"2019-10-04T00:00:00\", \"2019-10-07T00:00:00\", \"2019-10-08T00:00:00\", \"2019-10-09T00:00:00\", \"2019-10-10T00:00:00\", \"2019-10-11T00:00:00\"], \"xaxis\": \"x\", \"y\": [201.02, 201.36, 198.82, 194.05, 191.92, 192.11, 193.66, 188.83, 191.93, 187.81, 188.06, 185.65, 186.69, 190.52, 187.64, 190.2, 188.13, 189.11, 193.72, 193.65, 190.16, 191.3, 191.6, 187.95, 185.42, 185.43, 185.27, 182.86, 186.63, 189.78, 192.88, 192.09, 192.0, 194.78, 192.32, 193.2, 195.54, 195.09, 193.56, 198.11, 199.0, 199.78, 200.43, 200.59, 198.4, 199.38, 199.54, 202.76, 202.5, 202.17, 203.34, 204.63, 204.38, 204.67, 204.56, 203.21, 203.12, 203.24, 205.12, 206.02, 205.52, 206.92, 206.25, 204.19, 206.42, 203.95, 204.5, 204.02, 205.92, 208.0, 208.01, 207.78, 209.24, 209.9, 210.1, 208.97, 208.97, 208.61, 208.92, 209.35, 207.45, 206.33, 207.97, 206.16, 205.01, 204.97, 205.72, 205.89, 208.45, 206.5, 206.56, 204.76, 206.78, 204.85, 204.91, 204.2, 205.49, 205.21, 207.87, 209.28, 209.34, 210.24, 209.84, 210.27, 210.91, 210.28, 211.35, 211.68, 212.37, 212.08, 210.07, 208.45, 208.04, 207.75, 208.37, 206.52, 207.85, 208.44, 208.1, 210.81, 203.13, 199.6, 203.2, 206.66, 209.48, 209.92, 208.41, 209.66, 209.53, 212.65, 213.4, 214.95, 214.92, 216.12, 215.83, 216.41, 216.19, 217.09, 216.27, 217.24, 216.65, 216.75, 216.52, 216.77, 217.12, 216.94, 215.55, 216.18, 216.41, 218.18, 218.05, 218.18, 217.64, 218.65, 218.46, 219.09, 217.96, 218.37, 218.86, 218.54, 218.53, 218.97, 217.85, 217.7, 217.29, 218.36, 218.0, 217.38, 217.39, 218.37, 219.03, 219.01, 218.51, 213.28, 216.34, 213.23, 213.15, 215.28, 213.37, 213.41, 213.42, 215.82, 217.18, 215.99, 214.24, 215.57, 216.64, 214.68, 216.3, 215.78, 214.68, 215.63, 215.78, 215.04, 216.16, 213.43, 213.71, 213.01, 213.12, 212.38, 213.71, 214.28, 213.88, 213.98, 214.89, 214.17, 213.74, 213.17, 212.54, 212.55, 211.01, 209.74, 208.78, 208.55, 213.15, 214.11, 216.38, 216.92, 216.42, 216.59, 218.28, 217.87, 218.99, 218.5, 220.15, 220.58, 220.7, 221.52, 220.48, 220.91, 220.38, 219.57, 219.68, 221.0, 221.7, 224.6, 225.15, 226.51, 226.25, 227.76, 225.88, 226.81, 225.04, 225.53, 226.4, 225.77, 225.38, 225.71, 226.27, 224.4, 224.35, 223.53, 225.24, 226.58, 226.4, 227.21, 226.46, 226.46, 227.1, 226.53, 227.05, 226.25, 226.75, 225.91, 226.74, 226.15, 227.6, 229.57, 229.33, 228.97, 227.55, 227.53, 227.62, 227.77, 229.34, 228.93, 228.94, 229.24, 230.6, 231.51, 232.77, 233.7, 234.92, 234.72, 235.09, 236.49, 236.28, 236.44, 236.74, 237.11, 236.47, 239.78, 238.27, 238.42, 237.71, 237.0, 236.56, 236.86, 237.69, 237.81, 236.9, 238.95, 238.48, 237.03, 236.77, 233.73, 234.28, 234.03, 233.86, 233.62, 235.32, 235.54, 236.29, 235.74, 235.33, 235.48, 234.78, 235.44, 235.2, 235.34, 235.06, 234.03, 232.51, 234.57, 233.87, 233.44, 235.34, 234.59, 237.17, 238.55, 238.4, 238.6, 238.08, 238.68, 238.77, 238.48, 238.76, 239.7, 239.66, 239.44, 239.87, 239.38, 238.98, 240.3, 240.08, 235.82, 236.77, 238.31, 239.52, 240.05, 240.61, 241.76, 241.71, 241.5, 241.44, 243.36, 244.17, 243.99, 243.21, 243.66, 243.78, 243.41, 243.36, 244.55, 244.24, 243.77, 242.64, 244.66, 243.01, 242.95, 242.84, 243.13, 243.29, 241.33, 243.49, 241.35, 241.8, 242.21, 242.77, 240.55, 242.11, 242.37, 242.19, 244.01, 244.42, 245.56, 245.53, 245.66, 246.99, 247.1, 246.88, 246.82, 247.42, 247.43, 247.2, 246.91, 246.77, 247.32, 247.44, 246.96, 247.41, 247.87, 247.26, 247.25, 243.76, 244.12, 246.54, 246.51, 246.94, 243.09, 242.71, 242.9, 245.44, 244.56, 243.99, 244.56, 244.57, 244.85, 246.01, 247.49, 247.84, 246.06, 246.9, 246.87, 246.58, 249.21, 250.05, 250.17, 250.09, 249.19, 249.72, 249.97, 250.06, 249.39, 249.44, 248.93, 249.08, 250.05, 250.35, 251.23, 252.32, 252.86, 253.16, 254.66, 254.37, 253.95, 254.62, 255.02, 254.64, 254.95, 255.29, 255.47, 255.72, 255.79, 257.11, 256.11, 256.56, 255.29, 255.62, 257.71, 256.75, 257.15, 257.49, 257.59, 258.45, 258.85, 258.67, 259.11, 258.17, 258.09, 258.33, 257.73, 256.44, 258.62, 257.86, 258.3, 259.99, 259.76, 260.36, 260.23, 262.87, 262.71, 265.01, 264.46, 264.14, 263.19, 263.24, 264.07, 265.51, 266.31, 266.78, 266.75, 265.66, 266.51, 268.2, 267.17, 267.03, 267.58, 267.51, 267.19, 267.32, 267.87, 266.86, 268.77, 270.47, 271.61, 273.42, 273.92, 274.54, 274.12, 276.12, 277.92, 276.97, 279.61, 279.14, 280.41, 282.69, 283.29, 283.18, 283.3, 286.58, 284.68, 281.76, 281.9, 281.58, 275.45, 263.93, 269.13, 267.67, 257.63, 261.5, 265.34, 266.0, 269.59, 273.03, 273.11, 271.4, 270.05, 270.4, 274.71, 277.9, 274.43, 271.65, 267.7, 269.08, 272.19, 272.88, 272.78, 274.1, 278.87, 278.52, 276.72, 275.3, 275.0, 274.2, 270.49, 270.95, 270.43, 263.67, 258.05, 265.11, 260.6, 259.83, 263.15, 257.47, 260.77, 263.56, 265.64, 259.72, 261.0, 265.15, 263.76, 265.93, 265.15, 267.33, 270.19, 270.39, 268.89, 266.61, 266.57, 262.98, 263.63, 266.31, 266.56, 264.51, 264.98, 263.2, 262.62, 266.02, 266.92, 266.92, 269.5, 272.02, 272.85, 272.98, 271.1, 272.24, 272.01, 271.33, 273.37, 272.61, 273.36, 272.8, 272.15, 269.02, 272.61, 270.94, 273.6, 274.9, 275.1, 277.4, 277.37, 278.19, 278.56, 278.92, 278.03, 278.73, 277.13, 276.56, 275.5, 275.97, 274.24, 274.74, 271.0, 271.6, 269.35, 270.89, 271.28, 271.86, 270.9, 273.11, 275.42, 277.9, 278.9, 276.86, 279.37, 279.59, 279.34, 280.47, 281.06, 280.0, 279.68, 280.2, 281.61, 284.01, 283.34, 281.42, 279.95, 281.33, 280.86, 282.39, 283.6, 284.64, 285.58, 285.46, 285.07, 283.16, 282.1, 283.9, 281.78, 284.06, 285.06, 285.67, 286.34, 286.17, 285.79, 287.51, 289.78, 289.92, 291.48, 290.3, 290.31, 289.81, 289.03, 288.16, 287.6, 288.1, 289.05, 289.12, 290.83, 290.88, 289.34, 290.91, 291.22, 293.58, 291.99, 291.02, 290.75, 289.88, 290.69, 290.72, 291.73, 291.56, 291.72, 289.44, 287.82, 287.82, 287.4, 278.3, 272.17, 275.95, 274.4, 280.4, 280.45, 276.4, 276.25, 275.01, 273.61, 265.32, 270.08, 265.33, 263.86, 267.77, 270.63, 273.51, 271.89, 273.39, 275.12, 281.01, 280.5, 277.76, 272.57, 272.06, 270.2, 273.02, 273.73, 269.1, 264.12, 265.02, 263.25, 267.5, 268.4, 274.58, 273.98, 275.65, 279.3, 270.25, 269.84, 263.57, 264.07, 264.13, 265.46, 265.37, 260.47, 255.36, 255.08, 251.26, 247.17, 240.7, 234.34, 246.18, 248.07, 247.75, 249.92, 250.18, 244.21, 252.39, 254.38, 256.77, 257.97, 258.88, 258.98, 257.4, 260.35, 260.98, 262.96, 266.46, 262.86, 263.41, 263.55, 265.78, 263.76, 263.41, 267.58, 269.93, 270.06, 271.96, 273.1, 272.74, 270.14, 270.47, 270.62, 274.1, 274.99, 274.38, 277.37, 277.85, 278.41, 277.42, 279.14, 279.52, 279.32, 279.2, 278.68, 280.42, 279.4, 279.02, 277.33, 275.01, 274.46, 278.44, 279.49, 281.34, 281.16, 281.31, 282.33, 282.4, 281.55, 284.73, 279.25, 279.04, 281.12, 279.65, 280.71, 282.48, 285.83, 285.97, 286.42, 287.18, 288.57, 288.79, 287.31, 288.29, 288.21, 290.16, 289.97, 290.16, 289.45, 290.02, 290.27, 292.88, 292.23, 292.05, 293.41, 293.87, 294.02, 291.81, 291.18, 294.03, 292.82, 287.93, 287.53, 286.66, 288.1, 280.86, 283.4, 285.06, 287.7, 285.84, 283.95, 286.51, 285.63, 282.14, 282.78, 280.15, 278.27, 279.03, 275.27, 274.57, 280.53, 282.96, 284.8, 287.65, 288.97, 288.9, 288.39, 289.58, 289.26, 289.37, 292.4, 293.06, 295.86, 294.0, 293.64, 290.76, 290.47, 291.5, 293.0, 295.66, 296.43, 298.8, 298.46, 296.82, 297.19, 298.61, 299.31, 300.65, 300.75, 299.71, 297.74, 298.83, 297.17, 297.9, 300.03, 301.44, 300.0, 302.01, 301.46, 300.72, 297.43, 294.84, 292.62, 283.82, 287.8, 287.97, 293.62, 291.62, 288.07, 292.55, 283.9, 284.65, 288.85, 292.33, 290.09, 292.45, 292.36, 284.85, 288.0, 286.87, 288.89, 292.58, 292.45, 290.74, 294.04, 297.82, 298.05, 298.2, 298.13, 300.25, 301.29, 301.09, 300.16, 300.92, 301.1, 301.08, 298.28, 298.21, 295.87, 297.62, 297.0, 295.4, 296.77, 293.24, 288.06, 290.42, 294.35, 293.08, 288.53, 291.27, 293.24, 296.28], \"yaxis\": \"y\"}],\n",
       "                        {\"height\": 600, \"legend\": {\"tracegroupgap\": 0}, \"margin\": {\"t\": 60}, \"template\": {\"data\": {\"bar\": [{\"error_x\": {\"color\": \"#2a3f5f\"}, \"error_y\": {\"color\": \"#2a3f5f\"}, \"marker\": {\"line\": {\"color\": \"#E5ECF6\", \"width\": 0.5}}, \"type\": \"bar\"}], \"barpolar\": [{\"marker\": {\"line\": {\"color\": \"#E5ECF6\", \"width\": 0.5}}, \"type\": \"barpolar\"}], \"carpet\": [{\"aaxis\": {\"endlinecolor\": \"#2a3f5f\", \"gridcolor\": \"white\", \"linecolor\": \"white\", \"minorgridcolor\": \"white\", \"startlinecolor\": \"#2a3f5f\"}, \"baxis\": {\"endlinecolor\": \"#2a3f5f\", \"gridcolor\": \"white\", \"linecolor\": \"white\", \"minorgridcolor\": \"white\", \"startlinecolor\": \"#2a3f5f\"}, \"type\": \"carpet\"}], \"choropleth\": [{\"colorbar\": {\"outlinewidth\": 0, \"ticks\": \"\"}, \"type\": \"choropleth\"}], \"contour\": [{\"colorbar\": {\"outlinewidth\": 0, \"ticks\": \"\"}, \"colorscale\": [[0.0, \"#0d0887\"], [0.1111111111111111, \"#46039f\"], [0.2222222222222222, \"#7201a8\"], [0.3333333333333333, \"#9c179e\"], [0.4444444444444444, \"#bd3786\"], [0.5555555555555556, \"#d8576b\"], [0.6666666666666666, \"#ed7953\"], [0.7777777777777778, \"#fb9f3a\"], [0.8888888888888888, \"#fdca26\"], [1.0, \"#f0f921\"]], \"type\": \"contour\"}], \"contourcarpet\": [{\"colorbar\": {\"outlinewidth\": 0, \"ticks\": \"\"}, \"type\": \"contourcarpet\"}], \"heatmap\": [{\"colorbar\": {\"outlinewidth\": 0, \"ticks\": \"\"}, \"colorscale\": [[0.0, \"#0d0887\"], [0.1111111111111111, \"#46039f\"], [0.2222222222222222, \"#7201a8\"], [0.3333333333333333, \"#9c179e\"], [0.4444444444444444, \"#bd3786\"], [0.5555555555555556, \"#d8576b\"], [0.6666666666666666, \"#ed7953\"], [0.7777777777777778, \"#fb9f3a\"], [0.8888888888888888, \"#fdca26\"], [1.0, \"#f0f921\"]], \"type\": \"heatmap\"}], \"heatmapgl\": [{\"colorbar\": {\"outlinewidth\": 0, \"ticks\": \"\"}, \"colorscale\": [[0.0, \"#0d0887\"], [0.1111111111111111, \"#46039f\"], [0.2222222222222222, \"#7201a8\"], [0.3333333333333333, \"#9c179e\"], [0.4444444444444444, \"#bd3786\"], [0.5555555555555556, \"#d8576b\"], [0.6666666666666666, \"#ed7953\"], [0.7777777777777778, \"#fb9f3a\"], [0.8888888888888888, \"#fdca26\"], [1.0, \"#f0f921\"]], \"type\": \"heatmapgl\"}], \"histogram\": [{\"marker\": {\"colorbar\": {\"outlinewidth\": 0, \"ticks\": \"\"}}, \"type\": \"histogram\"}], \"histogram2d\": [{\"colorbar\": {\"outlinewidth\": 0, \"ticks\": \"\"}, \"colorscale\": [[0.0, \"#0d0887\"], [0.1111111111111111, \"#46039f\"], [0.2222222222222222, \"#7201a8\"], [0.3333333333333333, \"#9c179e\"], [0.4444444444444444, \"#bd3786\"], [0.5555555555555556, \"#d8576b\"], [0.6666666666666666, \"#ed7953\"], [0.7777777777777778, \"#fb9f3a\"], [0.8888888888888888, \"#fdca26\"], [1.0, \"#f0f921\"]], \"type\": \"histogram2d\"}], \"histogram2dcontour\": [{\"colorbar\": {\"outlinewidth\": 0, \"ticks\": \"\"}, \"colorscale\": [[0.0, \"#0d0887\"], [0.1111111111111111, \"#46039f\"], [0.2222222222222222, \"#7201a8\"], [0.3333333333333333, \"#9c179e\"], [0.4444444444444444, \"#bd3786\"], [0.5555555555555556, \"#d8576b\"], [0.6666666666666666, \"#ed7953\"], [0.7777777777777778, \"#fb9f3a\"], [0.8888888888888888, \"#fdca26\"], [1.0, \"#f0f921\"]], \"type\": \"histogram2dcontour\"}], \"mesh3d\": [{\"colorbar\": {\"outlinewidth\": 0, \"ticks\": \"\"}, \"type\": \"mesh3d\"}], \"parcoords\": [{\"line\": {\"colorbar\": {\"outlinewidth\": 0, \"ticks\": \"\"}}, \"type\": \"parcoords\"}], \"scatter\": [{\"marker\": {\"colorbar\": {\"outlinewidth\": 0, \"ticks\": \"\"}}, \"type\": \"scatter\"}], \"scatter3d\": [{\"line\": {\"colorbar\": {\"outlinewidth\": 0, \"ticks\": \"\"}}, \"marker\": {\"colorbar\": {\"outlinewidth\": 0, \"ticks\": \"\"}}, \"type\": \"scatter3d\"}], \"scattercarpet\": [{\"marker\": {\"colorbar\": {\"outlinewidth\": 0, \"ticks\": \"\"}}, \"type\": \"scattercarpet\"}], \"scattergeo\": [{\"marker\": {\"colorbar\": {\"outlinewidth\": 0, \"ticks\": \"\"}}, \"type\": \"scattergeo\"}], \"scattergl\": [{\"marker\": {\"colorbar\": {\"outlinewidth\": 0, \"ticks\": \"\"}}, \"type\": \"scattergl\"}], \"scattermapbox\": [{\"marker\": {\"colorbar\": {\"outlinewidth\": 0, \"ticks\": \"\"}}, \"type\": \"scattermapbox\"}], \"scatterpolar\": [{\"marker\": {\"colorbar\": {\"outlinewidth\": 0, \"ticks\": \"\"}}, \"type\": \"scatterpolar\"}], \"scatterpolargl\": [{\"marker\": {\"colorbar\": {\"outlinewidth\": 0, \"ticks\": \"\"}}, \"type\": \"scatterpolargl\"}], \"scatterternary\": [{\"marker\": {\"colorbar\": {\"outlinewidth\": 0, \"ticks\": \"\"}}, \"type\": \"scatterternary\"}], \"surface\": [{\"colorbar\": {\"outlinewidth\": 0, \"ticks\": \"\"}, \"colorscale\": [[0.0, \"#0d0887\"], [0.1111111111111111, \"#46039f\"], [0.2222222222222222, \"#7201a8\"], [0.3333333333333333, \"#9c179e\"], [0.4444444444444444, \"#bd3786\"], [0.5555555555555556, \"#d8576b\"], [0.6666666666666666, \"#ed7953\"], [0.7777777777777778, \"#fb9f3a\"], [0.8888888888888888, \"#fdca26\"], [1.0, \"#f0f921\"]], \"type\": \"surface\"}], \"table\": [{\"cells\": {\"fill\": {\"color\": \"#EBF0F8\"}, \"line\": {\"color\": \"white\"}}, \"header\": {\"fill\": {\"color\": \"#C8D4E3\"}, \"line\": {\"color\": \"white\"}}, \"type\": \"table\"}]}, \"layout\": {\"annotationdefaults\": {\"arrowcolor\": \"#2a3f5f\", \"arrowhead\": 0, \"arrowwidth\": 1}, \"colorscale\": {\"diverging\": [[0, \"#8e0152\"], [0.1, \"#c51b7d\"], [0.2, \"#de77ae\"], [0.3, \"#f1b6da\"], [0.4, \"#fde0ef\"], [0.5, \"#f7f7f7\"], [0.6, \"#e6f5d0\"], [0.7, \"#b8e186\"], [0.8, \"#7fbc41\"], [0.9, \"#4d9221\"], [1, \"#276419\"]], \"sequential\": [[0.0, \"#0d0887\"], [0.1111111111111111, \"#46039f\"], [0.2222222222222222, \"#7201a8\"], [0.3333333333333333, \"#9c179e\"], [0.4444444444444444, \"#bd3786\"], [0.5555555555555556, \"#d8576b\"], [0.6666666666666666, \"#ed7953\"], [0.7777777777777778, \"#fb9f3a\"], [0.8888888888888888, \"#fdca26\"], [1.0, \"#f0f921\"]], \"sequentialminus\": [[0.0, \"#0d0887\"], [0.1111111111111111, \"#46039f\"], [0.2222222222222222, \"#7201a8\"], [0.3333333333333333, \"#9c179e\"], [0.4444444444444444, \"#bd3786\"], [0.5555555555555556, \"#d8576b\"], [0.6666666666666666, \"#ed7953\"], [0.7777777777777778, \"#fb9f3a\"], [0.8888888888888888, \"#fdca26\"], [1.0, \"#f0f921\"]]}, \"colorway\": [\"#636efa\", \"#EF553B\", \"#00cc96\", \"#ab63fa\", \"#FFA15A\", \"#19d3f3\", \"#FF6692\", \"#B6E880\", \"#FF97FF\", \"#FECB52\"], \"font\": {\"color\": \"#2a3f5f\"}, \"geo\": {\"bgcolor\": \"white\", \"lakecolor\": \"white\", \"landcolor\": \"#E5ECF6\", \"showlakes\": true, \"showland\": true, \"subunitcolor\": \"white\"}, \"hoverlabel\": {\"align\": \"left\"}, \"hovermode\": \"closest\", \"mapbox\": {\"style\": \"light\"}, \"paper_bgcolor\": \"white\", \"plot_bgcolor\": \"#E5ECF6\", \"polar\": {\"angularaxis\": {\"gridcolor\": \"white\", \"linecolor\": \"white\", \"ticks\": \"\"}, \"bgcolor\": \"#E5ECF6\", \"radialaxis\": {\"gridcolor\": \"white\", \"linecolor\": \"white\", \"ticks\": \"\"}}, \"scene\": {\"xaxis\": {\"backgroundcolor\": \"#E5ECF6\", \"gridcolor\": \"white\", \"gridwidth\": 2, \"linecolor\": \"white\", \"showbackground\": true, \"ticks\": \"\", \"zerolinecolor\": \"white\"}, \"yaxis\": {\"backgroundcolor\": \"#E5ECF6\", \"gridcolor\": \"white\", \"gridwidth\": 2, \"linecolor\": \"white\", \"showbackground\": true, \"ticks\": \"\", \"zerolinecolor\": \"white\"}, \"zaxis\": {\"backgroundcolor\": \"#E5ECF6\", \"gridcolor\": \"white\", \"gridwidth\": 2, \"linecolor\": \"white\", \"showbackground\": true, \"ticks\": \"\", \"zerolinecolor\": \"white\"}}, \"shapedefaults\": {\"line\": {\"color\": \"#2a3f5f\"}}, \"ternary\": {\"aaxis\": {\"gridcolor\": \"white\", \"linecolor\": \"white\", \"ticks\": \"\"}, \"baxis\": {\"gridcolor\": \"white\", \"linecolor\": \"white\", \"ticks\": \"\"}, \"bgcolor\": \"#E5ECF6\", \"caxis\": {\"gridcolor\": \"white\", \"linecolor\": \"white\", \"ticks\": \"\"}}, \"title\": {\"x\": 0.05}, \"xaxis\": {\"automargin\": true, \"gridcolor\": \"white\", \"linecolor\": \"white\", \"ticks\": \"\", \"zerolinecolor\": \"white\", \"zerolinewidth\": 2}, \"yaxis\": {\"automargin\": true, \"gridcolor\": \"white\", \"linecolor\": \"white\", \"ticks\": \"\", \"zerolinecolor\": \"white\", \"zerolinewidth\": 2}}}, \"xaxis\": {\"anchor\": \"y\", \"domain\": [0.0, 0.98], \"title\": {\"text\": \"date\"}}, \"yaxis\": {\"anchor\": \"x\", \"domain\": [0.0, 1.0], \"title\": {\"text\": \"close\"}}},\n",
       "                        {\"responsive\": true}\n",
       "                    ).then(function(){\n",
       "                            \n",
       "var gd = document.getElementById('ef64fbc3-434b-4a4b-bd82-22ece3db2fbc');\n",
       "var x = new MutationObserver(function (mutations, observer) {{\n",
       "        var display = window.getComputedStyle(gd).display;\n",
       "        if (!display || display === 'none') {{\n",
       "            console.log([gd, 'removed!']);\n",
       "            Plotly.purge(gd);\n",
       "            observer.disconnect();\n",
       "        }}\n",
       "}});\n",
       "\n",
       "// Listen for the removal of the full notebook cells\n",
       "var notebookContainer = gd.closest('#notebook-container');\n",
       "if (notebookContainer) {{\n",
       "    x.observe(notebookContainer, {childList: true});\n",
       "}}\n",
       "\n",
       "// Listen for the clearing of the current output cell\n",
       "var outputEl = gd.closest('.output');\n",
       "if (outputEl) {{\n",
       "    x.observe(outputEl, {childList: true});\n",
       "}}\n",
       "\n",
       "                        })\n",
       "                };\n",
       "                });\n",
       "            </script>\n",
       "        </div>"
      ]
     },
     "metadata": {},
     "output_type": "display_data"
    }
   ],
   "source": [
    "fig2 = px.line(df_spy, x=\"date\", y=\"close\")\n",
    "fig2.show()"
   ]
  },
  {
   "cell_type": "code",
   "execution_count": 76,
   "metadata": {},
   "outputs": [
    {
     "data": {
      "text/plain": [
       "(array([735964., 736146., 736330., 736511., 736695., 736876., 737060.,\n",
       "        737241.]), <a list of 8 Text xticklabel objects>)"
      ]
     },
     "execution_count": 76,
     "metadata": {},
     "output_type": "execute_result"
    },
    {
     "data": {
      "image/png": "[encoded data removed]",
      "text/plain": [
       "<Figure size 432x288 with 1 Axes>"
      ]
     },
     "metadata": {
      "needs_background": "light"
     },
     "output_type": "display_data"
    }
   ],
   "source": [
    "plt.plot(df_spy['date'], df_spy['close'])\n",
    "plt.xticks(rotation='vertical')"
   ]
  },
  {
   "cell_type": "code",
   "execution_count": 82,
   "metadata": {},
   "outputs": [
    {
     "data": {
      "image/png": "[encoded data removed]",
      "text/plain": [
       "<Figure size 432x288 with 2 Axes>"
      ]
     },
     "metadata": {
      "needs_background": "light"
     },
     "output_type": "display_data"
    }
   ],
   "source": [
    "import numpy as np\n",
    "import matplotlib.pyplot as plt\n",
    "\n",
    "# Create some mock data\n",
    "\n",
    "\n",
    "fig, ax1 = plt.subplots()\n",
    "\n",
    "color2 = 'tab:red'\n",
    "ax1.set_xlabel('time (s)')\n",
    "ax1.set_ylabel('S&P Price', color=color2)\n",
    "ax1.plot(df_spy['date'], df_spy['close'], color=color2)\n",
    "ax1.tick_params(axis='y', labelcolor=color2)\n",
    "\n",
    "ax2 = ax1.twinx()  # instantiate a second axes that shares the same x-axis\n",
    "\n",
    "color = 'tab:blue'\n",
    "ax2.set_ylabel('Sentiment', color=color)  # we already handled the x-label with ax1\n",
    "ax2.scatter(df_china['date'], df_china['Compound'])\n",
    "ax2.tick_params(axis='y', labelcolor=color)\n",
    "\n",
    "fig.tight_layout()  # otherwise the right y-label is slightly clipped\n",
    "plt.show()"
   ]
  },
  {
   "cell_type": "code",
   "execution_count": null,
   "metadata": {},
   "outputs": [],
   "source": []
  },
  {
   "cell_type": "code",
   "execution_count": null,
   "metadata": {},
   "outputs": [],
   "source": []
  }
 ],
 "metadata": {
  "kernelspec": {
   "display_name": "Python 3",
   "language": "python",
   "name": "python3"
  },
  "language_info": {
   "codemirror_mode": {
    "name": "ipython",
    "version": 3
   },
   "file_extension": ".py",
   "mimetype": "text/x-python",
   "name": "python",
   "nbconvert_exporter": "python",
   "pygments_lexer": "ipython3",
   "version": "3.7.3"
  }
 },
 "nbformat": 4,
 "nbformat_minor": 4
}
